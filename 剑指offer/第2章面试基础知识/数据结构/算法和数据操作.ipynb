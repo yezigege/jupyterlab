{
 "cells": [
  {
   "cell_type": "code",
   "execution_count": 1,
   "metadata": {},
   "outputs": [
    {
     "name": "stdout",
     "output_type": "stream",
     "text": [
      "1\n"
     ]
    }
   ],
   "source": [
    "\"\"\"\n",
    "面试题8：旋转数组中的最小数字\n",
    "把一个数组最开始的若干个元素搬到数组的末尾，我们称之为数组的旋转。输入一个递增排序的数组的一个旋转，输出旋转数组的最小元素。\n",
    "例如，数组 [3,4,5,1,2] 为 [1,2,3,4,5] 的一个旋转，该数组的最小值为1。\n",
    "\n",
    "领扣：https://leetcode-cn.com/problems/xuan-zhuan-shu-zu-de-zui-xiao-shu-zi-lcof/solution/mian-shi-ti-11-xuan-zhuan-shu-zu-de-zui-xiao-shu-3/\n",
    "\"\"\"\n",
    "def minArray(numbers):\n",
    "    i, j = 0, len(numbers) - 1\n",
    "    while i < j:\n",
    "        m = (i + j) // 2\n",
    "        if numbers[m] > numbers[j]:\n",
    "            i = m + 1\n",
    "        elif numbers[m] < numbers[j]:\n",
    "            j = m\n",
    "        else:\n",
    "            j -= 1\n",
    "    return numbers[i]\n",
    "\n",
    "if __name__ == '__main__':\n",
    "    numbers = [3, 4, 5, 1, 2]\n",
    "    res = minArray(numbers)\n",
    "    print(res)"
   ]
  },
  {
   "cell_type": "code",
   "execution_count": 3,
   "metadata": {},
   "outputs": [
    {
     "name": "stdout",
     "output_type": "stream",
     "text": [
      "5\n"
     ]
    }
   ],
   "source": [
    "\"\"\"\n",
    "面试题9：斐波那契数列\n",
    "写一个函数，输入 n ，求斐波那契（Fibonacci）数列的第 n 项。斐波那契数列的定义如下：\n",
    "\n",
    "F(0) = 0,   F(1) = 1\n",
    "F(N) = F(N - 1) + F(N - 2), 其中 N > 1.\n",
    "斐波那契数列由 0 和 1 开始，之后的斐波那契数就是由之前的两数相加而得出。\n",
    "\n",
    "答案需要取模 1e9+7（1000000007），如计算初始结果为：1000000008，请返回 1。\n",
    "\n",
    "来源：力扣（LeetCode）\n",
    "链接：https://leetcode-cn.com/problems/fei-bo-na-qi-shu-lie-lcof\n",
    "\"\"\"\n",
    "from functools import lru_cache\n",
    "\n",
    "@lru_cache()\n",
    "def fib(n):\n",
    "    a, b = 0, 1\n",
    "    for _ in range(n):\n",
    "        a, b = b, a + b\n",
    "    return a\n",
    "\n",
    "if __name__ == '__main__':\n",
    "    res = fib(5)\n",
    "    print(res)"
   ]
  },
  {
   "cell_type": "code",
   "execution_count": 8,
   "metadata": {},
   "outputs": [
    {
     "name": "stdout",
     "output_type": "stream",
     "text": [
      "2\n"
     ]
    }
   ],
   "source": [
    "\"\"\"\n",
    "面试题10：求一个数字的二进制表示中 1 的个数\n",
    "\"\"\"\n",
    "# 方法一：利用python本身的语言特性\n",
    "def hammingWeight(num):\n",
    "    return bin(num).count('1')\n",
    "\n",
    "\n",
    "# 方法二：逐位判断\n",
    "# https://leetcode-cn.com/problems/er-jin-zhi-zhong-1de-ge-shu-lcof/solution/mian-shi-ti-15-er-jin-zhi-zhong-1de-ge-shu-wei-yun/\n",
    "def hammingWeight2(n):\n",
    "    res = 0\n",
    "    while n:\n",
    "        res += n & 1\n",
    "        n >>= 1\n",
    "    return res\n",
    "\n",
    "\n",
    "if __name__ == '__main__':\n",
    "#     res = hammingWeight(10)\n",
    "    res = hammingWeight2(10)\n",
    "    print(res)"
   ]
  },
  {
   "cell_type": "code",
   "execution_count": null,
   "metadata": {},
   "outputs": [],
   "source": []
  }
 ],
 "metadata": {
  "kernelspec": {
   "display_name": "Python 3",
   "language": "python",
   "name": "python3"
  },
  "language_info": {
   "codemirror_mode": {
    "name": "ipython",
    "version": 3
   },
   "file_extension": ".py",
   "mimetype": "text/x-python",
   "name": "python",
   "nbconvert_exporter": "python",
   "pygments_lexer": "ipython3",
   "version": "3.7.3"
  }
 },
 "nbformat": 4,
 "nbformat_minor": 4
}
