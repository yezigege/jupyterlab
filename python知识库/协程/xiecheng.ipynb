{
 "cells": [
  {
   "cell_type": "code",
   "execution_count": 1,
   "metadata": {},
   "outputs": [
    {
     "data": {
      "text/plain": [
       "'\\n本文所有实例来源于此：https://pythonav.com/wiki/detail/6/91/\\n'"
      ]
     },
     "execution_count": 1,
     "metadata": {},
     "output_type": "execute_result"
    }
   ],
   "source": [
    "\"\"\"\n",
    "本文所有实例来源于此：https://pythonav.com/wiki/detail/6/91/\n",
    "\"\"\""
   ]
  },
  {
   "cell_type": "code",
   "execution_count": 2,
   "metadata": {},
   "outputs": [
    {
     "name": "stdout",
     "output_type": "stream",
     "text": [
      "1\n",
      "2\n",
      "3\n",
      "4\n"
     ]
    }
   ],
   "source": [
    "\"\"\"1. 协程\"\"\"\n",
    "def func1():\n",
    "    print(1)\n",
    "    print(2)\n",
    "    \n",
    "def func2():\n",
    "    print(3)\n",
    "    print(4)\n",
    "\n",
    "func1()\n",
    "func2()"
   ]
  },
  {
   "cell_type": "code",
   "execution_count": null,
   "metadata": {},
   "outputs": [],
   "source": [
    "\"\"\"\n",
    "上述代码是普通的函数定义和执行，按流程分别执行两个函数中的代码，并先后会输出：1、2、3、4。\n",
    "但如果介入协程技术那么就可以实现函数见代码切换执行，最终输入：1、3、2、4 。\n",
    "\n",
    "在Python中有多种方式可以实现协程，例如：\n",
    "\n",
    "greenlet，是一个第三方模块，用于实现协程代码（Gevent协程就是基于greenlet实现）\n",
    "yield，生成器，借助生成器的特点也可以实现协程代码。\n",
    "asyncio，在Python3.4中引入的模块用于编写协程代码。\n",
    "async & awiat，在Python3.5中引入的两个关键字，结合asyncio模块可以更方便的编写协程代码。\n",
    "\"\"\""
   ]
  },
  {
   "cell_type": "code",
   "execution_count": 4,
   "metadata": {},
   "outputs": [
    {
     "name": "stdout",
     "output_type": "stream",
     "text": [
      "Collecting greenlet\n",
      "  Downloading greenlet-0.4.15-cp37-cp37m-manylinux1_x86_64.whl (42 kB)\n",
      "\u001b[K     |████████████████████████████████| 42 kB 27 kB/s eta 0:00:01\n",
      "\u001b[?25hInstalling collected packages: greenlet\n",
      "Successfully installed greenlet-0.4.15\n"
     ]
    }
   ],
   "source": [
    "!pip3 install greenlet"
   ]
  },
  {
   "cell_type": "code",
   "execution_count": 5,
   "metadata": {},
   "outputs": [
    {
     "name": "stdout",
     "output_type": "stream",
     "text": [
      "1\n",
      "3\n",
      "2\n",
      "4\n"
     ]
    }
   ],
   "source": [
    "# 1.1 greenlet\n",
    "\n",
    "from greenlet import greenlet\n",
    "\n",
    "def func1():\n",
    "    print(1)         # tep 2：输出 1\n",
    "    gr2.switch()     # tep 3：切换到 func2\n",
    "    print(2)         # tep 6：输出2\n",
    "    gr2.switch()     # tep 7：切换到 func2\n",
    "\n",
    "def func2():\n",
    "    print(3)         # tep 4：输出 3\n",
    "    gr1.switch()     # tep 5：切换到 func1\n",
    "    print(4)         # tep 8：输出 4\n",
    "    \n",
    "gr1 = greenlet(func1)\n",
    "gr2 = greenlet(func2)\n",
    "gr1.switch()  # tep 1: 执行 func1 函数"
   ]
  },
  {
   "cell_type": "code",
   "execution_count": 6,
   "metadata": {},
   "outputs": [
    {
     "name": "stdout",
     "output_type": "stream",
     "text": [
      "1\n",
      "3\n",
      "4\n",
      "2\n"
     ]
    }
   ],
   "source": [
    "# 1.2 yield\n",
    "# 基于Python的生成器的yield和yield form关键字实现协程代码。\n",
    "# 注意：yield form关键字是在Python3.3中引入的。\n",
    "\n",
    "def func1():\n",
    "    yield 1\n",
    "    yield from func2()\n",
    "    yield 2\n",
    "    \n",
    "def func2():\n",
    "    yield 3\n",
    "    yield 4\n",
    "    \n",
    "\n",
    "f1 = func1()\n",
    "for item in f1:\n",
    "    print(item)"
   ]
  },
  {
   "cell_type": "code",
   "execution_count": 7,
   "metadata": {},
   "outputs": [
    {
     "name": "stdout",
     "output_type": "stream",
     "text": [
      "Collecting asyncio\n",
      "  Downloading asyncio-3.4.3-py3-none-any.whl (101 kB)\n",
      "\u001b[K     |████████████████████████████████| 101 kB 30 kB/s ta 0:00:01\n",
      "\u001b[?25hInstalling collected packages: asyncio\n",
      "Successfully installed asyncio-3.4.3\n"
     ]
    }
   ],
   "source": [
    "!pip3 install asyncio"
   ]
  },
  {
   "cell_type": "code",
   "execution_count": 15,
   "metadata": {},
   "outputs": [
    {
     "name": "stdout",
     "output_type": "stream",
     "text": [
      "Collecting nest_asyncio\n",
      "  Downloading nest_asyncio-1.3.3-py3-none-any.whl (4.7 kB)\n",
      "Installing collected packages: nest-asyncio\n",
      "Successfully installed nest-asyncio-1.3.3\n"
     ]
    }
   ],
   "source": [
    "!pip3 install nest_asyncio"
   ]
  },
  {
   "cell_type": "code",
   "execution_count": 20,
   "metadata": {},
   "outputs": [
    {
     "name": "stdout",
     "output_type": "stream",
     "text": [
      "1\n",
      "3\n",
      "2\n",
      "4\n"
     ]
    },
    {
     "data": {
      "text/plain": [
       "({<Task finished coro=<func1() done, defined at <ipython-input-20-758f89ec211e>:8> result=None>,\n",
       "  <Task finished coro=<func2() done, defined at <ipython-input-20-758f89ec211e>:15> result=None>},\n",
       " set())"
      ]
     },
     "execution_count": 20,
     "metadata": {},
     "output_type": "execute_result"
    }
   ],
   "source": [
    "# 1.3 \n",
    "# 在Python3.4之前官方未提供协程的类库，一般大家都是使用greenlet等其他来实现。在Python3.4发布后官方正式支持协程，即：asyncio模块。\n",
    "\n",
    "import asyncio\n",
    "import nest_asyncio\n",
    "nest_asyncio.apply()\n",
    "\n",
    "@asyncio.coroutine\n",
    "def func1():\n",
    "    print(1)\n",
    "    yield from asyncio.sleep(2)   # 遇到IO耗时操作，自动化切换到tasks中的其他任务\n",
    "    print(2)\n",
    "    \n",
    "    \n",
    "@asyncio.coroutine\n",
    "def func2():\n",
    "    print(3)\n",
    "    yield from asyncio.sleep(2)   # 遇到IO耗时操作，自动化切换到tasks中的其他任务\n",
    "    print(4)\n",
    "    \n",
    "    \n",
    "tasks = [\n",
    "    asyncio.ensure_future( func1() ),\n",
    "    asyncio.ensure_future( func2() )\n",
    "]\n",
    "\n",
    "loop = asyncio.get_event_loop()\n",
    "loop.run_until_complete(asyncio.wait(tasks))"
   ]
  },
  {
   "cell_type": "code",
   "execution_count": 19,
   "metadata": {},
   "outputs": [
    {
     "name": "stdout",
     "output_type": "stream",
     "text": [
      "1\n",
      "3\n",
      "2\n",
      "4\n"
     ]
    },
    {
     "data": {
      "text/plain": [
       "({<Task finished coro=<func1() done, defined at <ipython-input-19-d387130df2d7>:10> result=None>,\n",
       "  <Task finished coro=<func2() done, defined at <ipython-input-19-d387130df2d7>:15> result=None>},\n",
       " set())"
      ]
     },
     "execution_count": 19,
     "metadata": {},
     "output_type": "execute_result"
    }
   ],
   "source": [
    "# 1.4 async & await\n",
    "# async & awit 关键字在Python3.5版本中正式引入，基于他编写的协程代码其实就是 上一示例 的加强版，让代码可以更加简便。\n",
    "# Python3.8之后 @asyncio.coroutine 装饰器就会被移除，推荐使用async & awit 关键字实现协程代码。\n",
    "\n",
    "import nest_asyncio\n",
    "nest_asyncio.apply()\n",
    "# import asyncio\n",
    "\n",
    "\n",
    "async def func1():\n",
    "    print(1)\n",
    "    await asyncio.sleep(2)\n",
    "    print(2)\n",
    "    \n",
    "async def func2():\n",
    "    print(3)\n",
    "    await asyncio.sleep(2)\n",
    "    print(4)\n",
    "    \n",
    "tasks = [\n",
    "    asyncio.ensure_future(func1()),\n",
    "    asyncio.ensure_future(func2())\n",
    "]\n",
    "\n",
    "loop = asyncio.get_event_loop()\n",
    "loop.run_until_complete(asyncio.wait(tasks))"
   ]
  },
  {
   "cell_type": "code",
   "execution_count": 21,
   "metadata": {},
   "outputs": [
    {
     "name": "stdout",
     "output_type": "stream",
     "text": [
      "Collecting requests\n",
      "  Downloading requests-2.23.0-py2.py3-none-any.whl (58 kB)\n",
      "\u001b[K     |████████████████████████████████| 58 kB 18 kB/s eta 0:00:01\n",
      "\u001b[?25hCollecting chardet<4,>=3.0.2\n",
      "  Downloading chardet-3.0.4-py2.py3-none-any.whl (133 kB)\n",
      "\u001b[K     |████████████████████████████████| 133 kB 12 kB/s eta 0:00:01\n",
      "\u001b[?25hCollecting urllib3!=1.25.0,!=1.25.1,<1.26,>=1.21.1\n",
      "  Downloading urllib3-1.25.9-py2.py3-none-any.whl (126 kB)\n",
      "\u001b[K     |████████████████████████████████| 126 kB 6.8 kB/s ta 0:00:01\n",
      "\u001b[?25hCollecting idna<3,>=2.5\n",
      "  Downloading idna-2.9-py2.py3-none-any.whl (58 kB)\n",
      "\u001b[K     |████████████████████████████████| 58 kB 9.8 kB/s eta 0:00:01\n",
      "\u001b[?25hCollecting certifi>=2017.4.17\n",
      "  Downloading certifi-2020.4.5.1-py2.py3-none-any.whl (157 kB)\n",
      "\u001b[K     |████████████████████████████████| 157 kB 10 kB/s eta 0:00:01\n",
      "\u001b[?25hInstalling collected packages: chardet, urllib3, idna, certifi, requests\n",
      "Successfully installed certifi-2020.4.5.1 chardet-3.0.4 idna-2.9 requests-2.23.0 urllib3-1.25.9\n"
     ]
    }
   ],
   "source": [
    "# 2.1 爬虫案例\n",
    "\n",
    "# 方式一：同步编程实现\n",
    "!pip3 install requests"
   ]
  },
  {
   "cell_type": "code",
   "execution_count": null,
   "metadata": {},
   "outputs": [],
   "source": [
    "\"\"\"\n",
    "下载图片使用第三方模块requests，请提前安装：pip3 install requests\n",
    "\"\"\"\n",
    "import requests\n",
    "def download_image(url):\n",
    "    print(\"开始下载:\",url)\n",
    "    # 发送网络请求，下载图片\n",
    "    response = requests.get(url)\n",
    "    print(\"下载完成\")\n",
    "    # 图片保存到本地文件\n",
    "    file_name = url.rsplit('_')[-1]\n",
    "    with open(file_name, mode='wb') as file_object:\n",
    "        file_object.write(response.content)\n",
    "if __name__ == '__main__':\n",
    "    url_list = [\n",
    "        'https://www3.autoimg.cn/newsdfs/g26/M02/35/A9/120x90_0_autohomecar__ChsEe12AXQ6AOOH_AAFocMs8nzU621.jpg',\n",
    "        'https://www2.autoimg.cn/newsdfs/g30/M01/3C/E2/120x90_0_autohomecar__ChcCSV2BBICAUntfAADjJFd6800429.jpg',\n",
    "        'https://www3.autoimg.cn/newsdfs/g26/M0B/3C/65/120x90_0_autohomecar__ChcCP12BFCmAIO83AAGq7vK0sGY193.jpg'\n",
    "    ]\n",
    "    for item in url_list:\n",
    "        download_image(item)"
   ]
  },
  {
   "cell_type": "code",
   "execution_count": 22,
   "metadata": {},
   "outputs": [
    {
     "name": "stdout",
     "output_type": "stream",
     "text": [
      "Collecting aiohttp\n",
      "  Downloading aiohttp-3.6.2-cp37-cp37m-manylinux1_x86_64.whl (1.2 MB)\n",
      "\u001b[K     |████████████████████████████████| 1.2 MB 14 kB/s eta 0:00:010\n",
      "\u001b[?25hCollecting yarl<2.0,>=1.0\n",
      "  Downloading yarl-1.4.2-cp37-cp37m-manylinux1_x86_64.whl (256 kB)\n",
      "\u001b[K     |████████████████████████████████| 256 kB 15 kB/s eta 0:00:01\n",
      "\u001b[?25hRequirement already satisfied: attrs>=17.3.0 in /usr/local/python3/lib/python3.7/site-packages (from aiohttp) (19.3.0)\n",
      "Collecting multidict<5.0,>=4.5\n",
      "  Downloading multidict-4.7.6-cp37-cp37m-manylinux1_x86_64.whl (149 kB)\n",
      "\u001b[K     |████████████████████████████████| 149 kB 20 kB/s eta 0:00:01\n",
      "\u001b[?25hCollecting async-timeout<4.0,>=3.0\n",
      "  Downloading async_timeout-3.0.1-py3-none-any.whl (8.2 kB)\n",
      "Requirement already satisfied: chardet<4.0,>=2.0 in /usr/local/python3/lib/python3.7/site-packages (from aiohttp) (3.0.4)\n",
      "Requirement already satisfied: idna>=2.0 in /usr/local/python3/lib/python3.7/site-packages (from yarl<2.0,>=1.0->aiohttp) (2.9)\n",
      "Installing collected packages: multidict, yarl, async-timeout, aiohttp\n",
      "Successfully installed aiohttp-3.6.2 async-timeout-3.0.1 multidict-4.7.6 yarl-1.4.2\n"
     ]
    }
   ],
   "source": [
    "!pip3 install aiohttp"
   ]
  },
  {
   "cell_type": "code",
   "execution_count": null,
   "metadata": {},
   "outputs": [],
   "source": [
    "# 方法二：基于协程的异步实现\n",
    "#!/usr/bin/env python\n",
    "# -*- coding:utf-8 -*-\n",
    "import aiohttp\n",
    "import asyncio\n",
    "async def fetch(session, url):\n",
    "    print(\"发送请求：\", url)\n",
    "    async with session.get(url, verify_ssl=False) as response:\n",
    "        content = await response.content.read()\n",
    "        file_name = url.rsplit('_')[-1]\n",
    "        with open(file_name, mode='wb') as file_object:\n",
    "            file_object.write(content)\n",
    "async def main():\n",
    "    async with aiohttp.ClientSession() as session:\n",
    "        url_list = [\n",
    "            'https://www3.autoimg.cn/newsdfs/g26/M02/35/A9/120x90_0_autohomecar__ChsEe12AXQ6AOOH_AAFocMs8nzU621.jpg',\n",
    "            'https://www2.autoimg.cn/newsdfs/g30/M01/3C/E2/120x90_0_autohomecar__ChcCSV2BBICAUntfAADjJFd6800429.jpg',\n",
    "            'https://www3.autoimg.cn/newsdfs/g26/M0B/3C/65/120x90_0_autohomecar__ChcCP12BFCmAIO83AAGq7vK0sGY193.jpg'\n",
    "        ]\n",
    "        tasks = [asyncio.create_task(fetch(session, url)) for url in url_list]\n",
    "        await asyncio.wait(tasks)\n",
    "if __name__ == '__main__':\n",
    "    asyncio.run(main())"
   ]
  },
  {
   "cell_type": "code",
   "execution_count": null,
   "metadata": {},
   "outputs": [],
   "source": [
    "\"\"\"\n",
    "3 异步编程\n",
    "\"\"\"\n",
    "# 3.1 事件循环\n",
    "# 伪代码\n",
    "任务列表 = [ 任务1, 任务2, 任务3,... ]\n",
    "while True:\n",
    "    可执行的任务列表，已完成的任务列表 = 去任务列表中检查所有的任务，将'可执行'和'已完成'的任务返回\n",
    "    for 就绪任务 in 已准备就绪的任务列表:\n",
    "        执行已就绪的任务\n",
    "    for 已完成的任务 in 已完成的任务列表:\n",
    "        在任务列表中移除 已完成的任务\n",
    "    如果 任务列表 中的任务都已完成，则终止循环\n",
    "    \n",
    "    \n",
    "# 在编写程序时候可以通过如下代码来获取和创建事件循环。\n",
    "\n",
    "import asyncio\n",
    "\n",
    "loop = asyncio.get_event_loop()"
   ]
  },
  {
   "cell_type": "code",
   "execution_count": 23,
   "metadata": {},
   "outputs": [
    {
     "name": "stdout",
     "output_type": "stream",
     "text": [
      "协程内部代码\n"
     ]
    }
   ],
   "source": [
    "# 3.2.1 基本应用\n",
    "# 程序中，如果想要执行协程函数的内部代码，需要 事件循环 和 协程对象 配合才能实现，如：\n",
    "import nest_asyncio\n",
    "nest_asyncio.apply()\n",
    "# import asyncio\n",
    "\n",
    "async def func():\n",
    "    print(\"协程内部代码\")\n",
    "# 调用协程函数，返回一个协程对象。\n",
    "result = func()\n",
    "# 方式一\n",
    "# loop = asyncio.get_event_loop() # 创建一个事件循环\n",
    "# loop.run_until_complete(result) # 将协程当做任务提交到事件循环的任务列表中，协程执行完成之后终止。\n",
    "# 方式二\n",
    "# 本质上方式一是一样的，内部先 创建事件循环 然后执行 run_until_complete，一个简便的写法。\n",
    "# asyncio.run 函数在 Python 3.7 中加入 asyncio 模块，\n",
    "asyncio.run(result)"
   ]
  },
  {
   "cell_type": "code",
   "execution_count": 26,
   "metadata": {},
   "outputs": [
    {
     "name": "stdout",
     "output_type": "stream",
     "text": [
      "执行协程函数内部代码\n",
      "IO 请求结束， 结果为：None\n"
     ]
    }
   ],
   "source": [
    "# 3.2.2 \n",
    "# await是一个只能在协程函数中使用的关键字，用于遇到IO操作时挂起 当前协程（任务），当前协程（任务）挂起过程中 事件循环可以去执行其他的协程（任务），\n",
    "# 当前协程IO处理完成时，可以再次切换回来执行await之后的代码。代码如下：\n",
    "\n",
    "# 示例 一\n",
    "import nest_asyncio\n",
    "nest_asyncio.apply()\n",
    "# import asyncio\n",
    "\n",
    "async def func():\n",
    "    print(\"执行协程函数内部代码\")\n",
    "    \n",
    "    # 遇到 IO 操作挂起当前协程(任务)， 等 IO 操作完成之后再继续往下执行\n",
    "    # 当前协程挂起时，事件循环可以去执行其他协程(任务)\n",
    "    \n",
    "    response = await asyncio.sleep(2)\n",
    "    \n",
    "    print(f\"IO 请求结束， 结果为：{response}\")\n",
    "\n",
    "result = func()\n",
    "\n",
    "asyncio.run(result)"
   ]
  },
  {
   "cell_type": "code",
   "execution_count": 27,
   "metadata": {},
   "outputs": [
    {
     "name": "stdout",
     "output_type": "stream",
     "text": [
      "执行协程函数内部代码\n",
      "start\n",
      "end\n",
      "IO请求结束，结果为： 返回值\n"
     ]
    }
   ],
   "source": [
    "# 示例 二\n",
    "import nest_asyncio\n",
    "nest_asyncio.apply()\n",
    "# import asyncio\n",
    "\n",
    "async def others():\n",
    "    print(\"start\")\n",
    "    await asyncio.sleep(2)\n",
    "    print('end')\n",
    "    return '返回值'\n",
    "\n",
    "async def func():\n",
    "    print(\"执行协程函数内部代码\")\n",
    "    # 遇到IO操作挂起当前协程（任务），等IO操作完成之后再继续往下执行。当前协程挂起时，事件循环可以去执行其他协程（任务）。\n",
    "    response = await others()\n",
    "    print(\"IO请求结束，结果为：\", response)\n",
    "    \n",
    "asyncio.run(func())"
   ]
  },
  {
   "cell_type": "code",
   "execution_count": 28,
   "metadata": {},
   "outputs": [
    {
     "name": "stdout",
     "output_type": "stream",
     "text": [
      "执行协程函数内部代码\n",
      "start\n",
      "end\n",
      "IO请求结束，结果为： 返回值\n",
      "start\n",
      "end\n",
      "IO请求结束，结果为： 返回值\n"
     ]
    }
   ],
   "source": [
    "# 示例 三\n",
    "import nest_asyncio\n",
    "nest_asyncio.apply()\n",
    "# import asyncio\n",
    "\n",
    "async def others():\n",
    "    print(\"start\")\n",
    "    await asyncio.sleep(2)\n",
    "    print('end')\n",
    "    return '返回值'\n",
    "\n",
    "async def func():\n",
    "    print(\"执行协程函数内部代码\")\n",
    "    # 遇到IO操作挂起当前协程（任务），等IO操作完成之后再继续往下执行。当前协程挂起时，事件循环可以去执行其他协程（任务）。\n",
    "    response1 = await others()\n",
    "    print(\"IO请求结束，结果为：\", response1)\n",
    "    response2 = await others()\n",
    "    print(\"IO请求结束，结果为：\", response2)\n",
    "    \n",
    "asyncio.run(func())"
   ]
  },
  {
   "cell_type": "code",
   "execution_count": null,
   "metadata": {},
   "outputs": [],
   "source": [
    "# 上述的所有示例都只是创建了一个任务，即：事件循环的任务列表中只有一个任务，所以在IO等待时无法演示切换到其他任务效果。\n",
    "\n",
    "# 在程序想要创建多个任务对象，需要使用Task对象来实现。"
   ]
  },
  {
   "cell_type": "code",
   "execution_count": 29,
   "metadata": {},
   "outputs": [
    {
     "name": "stdout",
     "output_type": "stream",
     "text": [
      "main开始\n",
      "main结束\n",
      "1\n",
      "1\n",
      "2\n",
      "2\n",
      "返回值 返回值\n"
     ]
    }
   ],
   "source": [
    "# 3.2.3 Task 对象\n",
    "\"\"\"\n",
    "Tasks用于并发调度协程，通过 asyncio.create_task(协程对象) 的方式创建Task对象，这样可以让协程加入事件循环中等待被调度执行。\n",
    "除了使用 asyncio.create_task() 函数以外，还可以用低层级的 loop.create_task() 或 ensure_future() 函数。不建议手动实例化 Task 对象。\n",
    "\n",
    "本质上是将协程对象封装成task对象，并将协程立即加入事件循环，同时追踪协程的状态。\n",
    "\n",
    "注意：asyncio.create_task() 函数在 Python 3.7 中被加入。在 Python 3.7 之前，可以改用低层级的 asyncio.ensure_future() 函数。\n",
    "\"\"\"\n",
    "\n",
    "# 示例 一\n",
    "\n",
    "import nest_asyncio\n",
    "nest_asyncio.apply()\n",
    "# import asyncio\n",
    "\n",
    "async def func():\n",
    "    print(1)\n",
    "    await asyncio.sleep(2)\n",
    "    print(2)\n",
    "    return \"返回值\"\n",
    "\n",
    "async def main():\n",
    "    print(\"main开始\")\n",
    "    # 创建协程，将协程封装到一个Task对象中并立即添加到事件循环的任务列表中，等待事件循环去执行（默认是就绪状态）。\n",
    "    task1 = asyncio.create_task(func())\n",
    "    # 创建协程，将协程封装到一个Task对象中并立即添加到事件循环的任务列表中，等待事件循环去执行（默认是就绪状态）。\n",
    "    task2 = asyncio.create_task(func())\n",
    "    print(\"main结束\")\n",
    "    # 当执行某协程遇到IO操作时，会自动化切换执行其他任务。\n",
    "    # 此处的await是等待相对应的协程全都执行完毕并获取结果\n",
    "    ret1 = await task1\n",
    "    ret2 = await task2\n",
    "    print(ret1, ret2)\n",
    "    \n",
    "asyncio.run(main())"
   ]
  },
  {
   "cell_type": "code",
   "execution_count": 31,
   "metadata": {},
   "outputs": [
    {
     "name": "stdout",
     "output_type": "stream",
     "text": [
      "main开始\n",
      "main结束\n",
      "1\n",
      "1\n",
      "2\n",
      "2\n",
      "{<Task finished coro=<func() done, defined at <ipython-input-31-84f5dc99cb33>:7> result='返回值'>, <Task finished coro=<func() done, defined at <ipython-input-31-84f5dc99cb33>:7> result='返回值'>} set()\n"
     ]
    }
   ],
   "source": [
    "# 示例 二\n",
    "\n",
    "import nest_asyncio\n",
    "nest_asyncio.apply()\n",
    "# import asyncio\n",
    "\n",
    "async def func():\n",
    "    print(1)\n",
    "    await asyncio.sleep(2)\n",
    "    print(2)\n",
    "    return \"返回值\"\n",
    "\n",
    "async def main():\n",
    "    print(\"main开始\")\n",
    "    # 创建协程，将协程封装到Task对象中并添加到事件循环的任务列表中，等待事件循环去执行（默认是就绪状态）。\n",
    "    # 在调用\n",
    "    task_list = [\n",
    "        asyncio.create_task(func()),\n",
    "        asyncio.create_task(func())\n",
    "    ]\n",
    "    print(\"main结束\")\n",
    "    # 当执行某协程遇到IO操作时，会自动化切换执行其他任务。\n",
    "    # 此处的await是等待所有协程执行完毕，并将所有协程的返回值保存到done\n",
    "    # 如果设置了timeout值，则意味着此处最多等待的秒，完成的协程返回值写入到done中，未完成则写到pending中。\n",
    "    done, pending = await asyncio.wait(task_list, timeout=None)\n",
    "    print(done, pending)\n",
    "    \n",
    "asyncio.run(main())"
   ]
  },
  {
   "cell_type": "code",
   "execution_count": 32,
   "metadata": {},
   "outputs": [
    {
     "name": "stdout",
     "output_type": "stream",
     "text": [
      "执行协程函数内部代码\n",
      "执行协程函数内部代码\n",
      "IO请求结束，结果为： None\n",
      "IO请求结束，结果为： None\n"
     ]
    }
   ],
   "source": [
    "# 示例 三\n",
    "\n",
    "import nest_asyncio\n",
    "nest_asyncio.apply()\n",
    "# import asyncio\n",
    "\n",
    "async def func():\n",
    "    print(\"执行协程函数内部代码\")\n",
    "    # 遇到IO操作挂起当前协程（任务），等IO操作完成之后再继续往下执行。当前协程挂起时，事件循环可以去执行其他协程（任务）。\n",
    "    response = await asyncio.sleep(2)\n",
    "    print(\"IO请求结束，结果为：\", response)\n",
    "    \n",
    "coroutine_list = [func(), func()]\n",
    "# 错误：coroutine_list = [ asyncio.create_task(func()), asyncio.create_task(func()) ]  \n",
    "# 此处不能直接 asyncio.create_task，因为将Task立即加入到事件循环的任务列表，\n",
    "# 但此时事件循环还未创建，所以会报错。\n",
    "# 使用asyncio.wait将列表封装为一个协程，并调用asyncio.run实现执行两个协程\n",
    "# asyncio.wait内部会对列表中的每个协程执行ensure_future，封装为Task对象。\n",
    "\n",
    "done,pending = asyncio.run(asyncio.wait(coroutine_list))"
   ]
  },
  {
   "cell_type": "code",
   "execution_count": 33,
   "metadata": {},
   "outputs": [
    {
     "ename": "KeyboardInterrupt",
     "evalue": "",
     "output_type": "error",
     "traceback": [
      "\u001b[0;31m---------------------------------------------------------------------------\u001b[0m",
      "\u001b[0;31mKeyboardInterrupt\u001b[0m                         Traceback (most recent call last)",
      "\u001b[0;32m<ipython-input-33-5550cf476a48>\u001b[0m in \u001b[0;36m<module>\u001b[0;34m\u001b[0m\n\u001b[1;32m     21\u001b[0m     \u001b[0;32mawait\u001b[0m \u001b[0mfut\u001b[0m\u001b[0;34m\u001b[0m\u001b[0;34m\u001b[0m\u001b[0m\n\u001b[1;32m     22\u001b[0m \u001b[0;34m\u001b[0m\u001b[0m\n\u001b[0;32m---> 23\u001b[0;31m \u001b[0masyncio\u001b[0m\u001b[0;34m.\u001b[0m\u001b[0mrun\u001b[0m\u001b[0;34m(\u001b[0m\u001b[0mmain\u001b[0m\u001b[0;34m(\u001b[0m\u001b[0;34m)\u001b[0m\u001b[0;34m)\u001b[0m\u001b[0;34m\u001b[0m\u001b[0;34m\u001b[0m\u001b[0m\n\u001b[0m",
      "\u001b[0;32m/usr/local/python3/lib/python3.7/site-packages/nest_asyncio.py\u001b[0m in \u001b[0;36mrun\u001b[0;34m(future, debug)\u001b[0m\n\u001b[1;32m     27\u001b[0m         \u001b[0mloop\u001b[0m \u001b[0;34m=\u001b[0m \u001b[0masyncio\u001b[0m\u001b[0;34m.\u001b[0m\u001b[0mget_event_loop\u001b[0m\u001b[0;34m(\u001b[0m\u001b[0;34m)\u001b[0m\u001b[0;34m\u001b[0m\u001b[0;34m\u001b[0m\u001b[0m\n\u001b[1;32m     28\u001b[0m         \u001b[0mloop\u001b[0m\u001b[0;34m.\u001b[0m\u001b[0mset_debug\u001b[0m\u001b[0;34m(\u001b[0m\u001b[0mdebug\u001b[0m\u001b[0;34m)\u001b[0m\u001b[0;34m\u001b[0m\u001b[0;34m\u001b[0m\u001b[0m\n\u001b[0;32m---> 29\u001b[0;31m         \u001b[0;32mreturn\u001b[0m \u001b[0mloop\u001b[0m\u001b[0;34m.\u001b[0m\u001b[0mrun_until_complete\u001b[0m\u001b[0;34m(\u001b[0m\u001b[0mfuture\u001b[0m\u001b[0;34m)\u001b[0m\u001b[0;34m\u001b[0m\u001b[0;34m\u001b[0m\u001b[0m\n\u001b[0m\u001b[1;32m     30\u001b[0m \u001b[0;34m\u001b[0m\u001b[0m\n\u001b[1;32m     31\u001b[0m     \u001b[0;32mif\u001b[0m \u001b[0msys\u001b[0m\u001b[0;34m.\u001b[0m\u001b[0mversion_info\u001b[0m \u001b[0;34m>=\u001b[0m \u001b[0;34m(\u001b[0m\u001b[0;36m3\u001b[0m\u001b[0;34m,\u001b[0m \u001b[0;36m6\u001b[0m\u001b[0;34m,\u001b[0m \u001b[0;36m0\u001b[0m\u001b[0;34m)\u001b[0m\u001b[0;34m:\u001b[0m\u001b[0;34m\u001b[0m\u001b[0;34m\u001b[0m\u001b[0m\n",
      "\u001b[0;32m/usr/local/python3/lib/python3.7/site-packages/nest_asyncio.py\u001b[0m in \u001b[0;36mrun_until_complete\u001b[0;34m(self, future)\u001b[0m\n\u001b[1;32m     52\u001b[0m             \u001b[0mf\u001b[0m\u001b[0;34m.\u001b[0m\u001b[0m_log_destroy_pending\u001b[0m \u001b[0;34m=\u001b[0m \u001b[0;32mFalse\u001b[0m\u001b[0;34m\u001b[0m\u001b[0;34m\u001b[0m\u001b[0m\n\u001b[1;32m     53\u001b[0m         \u001b[0;32mwhile\u001b[0m \u001b[0;32mnot\u001b[0m \u001b[0mf\u001b[0m\u001b[0;34m.\u001b[0m\u001b[0mdone\u001b[0m\u001b[0;34m(\u001b[0m\u001b[0;34m)\u001b[0m\u001b[0;34m:\u001b[0m\u001b[0;34m\u001b[0m\u001b[0;34m\u001b[0m\u001b[0m\n\u001b[0;32m---> 54\u001b[0;31m             \u001b[0mself\u001b[0m\u001b[0;34m.\u001b[0m\u001b[0m_run_once\u001b[0m\u001b[0;34m(\u001b[0m\u001b[0;34m)\u001b[0m\u001b[0;34m\u001b[0m\u001b[0;34m\u001b[0m\u001b[0m\n\u001b[0m\u001b[1;32m     55\u001b[0m             \u001b[0;32mif\u001b[0m \u001b[0mself\u001b[0m\u001b[0;34m.\u001b[0m\u001b[0m_stopping\u001b[0m\u001b[0;34m:\u001b[0m\u001b[0;34m\u001b[0m\u001b[0;34m\u001b[0m\u001b[0m\n\u001b[1;32m     56\u001b[0m                 \u001b[0;32mbreak\u001b[0m\u001b[0;34m\u001b[0m\u001b[0;34m\u001b[0m\u001b[0m\n",
      "\u001b[0;32m/usr/local/python3/lib/python3.7/site-packages/nest_asyncio.py\u001b[0m in \u001b[0;36m_run_once\u001b[0;34m(self)\u001b[0m\n\u001b[1;32m     73\u001b[0m             \u001b[0;32melse\u001b[0m \u001b[0mmin\u001b[0m\u001b[0;34m(\u001b[0m\u001b[0mmax\u001b[0m\u001b[0;34m(\u001b[0m\u001b[0;36m0\u001b[0m\u001b[0;34m,\u001b[0m \u001b[0mscheduled\u001b[0m\u001b[0;34m[\u001b[0m\u001b[0;36m0\u001b[0m\u001b[0;34m]\u001b[0m\u001b[0;34m.\u001b[0m\u001b[0m_when\u001b[0m \u001b[0;34m-\u001b[0m \u001b[0mnow\u001b[0m\u001b[0;34m)\u001b[0m\u001b[0;34m,\u001b[0m \u001b[0;36m10\u001b[0m\u001b[0;34m)\u001b[0m \u001b[0;32mif\u001b[0m \u001b[0mscheduled\u001b[0m\u001b[0;31m \u001b[0m\u001b[0;31m\\\u001b[0m\u001b[0;34m\u001b[0m\u001b[0;34m\u001b[0m\u001b[0m\n\u001b[1;32m     74\u001b[0m             \u001b[0;32melse\u001b[0m \u001b[0;32mNone\u001b[0m\u001b[0;34m\u001b[0m\u001b[0;34m\u001b[0m\u001b[0m\n\u001b[0;32m---> 75\u001b[0;31m         \u001b[0mevent_list\u001b[0m \u001b[0;34m=\u001b[0m \u001b[0mself\u001b[0m\u001b[0;34m.\u001b[0m\u001b[0m_selector\u001b[0m\u001b[0;34m.\u001b[0m\u001b[0mselect\u001b[0m\u001b[0;34m(\u001b[0m\u001b[0mtimeout\u001b[0m\u001b[0;34m)\u001b[0m\u001b[0;34m\u001b[0m\u001b[0;34m\u001b[0m\u001b[0m\n\u001b[0m\u001b[1;32m     76\u001b[0m         \u001b[0mself\u001b[0m\u001b[0;34m.\u001b[0m\u001b[0m_process_events\u001b[0m\u001b[0;34m(\u001b[0m\u001b[0mevent_list\u001b[0m\u001b[0;34m)\u001b[0m\u001b[0;34m\u001b[0m\u001b[0;34m\u001b[0m\u001b[0m\n\u001b[1;32m     77\u001b[0m \u001b[0;34m\u001b[0m\u001b[0m\n",
      "\u001b[0;32m/usr/local/python3/lib/python3.7/selectors.py\u001b[0m in \u001b[0;36mselect\u001b[0;34m(self, timeout)\u001b[0m\n\u001b[1;32m    466\u001b[0m             \u001b[0mready\u001b[0m \u001b[0;34m=\u001b[0m \u001b[0;34m[\u001b[0m\u001b[0;34m]\u001b[0m\u001b[0;34m\u001b[0m\u001b[0;34m\u001b[0m\u001b[0m\n\u001b[1;32m    467\u001b[0m             \u001b[0;32mtry\u001b[0m\u001b[0;34m:\u001b[0m\u001b[0;34m\u001b[0m\u001b[0;34m\u001b[0m\u001b[0m\n\u001b[0;32m--> 468\u001b[0;31m                 \u001b[0mfd_event_list\u001b[0m \u001b[0;34m=\u001b[0m \u001b[0mself\u001b[0m\u001b[0;34m.\u001b[0m\u001b[0m_selector\u001b[0m\u001b[0;34m.\u001b[0m\u001b[0mpoll\u001b[0m\u001b[0;34m(\u001b[0m\u001b[0mtimeout\u001b[0m\u001b[0;34m,\u001b[0m \u001b[0mmax_ev\u001b[0m\u001b[0;34m)\u001b[0m\u001b[0;34m\u001b[0m\u001b[0;34m\u001b[0m\u001b[0m\n\u001b[0m\u001b[1;32m    469\u001b[0m             \u001b[0;32mexcept\u001b[0m \u001b[0mInterruptedError\u001b[0m\u001b[0;34m:\u001b[0m\u001b[0;34m\u001b[0m\u001b[0;34m\u001b[0m\u001b[0m\n\u001b[1;32m    470\u001b[0m                 \u001b[0;32mreturn\u001b[0m \u001b[0mready\u001b[0m\u001b[0;34m\u001b[0m\u001b[0;34m\u001b[0m\u001b[0m\n",
      "\u001b[0;31mKeyboardInterrupt\u001b[0m: "
     ]
    }
   ],
   "source": [
    "# 3.2.4 asyncio.Future 对象\n",
    "\n",
    "# asyncio中的Future对象是一个相对更偏向底层的可对象，通常我们不会直接用到这个对象，而是直接使用Task对象来完成任务的并和状态的追踪。\n",
    "#（ Task 是 Futrue的子类 ）\n",
    "\n",
    "# Future为我们提供了异步编程中的 最终结果 的处理（Task类也具备状态处理的功能）。\n",
    "\n",
    "# 示例1：\n",
    "import nest_asyncio\n",
    "nest_asyncio.apply()\n",
    "# import asyncio\n",
    "\n",
    "async def main():\n",
    "    # 获取当前事件循环\n",
    "    loop = asyncio.get_running_loop()\n",
    "    \n",
    "    # 创建一个任务(Future 对象)，这个任务什么都不干\n",
    "    fut = loop.create_future()\n",
    "    \n",
    "    # 等待任务最终结果(Future 对象)，没有结果则会一直等下去\n",
    "    await fut\n",
    "    \n",
    "asyncio.run(main())"
   ]
  },
  {
   "cell_type": "code",
   "execution_count": 34,
   "metadata": {},
   "outputs": [
    {
     "name": "stdout",
     "output_type": "stream",
     "text": [
      "666\n"
     ]
    }
   ],
   "source": [
    "# 示例 2：\n",
    "import nest_asyncio\n",
    "nest_asyncio.apply()\n",
    "# import asyncio\n",
    "\n",
    "async def set_after(fut):\n",
    "    await asyncio.sleep(2)\n",
    "    fut.set_result(\"666\")\n",
    "    \n",
    "async def main():\n",
    "    # 获取当前事件循环\n",
    "    loop = asyncio.get_running_loop()\n",
    "    # 创建一个任务（Future对象），没绑定任何行为，则这个任务永远不知道什么时候结束。\n",
    "    fut = loop.create_future()\n",
    "    # 创建一个任务（Task对象），绑定了set_after函数，函数内部在2s之后，会给fut赋值。\n",
    "    # 即手动设置future任务的最终结果，那么fut就可以结束了。\n",
    "    await loop.create_task(set_after(fut))\n",
    "    # 等待 Future对象获取 最终结果，否则一直等下去\n",
    "    data = await fut\n",
    "    print(data)\n",
    "    \n",
    "asyncio.run(main())"
   ]
  },
  {
   "cell_type": "code",
   "execution_count": 35,
   "metadata": {},
   "outputs": [
    {
     "name": "stdout",
     "output_type": "stream",
     "text": [
      "<Future at 0x7fd78df89c18 state=running>\n",
      "<Future at 0x7fd78cbd1d30 state=running>\n",
      "<Future at 0x7fd78cd6cc50 state=running>\n",
      "<Future at 0x7fd78cd6cda0 state=running>\n",
      "<Future at 0x7fd78cd6ce10 state=running>\n",
      "<Future at 0x7fd78cba3160 state=pending>\n",
      "<Future at 0x7fd78cba3240 state=pending>\n",
      "<Future at 0x7fd78cba32e8 state=pending>\n",
      "<Future at 0x7fd78cba3390 state=pending>\n",
      "<Future at 0x7fd78cba3470 state=pending>\n",
      "0\n",
      "1\n",
      "2\n",
      "3\n",
      "4\n",
      "5\n",
      "6\n",
      "7\n",
      "8\n",
      "9\n"
     ]
    }
   ],
   "source": [
    "# 3.2.5 futures.Future 对象\n",
    "# 在Python的concurrent.futures模块中也有一个Future对象，这个对象是基于线程池和进程池实现异步操作时使用的对象。\n",
    "\n",
    "import time\n",
    "from concurrent.futures import Future\n",
    "from concurrent.futures.thread import ThreadPoolExecutor\n",
    "from concurrent.futures.process import ProcessPoolExecutor\n",
    "\n",
    "\n",
    "def func(value):\n",
    "    time.sleep(1)\n",
    "    print(value)\n",
    "    \n",
    "    \n",
    "pool = ThreadPoolExecutor(max_workers=5)\n",
    "# 或 pool = ProcessPoolExecutor(max_workers=5)\n",
    "\n",
    "\n",
    "for i in range(10):\n",
    "    fut = pool.submit(func, i)\n",
    "    print(fut)"
   ]
  },
  {
   "cell_type": "code",
   "execution_count": 36,
   "metadata": {},
   "outputs": [
    {
     "name": "stdout",
     "output_type": "stream",
     "text": [
      "default thread pool SB\n",
      "custom process pool SB\n"
     ]
    }
   ],
   "source": [
    "# 两个Future对象是不同的，他们是为不同的应用场景而设计，例如：concurrent.futures.Future不支持await语法 等。\n",
    "\"\"\"\n",
    "在Python提供了一个将futures.Future 对象包装成asyncio.Future对象的函数 asynic.wrap_future。\n",
    "\n",
    "接下里你肯定问：为什么python会提供这种功能？\n",
    "\n",
    "其实，一般在程序开发中我们要么统一使用 asycio 的协程实现异步操作、要么都使用进程池和线程池实现异步操作。\n",
    "但如果 协程的异步和 进程池/线程池的异步 混搭时，那么就会用到此功能了。\n",
    "\"\"\"\n",
    "\n",
    "import time\n",
    "# import asyncio\n",
    "import nest_asyncio\n",
    "nest_asyncio.apply()\n",
    "import concurrent.futures\n",
    "\n",
    "\n",
    "def func1():\n",
    "    # 某个耗时操作\n",
    "    time.sleep(2)\n",
    "    return \"SB\"\n",
    "\n",
    "\n",
    "async def main():\n",
    "    loop = asyncio.get_running_loop()\n",
    "    # 1. Run in the default loop's executor ( 默认ThreadPoolExecutor )\n",
    "    # 第一步：内部会先调用 ThreadPoolExecutor 的 submit 方法去线程池中申请一个线程去执行func1函数，并返回一个concurrent.futures.Future对象\n",
    "    # 第二步：调用asyncio.wrap_future将concurrent.futures.Future对象包装为asycio.Future对象。\n",
    "    # 因为concurrent.futures.Future对象不支持await语法，所以需要包装为 asycio.Future对象 才能使用。\n",
    "    fut = loop.run_in_executor(None, func1)\n",
    "    result = await fut\n",
    "    print('default thread pool', result)\n",
    "    # 2. Run in a custom thread pool:\n",
    "    # with concurrent.futures.ThreadPoolExecutor() as pool:\n",
    "    #     result = await loop.run_in_executor(\n",
    "    #         pool, func1)\n",
    "    #     print('custom thread pool', result)\n",
    "    # 3. Run in a custom process pool:\n",
    "    with concurrent.futures.ProcessPoolExecutor() as pool:\n",
    "        result = await loop.run_in_executor(\n",
    "            pool, func1)\n",
    "        print('custom process pool', result)\n",
    "    \n",
    "    \n",
    "asyncio.run(main())"
   ]
  },
  {
   "cell_type": "code",
   "execution_count": null,
   "metadata": {},
   "outputs": [],
   "source": [
    "# 应用场景：当项目以协程式的异步编程开发时，如果要使用一个第三方模块，而第三方模块不支持协程方式异步编程时，就需要用到这个功能，例如：\n",
    "\n",
    "import nest_asyncio\n",
    "nest_asyncio.apply()\n",
    "import requests\n",
    "\n",
    "\n",
    "async def download_image(url):\n",
    "    # 发送网络请求，下载图片（遇到网络下载图片的IO请求，自动化切换到其他任务）\n",
    "    print(\"开始下载:\", url)\n",
    "    loop = asyncio.get_event_loop()\n",
    "    # requests模块默认不支持异步操作，所以就使用线程池来配合实现了。\n",
    "    future = loop.run_in_executor(None, requests.get, url)\n",
    "    response = await future\n",
    "    print('下载完成')\n",
    "    # 图片保存到本地文件\n",
    "    file_name = url.rsplit('_')[-1]\n",
    "    with open(file_name, mode='wb') as file_object:\n",
    "        file_object.write(response.content)\n",
    "        \n",
    "        \n",
    "if __name__ == '__main__':\n",
    "    url_list = [\n",
    "        'https://www3.autoimg.cn/newsdfs/g26/M02/35/A9/120x90_0_autohomecar__ChsEe12AXQ6AOOH_AAFocMs8nzU621.jpg',\n",
    "        'https://www2.autoimg.cn/newsdfs/g30/M01/3C/E2/120x90_0_autohomecar__ChcCSV2BBICAUntfAADjJFd6800429.jpg',\n",
    "        'https://www3.autoimg.cn/newsdfs/g26/M0B/3C/65/120x90_0_autohomecar__ChcCP12BFCmAIO83AAGq7vK0sGY193.jpg'\n",
    "    ]\n",
    "    tasks = [download_image(url) for url in url_list]\n",
    "    loop = asyncio.get_event_loop()\n",
    "    loop.run_until_complete( asyncio.wait(tasks) )"
   ]
  },
  {
   "cell_type": "code",
   "execution_count": null,
   "metadata": {},
   "outputs": [],
   "source": [
    "# 3.2.6 异步迭代器\n",
    "\n",
    "# 什么是异步迭代器\n",
    "\n",
    "实现了 __aiter__() 和 __anext__() 方法的对象。__anext__ 必须返回一个 awaitable 对象。async for 会处理异步迭代器的\n",
    "__anext__() 方法所返回的可等待对象，直到其引发一个 StopAsyncIteration 异常。由 PEP 492 引入。\n",
    "\n",
    "# 什么是异步可迭代对象？\n",
    "\n",
    "可在 async for 语句中被使用的对象。必须通过它的 __aiter__() 方法返回一个 asynchronous iterator。由 PEP 492 引入。"
   ]
  },
  {
   "cell_type": "code",
   "execution_count": 7,
   "metadata": {},
   "outputs": [
    {
     "name": "stdout",
     "output_type": "stream",
     "text": [
      "1\n",
      "2\n",
      "3\n",
      "4\n",
      "5\n",
      "6\n",
      "7\n",
      "8\n",
      "9\n",
      "10\n",
      "11\n",
      "12\n",
      "13\n",
      "14\n",
      "15\n",
      "16\n",
      "17\n",
      "18\n",
      "19\n",
      "20\n",
      "21\n",
      "22\n",
      "23\n",
      "24\n",
      "25\n",
      "26\n",
      "27\n",
      "28\n",
      "29\n",
      "30\n",
      "31\n",
      "32\n",
      "33\n",
      "34\n",
      "35\n",
      "36\n",
      "37\n",
      "38\n",
      "39\n",
      "40\n",
      "41\n",
      "42\n",
      "43\n",
      "44\n",
      "45\n",
      "46\n",
      "47\n",
      "48\n",
      "49\n",
      "50\n",
      "51\n",
      "52\n",
      "53\n",
      "54\n",
      "55\n",
      "56\n",
      "57\n",
      "58\n",
      "59\n",
      "60\n",
      "61\n",
      "62\n",
      "63\n",
      "64\n",
      "65\n",
      "66\n",
      "67\n",
      "68\n",
      "69\n",
      "70\n",
      "71\n",
      "72\n",
      "73\n",
      "74\n",
      "75\n",
      "76\n",
      "77\n",
      "78\n",
      "79\n",
      "80\n",
      "81\n",
      "82\n",
      "83\n",
      "84\n",
      "85\n",
      "86\n",
      "87\n",
      "88\n",
      "89\n",
      "90\n",
      "91\n",
      "92\n",
      "93\n",
      "94\n",
      "95\n",
      "96\n",
      "97\n",
      "98\n",
      "99\n"
     ]
    }
   ],
   "source": [
    "# import nest_asyncio\n",
    "# nest_asyncio.apply()\n",
    "import asyncio\n",
    "\n",
    "class Reader(object):\n",
    "    \"\"\" 自定义异步迭代器（同时也是异步可迭代对象） \"\"\"\n",
    "    def __init__(self):\n",
    "        self.count = 0\n",
    "        \n",
    "    async def readline(self):\n",
    "#         await asyncio.sleep(1)\n",
    "        self.count += 1\n",
    "        if self.count == 100:\n",
    "            return None\n",
    "        return self.count\n",
    "    \n",
    "    def __aiter__(self):\n",
    "        return self\n",
    "    \n",
    "    async def __anext__(self):\n",
    "        val = await self.readline()\n",
    "        if val == None:\n",
    "            raise StopAsyncIteration\n",
    "        return val\n",
    "    \n",
    "async def func():\n",
    "    # 创建异步可迭代对象\n",
    "    async_iter = Reader()\n",
    "    # async for 必须要放在async def函数内，否则语法错误。\n",
    "    async for item in async_iter:\n",
    "        print(item)\n",
    "        \n",
    "asyncio.run(func())"
   ]
  },
  {
   "cell_type": "code",
   "execution_count": 8,
   "metadata": {},
   "outputs": [
    {
     "name": "stdout",
     "output_type": "stream",
     "text": [
      "666\n"
     ]
    }
   ],
   "source": [
    "# 3.2.6 异步上下文管理器\n",
    "# 此种对象通过定义 __aenter__() 和 __aexit__() 方法来对 async with 语句中的环境进行控制。由 PEP 492 引入。\n",
    "\n",
    "import asyncio\n",
    "\n",
    "class AsyncContextManager:\n",
    "    \n",
    "    def __init__(self):\n",
    "        self.conn = None\n",
    "        \n",
    "    async def do_something(self):\n",
    "        # 异步操作数据库\n",
    "        return 666\n",
    "    \n",
    "    async def __aenter__(self):\n",
    "        # 异步链接数据库\n",
    "        self.conn = await asyncio.sleep(1)\n",
    "        return self\n",
    "    \n",
    "    async def __aexit__(self, exc_type, exc, tb):\n",
    "        # 异步关闭数据库链接\n",
    "        await asyncio.sleep(1)\n",
    "        \n",
    "async def func():\n",
    "    async with AsyncContextManager() as f:\n",
    "        result = await f.do_something()\n",
    "        print(result)\n",
    "        \n",
    "asyncio.run(func())\n",
    "\n",
    "# 这个异步的上下文管理器还是比较有用的，平时在开发过程中 打开、处理、关闭 操作时，就可以用这种方式来处理。"
   ]
  },
  {
   "cell_type": "code",
   "execution_count": 9,
   "metadata": {},
   "outputs": [
    {
     "name": "stdout",
     "output_type": "stream",
     "text": [
      "Collecting uvloop\n",
      "  Downloading uvloop-0.14.0-cp37-cp37m-manylinux2010_x86_64.whl (3.8 MB)\n",
      "\u001b[K     |████████████████████████████████| 3.8 MB 10 kB/s eta 0:00:015     |██████████▎                     | 1.2 MB 10 kB/s eta 0:04:18     |██████████████████████████▎     | 3.1 MB 8.5 kB/s eta 0:01:20     |████████████████████████████▌   | 3.4 MB 7.7 kB/s eta 0:00:54\n",
      "\u001b[?25hInstalling collected packages: uvloop\n",
      "Successfully installed uvloop-0.14.0\n"
     ]
    }
   ],
   "source": [
    "!pip3 install uvloop"
   ]
  },
  {
   "cell_type": "code",
   "execution_count": null,
   "metadata": {},
   "outputs": [],
   "source": [
    "import asyncio\n",
    "import uvloop\n",
    "\n",
    "asyncio.set_event_loop_policy(uvloop.EventLoopPolicy())\n",
    "# 编写asyncio的代码，与之前写的代码一致。\n",
    "# 内部的事件循环自动化会变为uvloop\n",
    "asyncio.run(...)"
   ]
  }
 ],
 "metadata": {
  "kernelspec": {
   "display_name": "Python 3",
   "language": "python",
   "name": "python3"
  },
  "language_info": {
   "codemirror_mode": {
    "name": "ipython",
    "version": 3
   },
   "file_extension": ".py",
   "mimetype": "text/x-python",
   "name": "python",
   "nbconvert_exporter": "python",
   "pygments_lexer": "ipython3",
   "version": "3.7.3"
  }
 },
 "nbformat": 4,
 "nbformat_minor": 4
}
