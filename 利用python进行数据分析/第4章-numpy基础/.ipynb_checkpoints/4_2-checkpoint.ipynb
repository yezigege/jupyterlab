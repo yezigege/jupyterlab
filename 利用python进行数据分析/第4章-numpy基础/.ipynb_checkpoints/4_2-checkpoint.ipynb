{
 "cells": [
  {
   "cell_type": "code",
   "execution_count": 2,
   "metadata": {},
   "outputs": [
    {
     "data": {
      "text/plain": [
       "array([0, 1, 2, 3, 4, 5, 6, 7, 8, 9])"
      ]
     },
     "execution_count": 2,
     "metadata": {},
     "output_type": "execute_result"
    }
   ],
   "source": [
    "# 通用函数：快速的逐元素数组函数\n",
    "\"\"\"\n",
    "通用函数，也可以称为ufunc，是一种在ndarray数据中进行逐元素操作的函数。\n",
    "某些简单函数接收一个或多个标量数值，并产生一个或多个标量结果，\n",
    "而通用函数就是对这些简单函数的向量化封装。\n",
    "有很多ufunc是简单的逐元素转换，比如sqrt或exp函数\n",
    "\"\"\"\n",
    "import numpy as np\n",
    "arr1 = np.arange(10)\n",
    "arr1"
   ]
  },
  {
   "cell_type": "code",
   "execution_count": 4,
   "metadata": {},
   "outputs": [
    {
     "data": {
      "text/plain": [
       "array([0.        , 1.        , 1.41421356, 1.73205081, 2.        ,\n",
       "       2.23606798, 2.44948974, 2.64575131, 2.82842712, 3.        ])"
      ]
     },
     "execution_count": 4,
     "metadata": {},
     "output_type": "execute_result"
    }
   ],
   "source": [
    "np.sqrt(arr1)  # 对所有值进行开根号"
   ]
  },
  {
   "cell_type": "code",
   "execution_count": 5,
   "metadata": {},
   "outputs": [
    {
     "data": {
      "text/plain": [
       "array([1.00000000e+00, 2.71828183e+00, 7.38905610e+00, 2.00855369e+01,\n",
       "       5.45981500e+01, 1.48413159e+02, 4.03428793e+02, 1.09663316e+03,\n",
       "       2.98095799e+03, 8.10308393e+03])"
      ]
     },
     "execution_count": 5,
     "metadata": {},
     "output_type": "execute_result"
    }
   ],
   "source": [
    "np.exp(arr1)  # 打印e的幂次方，e是一个常数为2.71828"
   ]
  },
  {
   "cell_type": "code",
   "execution_count": 6,
   "metadata": {},
   "outputs": [
    {
     "data": {
      "text/plain": [
       "array([ 0.34073045, -0.01020546, -1.06857766,  1.13447937,  0.13854571,\n",
       "       -1.02028154, -0.24288444,  1.06394922])"
      ]
     },
     "execution_count": 6,
     "metadata": {},
     "output_type": "execute_result"
    }
   ],
   "source": [
    "\"\"\"\n",
    "还有一些通用函数，比如add或maximum则会接收两个数组并返回一个数组作为结果，\n",
    "因此称为二元通用函数\n",
    "\"\"\"\n",
    "x = np.random.randn(8)\n",
    "y = np.random.randn(8)\n",
    "x"
   ]
  },
  {
   "cell_type": "code",
   "execution_count": 7,
   "metadata": {},
   "outputs": [
    {
     "data": {
      "text/plain": [
       "array([ 0.55137678, -0.6235178 , -0.06658655,  0.51220621,  0.77320664,\n",
       "       -1.68262053,  1.91813224,  0.37215688])"
      ]
     },
     "execution_count": 7,
     "metadata": {},
     "output_type": "execute_result"
    }
   ],
   "source": [
    "y"
   ]
  },
  {
   "cell_type": "code",
   "execution_count": 8,
   "metadata": {},
   "outputs": [
    {
     "data": {
      "text/plain": [
       "array([ 0.55137678, -0.01020546, -0.06658655,  1.13447937,  0.77320664,\n",
       "       -1.02028154,  1.91813224,  1.06394922])"
      ]
     },
     "execution_count": 8,
     "metadata": {},
     "output_type": "execute_result"
    }
   ],
   "source": [
    "np.maximum(x, y)  # numpy.maximum逐个元素地将x和y中元素的最大值计算出来"
   ]
  },
  {
   "cell_type": "code",
   "execution_count": 10,
   "metadata": {},
   "outputs": [
    {
     "data": {
      "text/plain": [
       "array([-4.30242333,  3.15818835,  2.19198801,  6.03802815, -0.75691334,\n",
       "        4.0606721 , -1.46548925])"
      ]
     },
     "execution_count": 10,
     "metadata": {},
     "output_type": "execute_result"
    }
   ],
   "source": [
    "\"\"\"\n",
    "也有一些通用函数返回多个数组。\n",
    "比如modf，是Python内建函数divmod的向量化版本。\n",
    "它返回了一个浮点值数组的小数部分和整数部分\n",
    "\"\"\"\n",
    "arr2 = np.random.randn(7) * 5\n",
    "arr2"
   ]
  },
  {
   "cell_type": "code",
   "execution_count": 12,
   "metadata": {},
   "outputs": [
    {
     "data": {
      "text/plain": [
       "array([-0.30242333,  0.15818835,  0.19198801,  0.03802815, -0.75691334,\n",
       "        0.0606721 , -0.46548925])"
      ]
     },
     "execution_count": 12,
     "metadata": {},
     "output_type": "execute_result"
    }
   ],
   "source": [
    "remainder, whole_part = np.modf(arr2)\n",
    "remainder"
   ]
  },
  {
   "cell_type": "code",
   "execution_count": 13,
   "metadata": {},
   "outputs": [
    {
     "data": {
      "text/plain": [
       "array([-4.,  3.,  2.,  6., -0.,  4., -1.])"
      ]
     },
     "execution_count": 13,
     "metadata": {},
     "output_type": "execute_result"
    }
   ],
   "source": [
    "whole_part"
   ]
  },
  {
   "cell_type": "code",
   "execution_count": 14,
   "metadata": {},
   "outputs": [
    {
     "data": {
      "text/plain": [
       "array([-4.30242333,  3.15818835,  2.19198801,  6.03802815, -0.75691334,\n",
       "        4.0606721 , -1.46548925])"
      ]
     },
     "execution_count": 14,
     "metadata": {},
     "output_type": "execute_result"
    }
   ],
   "source": [
    "\"\"\"\n",
    "通用函数接收一个可选参数out，允许对数组按位置操作\n",
    "\"\"\"\n",
    "arr2"
   ]
  },
  {
   "cell_type": "code",
   "execution_count": 16,
   "metadata": {},
   "outputs": [
    {
     "name": "stderr",
     "output_type": "stream",
     "text": [
      "/usr/local/python3/lib/python3.7/site-packages/ipykernel_launcher.py:1: RuntimeWarning: invalid value encountered in sqrt\n",
      "  \"\"\"Entry point for launching an IPython kernel.\n"
     ]
    },
    {
     "data": {
      "text/plain": [
       "array([       nan, 1.77712925, 1.48053639, 2.45723995,        nan,\n",
       "       2.01511094,        nan])"
      ]
     },
     "execution_count": 16,
     "metadata": {},
     "output_type": "execute_result"
    }
   ],
   "source": [
    "np.sqrt(arr2)"
   ]
  },
  {
   "cell_type": "code",
   "execution_count": 17,
   "metadata": {},
   "outputs": [
    {
     "name": "stderr",
     "output_type": "stream",
     "text": [
      "/usr/local/python3/lib/python3.7/site-packages/ipykernel_launcher.py:1: RuntimeWarning: invalid value encountered in sqrt\n",
      "  \"\"\"Entry point for launching an IPython kernel.\n"
     ]
    },
    {
     "data": {
      "text/plain": [
       "array([       nan, 1.77712925, 1.48053639, 2.45723995,        nan,\n",
       "       2.01511094,        nan])"
      ]
     },
     "execution_count": 17,
     "metadata": {},
     "output_type": "execute_result"
    }
   ],
   "source": [
    "np.sqrt(arr2, arr2)"
   ]
  },
  {
   "cell_type": "code",
   "execution_count": 18,
   "metadata": {},
   "outputs": [
    {
     "data": {
      "text/plain": [
       "array([       nan, 1.77712925, 1.48053639, 2.45723995,        nan,\n",
       "       2.01511094,        nan])"
      ]
     },
     "execution_count": 18,
     "metadata": {},
     "output_type": "execute_result"
    }
   ],
   "source": [
    "arr2"
   ]
  },
  {
   "cell_type": "code",
   "execution_count": 19,
   "metadata": {},
   "outputs": [
    {
     "data": {
      "text/plain": [
       "'\\n一元通用函数合集\\n\\nabs、 fabs           逐元素地计算整数、浮点数或复数的绝对值\\nsqrt                 计算每个元素的平方根(与 arr**0.5 相等)\\nsquare               计算每个元素的平方(与 arr**2 相等)\\n'"
      ]
     },
     "execution_count": 19,
     "metadata": {},
     "output_type": "execute_result"
    }
   ],
   "source": [
    "\"\"\"\n",
    "一元通用函数合集\n",
    "\n",
    "abs、 fabs           逐元素地计算整数、浮点数或复数的绝对值\n",
    "sqrt                 计算每个元素的平方根(与 arr**0.5 相等)\n",
    "square               计算每个元素的平方(与 arr**2 相等)\n",
    "\"\"\""
   ]
  },
  {
   "cell_type": "code",
   "execution_count": null,
   "metadata": {},
   "outputs": [],
   "source": [
    " \"\"\"\n",
    " 二元通用函数合集\n",
    " \n",
    " add                     将数组的对应元素相加\n",
    " subtract                在第二数组中，将第一个数组中包含的元素去除\n",
    " multiply                将数组的对应元素相乘\n",
    " divide, floor_divide    除或整除(放弃余数)\n",
    " power                   将第二个数组的元素作为第一个数组对应元素的冥次方\n",
    " maximum, fmax           逐个元素计算最大值，fmax 忽略 NaN\n",
    " minimum，fmin           逐个元素计算最小值，fmin 忽略 Nan\n",
    " mod                     按元素的求模计算(即求除法的余数)\n",
    " copysign                将第一个数组的符号值改为第二哥数组的符号值\n",
    " \n",
    " greater，greater_equal  进行逐个元素的比较，返回布尔值数组(与数学操作符\n",
    " less, less_equal,       >  >=  < <=  == != 效果一致)\n",
    " equal, not_equal       \n",
    " \n",
    " logical_and, logical_or 进行逐个元素的逻辑操作(与逻辑操作符 & | ^ 效果一致)\n",
    " logical_xor \n",
    " \"\"\""
   ]
  }
 ],
 "metadata": {
  "kernelspec": {
   "display_name": "Python 3",
   "language": "python",
   "name": "python3"
  },
  "language_info": {
   "codemirror_mode": {
    "name": "ipython",
    "version": 3
   },
   "file_extension": ".py",
   "mimetype": "text/x-python",
   "name": "python",
   "nbconvert_exporter": "python",
   "pygments_lexer": "ipython3",
   "version": "3.7.3"
  }
 },
 "nbformat": 4,
 "nbformat_minor": 4
}
