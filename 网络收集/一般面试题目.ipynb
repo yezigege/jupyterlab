{
 "cells": [
  {
   "cell_type": "code",
   "execution_count": 1,
   "metadata": {},
   "outputs": [
    {
     "data": {
      "text/plain": [
       "5050"
      ]
     },
     "execution_count": 1,
     "metadata": {},
     "output_type": "execute_result"
    }
   ],
   "source": [
    "# 1. 一行代码实现1-100的和\n",
    "sum(range(1, 101))"
   ]
  },
  {
   "cell_type": "code",
   "execution_count": 3,
   "metadata": {},
   "outputs": [
    {
     "name": "stdout",
     "output_type": "stream",
     "text": [
      "4\n"
     ]
    }
   ],
   "source": [
    "# 2. 如何在一个函数内部修改全局变量\n",
    "a = 5\n",
    "def fn():\n",
    "    global a\n",
    "    a = 4\n",
    "    \n",
    "fn()\n",
    "print(a)"
   ]
  },
  {
   "cell_type": "code",
   "execution_count": 4,
   "metadata": {},
   "outputs": [
    {
     "data": {
      "text/plain": [
       "'\\nos\\nsys\\nfunctools\\ntime\\ndatetime\\nrequests\\nlogging\\nre\\n'"
      ]
     },
     "execution_count": 4,
     "metadata": {},
     "output_type": "execute_result"
    }
   ],
   "source": [
    "# 3. 列出常用的5个python标准库\n",
    "\"\"\"\n",
    "os\n",
    "sys\n",
    "functools\n",
    "time\n",
    "datetime\n",
    "requests\n",
    "logging\n",
    "re\n",
    "\"\"\""
   ]
  },
  {
   "cell_type": "code",
   "execution_count": 5,
   "metadata": {},
   "outputs": [
    {
     "data": {
      "text/plain": [
       "{'age': 13}"
      ]
     },
     "execution_count": 5,
     "metadata": {},
     "output_type": "execute_result"
    }
   ],
   "source": [
    "# 4 字典如何删除键和合并两个字典\n",
    "dic = {'name': 'yezi', 'age':13}\n",
    "\n",
    "del dic['name']\n",
    "dic"
   ]
  },
  {
   "cell_type": "code",
   "execution_count": 7,
   "metadata": {},
   "outputs": [
    {
     "data": {
      "text/plain": [
       "{'age': 13, 'gender': 1}"
      ]
     },
     "execution_count": 7,
     "metadata": {},
     "output_type": "execute_result"
    }
   ],
   "source": [
    "dic2 = {'gender': 1}\n",
    "dic.update(dic2)\n",
    "dic"
   ]
  },
  {
   "cell_type": "code",
   "execution_count": 8,
   "metadata": {},
   "outputs": [
    {
     "data": {
      "text/plain": [
       "'\\nGIL 是python的全局解释器锁，同一进程中如果有大量线程\\n同时运行，一个线程运行python程序的时候就会霸占python的解释器，通过加锁的\\n方式，使该进程内的其他线程无法运行，等该线程运行完后其他线程才能运行，如果\\n当前运行中的线程遇到耗时操作，则解释器锁开，使得其他线程运行。所以在多线程\\n中线程的运行仍然是有先后顺序的，并不是同时进行。\\n\\n多进程中因为每个进程都会被系统分配资源，相当于每个进程有了一个python\\n解释器，所以多进程可以实现多个进程的同时运行，缺点使进程系统资源开销大\\n\\n对于python 的GIL，它实际上是cpython 中特有的全局解释器锁，可以使用pypy，或者\\njpy来避免这种锁，当然，协程也是一个好的选择。\\n'"
      ]
     },
     "execution_count": 8,
     "metadata": {},
     "output_type": "execute_result"
    }
   ],
   "source": [
    "# 5 python 中的 GIL\n",
    "\"\"\"\n",
    "GIL 是python的全局解释器锁，同一进程中如果有大量线程\n",
    "同时运行，一个线程运行python程序的时候就会霸占python的解释器，通过加锁的\n",
    "方式，使该进程内的其他线程无法运行，等该线程运行完后其他线程才能运行，如果\n",
    "当前运行中的线程遇到耗时操作，则解释器锁开，使得其他线程运行。所以在多线程\n",
    "中线程的运行仍然是有先后顺序的，并不是同时进行。\n",
    "\n",
    "多进程中因为每个进程都会被系统分配资源，相当于每个进程有了一个python\n",
    "解释器，所以多进程可以实现多个进程的同时运行，缺点使进程系统资源开销大\n",
    "\n",
    "对于python 的GIL，它实际上是cpython 中特有的全局解释器锁，可以使用pypy，或者\n",
    "jpy来避免这种锁，当然，协程也是一个好的选择。\n",
    "\"\"\""
   ]
  },
  {
   "cell_type": "code",
   "execution_count": 9,
   "metadata": {},
   "outputs": [],
   "source": [
    "# 6， python中实现列表去重的方法\n",
    "# 先通过集合去重，在转列表"
   ]
  },
  {
   "cell_type": "code",
   "execution_count": 10,
   "metadata": {},
   "outputs": [
    {
     "data": {
      "text/plain": [
       "'\\n*args 和 **kwargs主要用于函数的定义，你可以将缺省参数，或者给定参数通过\\n这两个特定的指代来传递。可以传递多个参数\\n'"
      ]
     },
     "execution_count": 10,
     "metadata": {},
     "output_type": "execute_result"
    }
   ],
   "source": [
    "# 7 fun(*args, **kwargs) 中给参数是什么意思\n",
    "\"\"\"\n",
    "*args 和 **kwargs主要用于函数的定义，你可以将缺省参数，或者给定参数通过\n",
    "这两个特定的指代来传递。可以传递多个参数\n",
    "\"\"\""
   ]
  },
  {
   "cell_type": "code",
   "execution_count": 11,
   "metadata": {},
   "outputs": [
    {
     "data": {
      "text/plain": [
       "'python2 返回列表，python3返回迭代器'"
      ]
     },
     "execution_count": 11,
     "metadata": {},
     "output_type": "execute_result"
    }
   ],
   "source": [
    "#  8 python2 和 python3 的range(100) 的区别\n",
    "\"\"\"python2 返回列表，python3返回迭代器\"\"\""
   ]
  },
  {
   "cell_type": "code",
   "execution_count": 12,
   "metadata": {},
   "outputs": [
    {
     "data": {
      "text/plain": [
       "'函数可以当作参数传递的语言，可以使用装饰器'"
      ]
     },
     "execution_count": 12,
     "metadata": {},
     "output_type": "execute_result"
    }
   ],
   "source": [
    "# 9 一句话就解释什么样的语言能够用装饰器\n",
    "\"\"\"函数可以当作参数传递的语言，可以使用装饰器\"\"\""
   ]
  },
  {
   "cell_type": "code",
   "execution_count": 13,
   "metadata": {},
   "outputs": [
    {
     "data": {
      "text/plain": [
       "'int, str, set, tuple, list, dict, bool'"
      ]
     },
     "execution_count": 13,
     "metadata": {},
     "output_type": "execute_result"
    }
   ],
   "source": [
    "# 10  python内建数据类型有哪些\n",
    "\"\"\"int, str, set, tuple, list, dict, bool\"\"\""
   ]
  },
  {
   "cell_type": "code",
   "execution_count": 14,
   "metadata": {},
   "outputs": [
    {
     "data": {
      "text/plain": [
       "'\\n__init__是初始化方法，创建对象后，就立刻被默认调用了，可接收参数\\n\\n1、__new__至少要有一个参数cls，代表当前类，此参数在实例化时\\n由Python解释器自动识别\\n\\n2、__new__必须要有返回值，返回实例化出来的实例，\\n这点在自己实现__new__时要特别注意，可以return父类\\n（通过super(当前类名, cls)）__new__出来的实例，\\n或者直接是object的__new__出来的实例\\n\\n3、__init__有一个参数self，就是这个__new__返回的实例，\\n__init__在__new__的基础上可以完成一些其它初始化的动作\\n，__init__不需要返回值\\n\\n4、如果__new__创建的是当前类的实例，会自动调用__init__函数，\\n通过return语句里面调用的__new__函数的第一个参数是cls来保证是当前类实例\\n，如果是其他类的类名，；那么实际创建返回的就是其他类的实例，\\n其实就不会调用当前类的__init__函数，也不会调用其他类的__init__函数。\\n'"
      ]
     },
     "execution_count": 14,
     "metadata": {},
     "output_type": "execute_result"
    }
   ],
   "source": [
    "# 11 简述面向对象中__new__和__init__区别\n",
    "\"\"\"\n",
    "__init__是初始化方法，创建对象后，就立刻被默认调用了，可接收参数\n",
    "\n",
    "1、__new__至少要有一个参数cls，代表当前类，此参数在实例化时\n",
    "由Python解释器自动识别\n",
    "\n",
    "2、__new__必须要有返回值，返回实例化出来的实例，\n",
    "这点在自己实现__new__时要特别注意，可以return父类\n",
    "（通过super(当前类名, cls)）__new__出来的实例，\n",
    "或者直接是object的__new__出来的实例\n",
    "\n",
    "3、__init__有一个参数self，就是这个__new__返回的实例，\n",
    "__init__在__new__的基础上可以完成一些其它初始化的动作\n",
    "，__init__不需要返回值\n",
    "\n",
    "4、如果__new__创建的是当前类的实例，会自动调用__init__函数，\n",
    "通过return语句里面调用的__new__函数的第一个参数是cls来保证是当前类实例\n",
    "，如果是其他类的类名，；那么实际创建返回的就是其他类的实例，\n",
    "其实就不会调用当前类的__init__函数，也不会调用其他类的__init__函数。\n",
    "\"\"\""
   ]
  },
  {
   "cell_type": "code",
   "execution_count": 15,
   "metadata": {},
   "outputs": [
    {
     "data": {
      "text/plain": [
       "'\\n打开文件在进行读写的时候可能会出现一些异常状况，如果按照常规的f.open\\n\\n写法，我们需要try,except,finally，做异常判断，\\n并且文件最终不管遇到什么情况，都要执行finally f.close()关闭文件，\\nwith方法帮我们实现了finally中f.close\\n'"
      ]
     },
     "execution_count": 15,
     "metadata": {},
     "output_type": "execute_result"
    }
   ],
   "source": [
    "# 12 简述with方法打开处理文件帮我我们做了什么？\n",
    "\"\"\"\n",
    "打开文件在进行读写的时候可能会出现一些异常状况，如果按照常规的f.open\n",
    "\n",
    "写法，我们需要try,except,finally，做异常判断，\n",
    "并且文件最终不管遇到什么情况，都要执行finally f.close()关闭文件，\n",
    "with方法帮我们实现了finally中f.close\n",
    "\"\"\""
   ]
  },
  {
   "cell_type": "code",
   "execution_count": 23,
   "metadata": {},
   "outputs": [
    {
     "data": {
      "text/plain": [
       "<map at 0x7f0c842f6470>"
      ]
     },
     "execution_count": 23,
     "metadata": {},
     "output_type": "execute_result"
    }
   ],
   "source": [
    "# 13 列表[1,2,3,4,5],请使用map()函数输出[1,4,9,16,25]，\n",
    "# 并使用列表推导式提取出大于10的数，最终输出[16,25]\n",
    "\n",
    "list1 = [1, 2, 3, 4, 5]\n",
    "res = map(lambda x:x**2, list1)\n",
    "res"
   ]
  },
  {
   "cell_type": "code",
   "execution_count": 24,
   "metadata": {},
   "outputs": [
    {
     "data": {
      "text/plain": [
       "[16, 25]"
      ]
     },
     "execution_count": 24,
     "metadata": {},
     "output_type": "execute_result"
    }
   ],
   "source": [
    "res2 = [i for i in res if i > 10]\n",
    "res2"
   ]
  },
  {
   "cell_type": "code",
   "execution_count": 25,
   "metadata": {},
   "outputs": [
    {
     "data": {
      "text/plain": [
       "3"
      ]
     },
     "execution_count": 25,
     "metadata": {},
     "output_type": "execute_result"
    }
   ],
   "source": [
    "# 14 python中生成随机整数、随机小数、0--1之间小数方法\n",
    "\"\"\"\n",
    "随机整数：random.randint(a,b),生成区间内的整数\n",
    "\n",
    "随机小数：习惯用numpy库，利用np.random.randn(5)生成5个随机小数\n",
    "\n",
    "0-1随机小数：random.random(),括号中不传参\n",
    "\"\"\"\n",
    "import random\n",
    "random.randint(1, 10)"
   ]
  },
  {
   "cell_type": "code",
   "execution_count": 29,
   "metadata": {},
   "outputs": [
    {
     "data": {
      "text/plain": [
       "0.7254588198439457"
      ]
     },
     "execution_count": 29,
     "metadata": {},
     "output_type": "execute_result"
    }
   ],
   "source": [
    "random.random()"
   ]
  },
  {
   "cell_type": "code",
   "execution_count": 30,
   "metadata": {},
   "outputs": [
    {
     "data": {
      "text/plain": [
       "array([ 0.09972589, -0.59321813,  0.21637279,  0.39613574, -1.39863265])"
      ]
     },
     "execution_count": 30,
     "metadata": {},
     "output_type": "execute_result"
    }
   ],
   "source": [
    "import numpy as np\n",
    "np.random.randn(5)"
   ]
  },
  {
   "cell_type": "code",
   "execution_count": 31,
   "metadata": {},
   "outputs": [
    {
     "data": {
      "text/plain": [
       "'r , 表示需要原始字符串，不转义特殊字符'"
      ]
     },
     "execution_count": 31,
     "metadata": {},
     "output_type": "execute_result"
    }
   ],
   "source": [
    "# 15 避免转义给字符串加哪个字母表示原始字符串？\n",
    "\"\"\"r , 表示需要原始字符串，不转义特殊字符\"\"\""
   ]
  },
  {
   "cell_type": "code",
   "execution_count": 32,
   "metadata": {},
   "outputs": [
    {
     "name": "stdout",
     "output_type": "stream",
     "text": [
      "['中国']\n"
     ]
    }
   ],
   "source": [
    "# 16 <div class=\"nam\">中国</div>，用正则匹配出标签里面的内容（“中国”），\n",
    "# 其中class的类名是不确定的\n",
    "import re\n",
    "str = '<div class=\"name\">中国</div>'\n",
    "res = re.findall(r'<div class=\".*\">(.*?)</div>', str)\n",
    "print(res)"
   ]
  },
  {
   "cell_type": "code",
   "execution_count": 33,
   "metadata": {},
   "outputs": [
    {
     "data": {
      "text/plain": [
       "'assert（）方法，断言成功，则程序继续执行，断言失败，则程序报错'"
      ]
     },
     "execution_count": 33,
     "metadata": {},
     "output_type": "execute_result"
    }
   ],
   "source": [
    "# 17 python中断言方法举例\n",
    "\"\"\"assert（）方法，断言成功，则程序继续执行，断言失败，则程序报错\"\"\""
   ]
  },
  {
   "cell_type": "code",
   "execution_count": 34,
   "metadata": {},
   "outputs": [
    {
     "data": {
      "text/plain": [
       "'select distinct name from student'"
      ]
     },
     "execution_count": 34,
     "metadata": {},
     "output_type": "execute_result"
    }
   ],
   "source": [
    "# 18 数据表student有id,name,score,city字段，其中name中的名字可有重复，需要消除重复行,请写sql语句\n",
    "\n",
    "\"\"\"select distinct name from student\"\"\""
   ]
  },
  {
   "cell_type": "code",
   "execution_count": 35,
   "metadata": {},
   "outputs": [
    {
     "data": {
      "text/plain": [
       "'\\nls pwd cd ps tar tail who mkdir rm touch vim grep echo cat tree cp mv\\n'"
      ]
     },
     "execution_count": 35,
     "metadata": {},
     "output_type": "execute_result"
    }
   ],
   "source": [
    "# 19 10个常用的linux命令\n",
    "\"\"\"\n",
    "ls pwd cd ps tar tail who mkdir rm touch vim grep echo cat tree cp mv\n",
    "\"\"\""
   ]
  },
  {
   "cell_type": "code",
   "execution_count": 36,
   "metadata": {},
   "outputs": [
    {
     "data": {
      "text/plain": [
       "\"\\n1、Python3 使用 print 必须要以小括号包裹打印内容，比如 print('hi')\\n\\nPython2 既可以使用带小括号的方式，也可以使用一个空格来分隔打印内容，比 如 print 'hi'\\n\\n2、python2 range(1,10)返回列表，python3中返回迭代器，节约内存\\n\\n3、python2中使用ascii编码，python中使用utf-8编码\\n\\n4、python2中unicode表示字符串序列，str表示字节序列\\n\\npython3中str表示字符串序列，byte表示字节序列\\n\\n5、python2中为正常显示中文，引入coding声明，python3中不需要\\n\\n6、python2中是raw_input()函数，python3中是input()函数\\n\\n\\n\""
      ]
     },
     "execution_count": 36,
     "metadata": {},
     "output_type": "execute_result"
    }
   ],
   "source": [
    "# 20 python2和python3区别？列举5个\n",
    "\"\"\"\n",
    "1、Python3 使用 print 必须要以小括号包裹打印内容，比如 print('hi')\n",
    "\n",
    "Python2 既可以使用带小括号的方式，也可以使用一个空格来分隔打印内容，比 如 print 'hi'\n",
    "\n",
    "2、python2 range(1,10)返回列表，python3中返回迭代器，节约内存\n",
    "\n",
    "3、python2中使用ascii编码，python中使用utf-8编码\n",
    "\n",
    "4、python2中unicode表示字符串序列，str表示字节序列\n",
    "\n",
    "python3中str表示字符串序列，byte表示字节序列\n",
    "\n",
    "5、python2中为正常显示中文，引入coding声明，python3中不需要\n",
    "\n",
    "6、python2中是raw_input()函数，python3中是input()函数\n",
    "\n",
    "\n",
    "\"\"\""
   ]
  },
  {
   "cell_type": "code",
   "execution_count": 37,
   "metadata": {},
   "outputs": [
    {
     "data": {
      "text/plain": [
       "'\\n不可变数据类型：数值型、字符串型string和元组tuple\\n\\n不允许变量的值发生变化，如果改变了变量的值，相当于是新建了一个对象，\\n而对于相同的值的对象，在内存中则只有一个对象（一个地址），\\n如下图用id()方法可以打印对象的id\\n\\n\\n可变数据类型：列表list和字典dict；\\n\\n允许变量的值发生变化，即如果对变量进行append、+=等这种操作后，\\n只是改变了变量的值，而不会新建一个对象，变量引用的对象的地址也不会变化，\\n不过对于相同的值的不同对象，在内存中则会存在不同的对象，\\n即每个对象都有自己的地址，相当于内存中对于同值的对象保存了多份，\\n这里不存在引用计数，是实实在在的对象。\\n\\n'"
      ]
     },
     "execution_count": 37,
     "metadata": {},
     "output_type": "execute_result"
    }
   ],
   "source": [
    "# 21 列出python中可变数据类型和不可变数据类型，并简述原理\n",
    "\n",
    "\"\"\"\n",
    "不可变数据类型：数值型、字符串型string和元组tuple\n",
    "\n",
    "不允许变量的值发生变化，如果改变了变量的值，相当于是新建了一个对象，\n",
    "而对于相同的值的对象，在内存中则只有一个对象（一个地址），\n",
    "如下图用id()方法可以打印对象的id\n",
    "\n",
    "\n",
    "可变数据类型：列表list和字典dict；\n",
    "\n",
    "允许变量的值发生变化，即如果对变量进行append、+=等这种操作后，\n",
    "只是改变了变量的值，而不会新建一个对象，变量引用的对象的地址也不会变化，\n",
    "不过对于相同的值的不同对象，在内存中则会存在不同的对象，\n",
    "即每个对象都有自己的地址，相当于内存中对于同值的对象保存了多份，\n",
    "这里不存在引用计数，是实实在在的对象。\n",
    "\n",
    "\"\"\""
   ]
  },
  {
   "cell_type": "code",
   "execution_count": 40,
   "metadata": {},
   "outputs": [
    {
     "data": {
      "text/plain": [
       "'adfjl'"
      ]
     },
     "execution_count": 40,
     "metadata": {},
     "output_type": "execute_result"
    }
   ],
   "source": [
    "# 22 s = \"ajldjlajfdljfddd\"，去重并从小到大排序输出\"adfjl\"\n",
    "s = \"ajldjlajfdljfddd\"\n",
    "s = sorted(list(set(s)), reverse=False)\n",
    "res = \"\".join(s)\n",
    "res"
   ]
  },
  {
   "cell_type": "code",
   "execution_count": 41,
   "metadata": {},
   "outputs": [
    {
     "name": "stdout",
     "output_type": "stream",
     "text": [
      "20\n"
     ]
    }
   ],
   "source": [
    "# 23  用 lambda 实现两个数相乘\n",
    "cheng = lambda x,y: x * y\n",
    "print(cheng(4, 5))"
   ]
  },
  {
   "cell_type": "code",
   "execution_count": 43,
   "metadata": {},
   "outputs": [
    {
     "data": {
      "text/plain": [
       "{'age': 18, 'city': '深圳', 'name': 'zs', 'tel': '1362626627'}"
      ]
     },
     "execution_count": 43,
     "metadata": {},
     "output_type": "execute_result"
    }
   ],
   "source": [
    "# 24 字典根据键从小到大排序\n",
    "dic={\"name\":\"zs\",\"age\":18,\"city\":\"深圳\",\"tel\":\"1362626627\"}\n",
    "dic = sorted(dic.items(), key=lambda x:x[0], reverse=False)\n",
    "dict(dic)"
   ]
  },
  {
   "cell_type": "code",
   "execution_count": 44,
   "metadata": {},
   "outputs": [
    {
     "name": "stdout",
     "output_type": "stream",
     "text": [
      "Counter({'l': 9, ';': 6, 'h': 6, 'f': 5, 'a': 4, 'j': 3, 'd': 3, 's': 2, 'k': 1, 'g': 1, 'b': 1})\n"
     ]
    }
   ],
   "source": [
    "# 25、利用collections库的Counter方法统计字符串每个单词出现的次数\n",
    "# \"kjalfj;ldsjafl;hdsllfdhg;lahfbl;hl;ahlf;h\"\n",
    "\n",
    "from collections import Counter\n",
    "\n",
    "a = \"kjalfj;ldsjafl;hdsllfdhg;lahfbl;hl;ahlf;h\"\n",
    "res = Counter(a)\n",
    "print(res)"
   ]
  },
  {
   "cell_type": "code",
   "execution_count": 53,
   "metadata": {},
   "outputs": [
    {
     "data": {
      "text/plain": [
       "['深圳', '张三']"
      ]
     },
     "execution_count": 53,
     "metadata": {},
     "output_type": "execute_result"
    }
   ],
   "source": [
    "# 26、字符串a = \"not 404 found 张三 99 深圳\"，每个词中间是空格，\n",
    "# 用正则过滤掉英文和数字，最终输出\"张三 深圳\"\n",
    "\n",
    "import re\n",
    "str1 = \"not 404 found 张三 99 深圳\"\n",
    "list1 = str1.split(\" \")\n",
    "res = re.findall(r'\\d+|[a-zA-Z]+', str1)\n",
    "list(set(list1) ^ set(res))"
   ]
  },
  {
   "cell_type": "code",
   "execution_count": 59,
   "metadata": {},
   "outputs": [
    {
     "data": {
      "text/plain": [
       "([1, 3, 5, 7, 9], [1, 3, 5, 7, 9])"
      ]
     },
     "execution_count": 59,
     "metadata": {},
     "output_type": "execute_result"
    }
   ],
   "source": [
    "# 27、filter方法求出列表所有奇数并构造新列表，a = [1, 2, 3, 4, 5, 6, 7, 8, 9, 10]\n",
    "\n",
    "a = [1, 2, 3, 4, 5, 6, 7, 8, 9, 10]\n",
    "b = [i for i in a if i % 2==1]\n",
    "c = filter(lambda x:x%2==1, a)\n",
    "b,list(c)"
   ]
  },
  {
   "cell_type": "code",
   "execution_count": 60,
   "metadata": {},
   "outputs": [
    {
     "data": {
      "text/plain": [
       "'re.compile是将正则表达式编译成一个对象，加快速度，并重复使用'"
      ]
     },
     "execution_count": 60,
     "metadata": {},
     "output_type": "execute_result"
    }
   ],
   "source": [
    "# 正则re.complie作用\n",
    "\"\"\"re.compile是将正则表达式编译成一个对象，加快速度，并重复使用\"\"\""
   ]
  },
  {
   "cell_type": "code",
   "execution_count": 61,
   "metadata": {},
   "outputs": [
    {
     "name": "stdout",
     "output_type": "stream",
     "text": [
      "<class 'tuple'> <class 'int'> <class 'str'>\n"
     ]
    }
   ],
   "source": [
    "# 30 a=（1，）b=(1)，c=(\"1\") 分别是什么类型的数据？\n",
    "a = (1, )\n",
    "b = (1)\n",
    "c = (\"1\")\n",
    "print(type(a), type(b), type(c))"
   ]
  },
  {
   "cell_type": "code",
   "execution_count": 64,
   "metadata": {},
   "outputs": [
    {
     "data": {
      "text/plain": [
       "[1, 2, 2, 5, 6, 7, 8, 9]"
      ]
     },
     "execution_count": 64,
     "metadata": {},
     "output_type": "execute_result"
    }
   ],
   "source": [
    "# 32 两个列表[1,5,7,9]和[2,2,6,8]合并为[1,2,2,3,6,7,8,9]\n",
    "list01 = [1, 5, 7, 9]\n",
    "list02 = [2, 2, 6, 8]\n",
    "list01.extend(list02)\n",
    "list01.sort()\n",
    "list01"
   ]
  },
  {
   "cell_type": "code",
   "execution_count": 66,
   "metadata": {},
   "outputs": [
    {
     "data": {
      "text/plain": [
       "\"\\npython: os.remove('filename')\\nlinux: rm filename\\n\""
      ]
     },
     "execution_count": 66,
     "metadata": {},
     "output_type": "execute_result"
    }
   ],
   "source": [
    "# 32、用python删除文件和用linux命令删除文件方法\n",
    "\"\"\"\n",
    "python: os.remove('filename')\n",
    "linux: rm filename\n",
    "\"\"\""
   ]
  },
  {
   "cell_type": "code",
   "execution_count": 71,
   "metadata": {},
   "outputs": [
    {
     "data": {
      "text/plain": [
       "'2020-04-20 14:35:32'"
      ]
     },
     "execution_count": 71,
     "metadata": {},
     "output_type": "execute_result"
    }
   ],
   "source": [
    "# 33 log日志中，我们需要用时间戳记录error,warning等的发生时间，\n",
    "# 请用datetime模块打印当前时间戳 “2018-04-01 11:38:54”\n",
    "\n",
    "import datetime\n",
    "datetime.datetime.now().strftime(\"%Y-%m-%d %H:%M:%S\")"
   ]
  },
  {
   "cell_type": "code",
   "execution_count": 75,
   "metadata": {},
   "outputs": [
    {
     "data": {
      "text/plain": [
       "'外键、索引、联合查询、选择特定字段等等'"
      ]
     },
     "execution_count": 75,
     "metadata": {},
     "output_type": "execute_result"
    }
   ],
   "source": [
    "# 34 数据库优化查询方法\n",
    "\"\"\"外键、索引、联合查询、选择特定字段等等\"\"\""
   ]
  },
  {
   "cell_type": "code",
   "execution_count": 76,
   "metadata": {},
   "outputs": [
    {
     "data": {
      "text/plain": [
       "'pyecharts  matplotlib'"
      ]
     },
     "execution_count": 76,
     "metadata": {},
     "output_type": "execute_result"
    }
   ],
   "source": [
    "# 35 请列出你会的任意一种统计图（条形图、折线图等）绘制的开源库，第三方也行\n",
    "\"\"\"pyecharts  matplotlib\"\"\""
   ]
  },
  {
   "cell_type": "code",
   "execution_count": 84,
   "metadata": {},
   "outputs": [
    {
     "name": "stderr",
     "output_type": "stream",
     "text": [
      "ERROR:root:有偶数！\n"
     ]
    }
   ],
   "source": [
    "# 36 自定义异常代码\n",
    "import logging\n",
    "\n",
    "def fn():\n",
    "    try:\n",
    "        for i in range(10):\n",
    "            if i % 2 == 0:\n",
    "                raise Exception(\"有偶数！\")\n",
    "    except Exception as e:\n",
    "        logging.error(e)\n",
    "\n",
    "fn()"
   ]
  },
  {
   "cell_type": "code",
   "execution_count": 85,
   "metadata": {},
   "outputs": [
    {
     "data": {
      "text/plain": [
       "'（.*）是贪婪匹配，会把满足正则的尽可能多的往后匹配\\n\\n（.*?）是非贪婪匹配，会把满足正则的尽可能少匹配'"
      ]
     },
     "execution_count": 85,
     "metadata": {},
     "output_type": "execute_result"
    }
   ],
   "source": [
    "# 37、正则表达式匹配中，（.*）和（.*?）匹配区别？\n",
    "\n",
    "\"\"\"（.*）是贪婪匹配，会把满足正则的尽可能多的往后匹配\n",
    "\n",
    "（.*?）是非贪婪匹配，会把满足正则的尽可能少匹配\"\"\""
   ]
  },
  {
   "cell_type": "code",
   "execution_count": 86,
   "metadata": {},
   "outputs": [
    {
     "data": {
      "text/plain": [
       "'\\nORM，全拼Object-Relation Mapping，意为对象-关系映射\\n\\n实现了数据模型与数据库的解耦，通过简单的配置就可以轻松更换数据库，\\n而不需要修改代码只需要面向对象编程,orm操作本质上会根据对接的数据库引擎\\n，翻译成对应的sql语句,所有使用Django开发的项目无需关心程序底层使用\\n的是MySQL、Oracle、sqlite....，如果数据库迁移，\\n只需要更换Django的数据库引擎即可\\n'"
      ]
     },
     "execution_count": 86,
     "metadata": {},
     "output_type": "execute_result"
    }
   ],
   "source": [
    "# 38、简述Django的orm\n",
    "\"\"\"\n",
    "ORM，全拼Object-Relation Mapping，意为对象-关系映射\n",
    "\n",
    "实现了数据模型与数据库的解耦，通过简单的配置就可以轻松更换数据库，\n",
    "而不需要修改代码只需要面向对象编程,orm操作本质上会根据对接的数据库引擎\n",
    "，翻译成对应的sql语句,所有使用Django开发的项目无需关心程序底层使用\n",
    "的是MySQL、Oracle、sqlite....，如果数据库迁移，\n",
    "只需要更换Django的数据库引擎即可\n",
    "\"\"\""
   ]
  },
  {
   "cell_type": "code",
   "execution_count": 87,
   "metadata": {},
   "outputs": [
    {
     "data": {
      "text/plain": [
       "[1, 2, 3, 4, 5, 6]"
      ]
     },
     "execution_count": 87,
     "metadata": {},
     "output_type": "execute_result"
    }
   ],
   "source": [
    "# 39 [[1,2],[3,4],[5,6]]一行代码展开该列表，得出[1,2,3,4,5,6]\n",
    "a = [[1,2],[3,4],[5,6]]\n",
    "x = [j for i in a for j in i]\n",
    "x"
   ]
  },
  {
   "cell_type": "code",
   "execution_count": 91,
   "metadata": {},
   "outputs": [
    {
     "data": {
      "text/plain": [
       "'dabceabcf'"
      ]
     },
     "execution_count": 91,
     "metadata": {},
     "output_type": "execute_result"
    }
   ],
   "source": [
    "# 40、x=\"abc\",y=\"def\",z=[\"d\",\"e\",\"f\"],\n",
    "# 分别求出x.join(y)和x.join(z)返回的结果\n",
    "\n",
    "x=\"abc\"\n",
    "y=\"def\"\n",
    "z=[\"d\",\"e\",\"f\"]\n",
    "x.join(y)"
   ]
  },
  {
   "cell_type": "code",
   "execution_count": 92,
   "metadata": {},
   "outputs": [
    {
     "data": {
      "text/plain": [
       "'dabceabcf'"
      ]
     },
     "execution_count": 92,
     "metadata": {},
     "output_type": "execute_result"
    }
   ],
   "source": [
    "x.join(z)"
   ]
  },
  {
   "cell_type": "code",
   "execution_count": 93,
   "metadata": {},
   "outputs": [
    {
     "data": {
      "text/plain": [
       "'\\ntry..except..else没有捕获到异常，执行else语句\\n\\ntry..except..finally不管是否捕获到异常，都执行finally语句\\n'"
      ]
     },
     "execution_count": 93,
     "metadata": {},
     "output_type": "execute_result"
    }
   ],
   "source": [
    "# 41、举例说明异常模块中try except else finally的相关意义\n",
    "\"\"\"\n",
    "try..except..else没有捕获到异常，执行else语句\n",
    "\n",
    "try..except..finally不管是否捕获到异常，都执行finally语句\n",
    "\"\"\""
   ]
  },
  {
   "cell_type": "code",
   "execution_count": 94,
   "metadata": {},
   "outputs": [
    {
     "data": {
      "text/plain": [
       "(4, 3)"
      ]
     },
     "execution_count": 94,
     "metadata": {},
     "output_type": "execute_result"
    }
   ],
   "source": [
    "# 42 交换数值\n",
    "a, b = 3, 4\n",
    "a, b = b, a\n",
    "a, b"
   ]
  },
  {
   "cell_type": "code",
   "execution_count": 95,
   "metadata": {},
   "outputs": [
    {
     "name": "stdout",
     "output_type": "stream",
     "text": [
      "[(1, 3), (2, 4)]\n"
     ]
    }
   ],
   "source": [
    "# 43、举例说明zip（）函数用法\n",
    "\"\"\"\n",
    "zip()函数在运算时，会以一个或多个序列（可迭代对象）做为参数，\n",
    "返回一个元组的列表。同时将这些序列中并排的元素配对。\n",
    "\n",
    "zip()参数可以接受任何类型的序列，同时也可以有两个以上的参数;\n",
    "当传入参数的长度不同时，zip能自动以最短序列长度为准进行截取，获得元组。\n",
    "\"\"\"\n",
    "a = [1, 2]\n",
    "b = [3, 4]\n",
    "res = [i for i in zip(a, b)]\n",
    "print(res)"
   ]
  },
  {
   "cell_type": "code",
   "execution_count": 97,
   "metadata": {},
   "outputs": [
    {
     "data": {
      "text/plain": [
       "'张明 100分'"
      ]
     },
     "execution_count": 97,
     "metadata": {},
     "output_type": "execute_result"
    }
   ],
   "source": [
    "# 44、a=\"张明 98分\"，用re.sub，将98替换为100\n",
    "a = \"张明 98分\"\n",
    "re.sub('98', '100', a)"
   ]
  },
  {
   "cell_type": "code",
   "execution_count": 98,
   "metadata": {},
   "outputs": [
    {
     "data": {
      "text/plain": [
       "'\\nshow databases;\\n\\nshow tables;\\n\\ndesc 表名;\\n\\nselect * from 表名;\\n\\ndelete from 表名 where id=5;\\n\\ninsert into students(name, gender) values(\\'ye\\', 1)\\n\\nupdate students set gender=0,hometown=\"北京\" where id=5\\n\\nalter table students drop birthday;\\n\\ndrop table students\\n\\nshow create talbe students\\n\\nrename table students to stu\\n\\nalter table students add birthday datetiem\\n\\nalter talbe studente modify birthday not null default \\'\\';\\n\\nalter talbe studente change birthday birth not null default \\'\\';\\n'"
      ]
     },
     "execution_count": 98,
     "metadata": {},
     "output_type": "execute_result"
    }
   ],
   "source": [
    "# 45、写5条常用sql语句\n",
    "\"\"\"\n",
    "show databases;\n",
    "\n",
    "show tables;\n",
    "\n",
    "desc 表名;\n",
    "\n",
    "select * from 表名;\n",
    "\n",
    "delete from 表名 where id=5;\n",
    "\n",
    "insert into students(name, gender) values('ye', 1)\n",
    "\n",
    "update students set gender=0,hometown=\"北京\" where id=5\n",
    "\n",
    "alter table students drop birthday;\n",
    "\n",
    "drop table students\n",
    "\n",
    "show create talbe students\n",
    "\n",
    "rename table students to stu\n",
    "\n",
    "alter table students add birthday datetiem\n",
    "\n",
    "alter talbe studente modify birthday not null default '';\n",
    "\n",
    "alter talbe studente change birthday birth not null default '';\n",
    "\"\"\""
   ]
  },
  {
   "cell_type": "code",
   "execution_count": 100,
   "metadata": {},
   "outputs": [
    {
     "name": "stdout",
     "output_type": "stream",
     "text": [
      "b'hello'\n"
     ]
    }
   ],
   "source": [
    "# 46、a=\"hello\"和b=\"你好\"编码成bytes类型\n",
    "a=\"hello\"\n",
    "b=\"你好\"\n",
    "a.encode()\n",
    "print(a.encode())"
   ]
  },
  {
   "cell_type": "code",
   "execution_count": 101,
   "metadata": {},
   "outputs": [
    {
     "data": {
      "text/plain": [
       "[1, 2, 3, 4, 5, 6]"
      ]
     },
     "execution_count": 101,
     "metadata": {},
     "output_type": "execute_result"
    }
   ],
   "source": [
    "#  47、[1,2,3]+[4,5,6]的结果是多少？\n",
    "list5 = [1, 2, 3]\n",
    "list6 = [4, 5, 6]\n",
    "list5 + list6"
   ]
  },
  {
   "cell_type": "code",
   "execution_count": 102,
   "metadata": {},
   "outputs": [
    {
     "data": {
      "text/plain": [
       "'\\n1、使用生成器，因为可以节约大量内存\\n\\n2、循环代码优化，避免过多重复代码的执行\\n\\n3、核心模块用Cython PyPy等，提高效率\\n\\n4、多进程、多线程、协程\\n\\n5、多个if elif条件判断，可以把最有可能先发生的条件放到前面写，\\n这样可以减少程序判断的次数，提高效率\\n'"
      ]
     },
     "execution_count": 102,
     "metadata": {},
     "output_type": "execute_result"
    }
   ],
   "source": [
    "# 48、提高python运行效率的方法\n",
    "\"\"\"\n",
    "1、使用生成器，因为可以节约大量内存\n",
    "\n",
    "2、循环代码优化，避免过多重复代码的执行\n",
    "\n",
    "3、核心模块用Cython PyPy等，提高效率\n",
    "\n",
    "4、多进程、多线程、协程\n",
    "\n",
    "5、多个if elif条件判断，可以把最有可能先发生的条件放到前面写，\n",
    "这样可以减少程序判断的次数，提高效率\n",
    "\"\"\""
   ]
  },
  {
   "cell_type": "code",
   "execution_count": 103,
   "metadata": {},
   "outputs": [
    {
     "data": {
      "text/plain": [
       "'\\n1. 检查逻辑\\n2. 检查参数\\n3. 检查上下文是否一致\\n4. 打断点，逐个排查\\n'"
      ]
     },
     "execution_count": 103,
     "metadata": {},
     "output_type": "execute_result"
    }
   ],
   "source": [
    "# 50、遇到bug如何处理\n",
    "\"\"\"\n",
    "1. 检查逻辑\n",
    "2. 检查参数\n",
    "3. 检查上下文是否一致\n",
    "4. 打断点，逐个排查\n",
    "\"\"\""
   ]
  },
  {
   "cell_type": "code",
   "execution_count": 115,
   "metadata": {},
   "outputs": [
    {
     "name": "stdout",
     "output_type": "stream",
     "text": [
      "[]\n"
     ]
    }
   ],
   "source": [
    "# 51、正则匹配，匹配日期2018-03-20\n",
    "str2 = 'https://link.zhihu.com/?target=https%3A//sycm.taobao.com/bda/tradinganaly/overview/get_summary.json%3FdateRange%3D2018-03-20%257C2018-03-20%26dateType%3Drecent1%26device%3D1%26token%3Dff25b109b%26_%3D1521595613462'\n",
    "\n",
    "result = re.findall(r'dataRange(.*?)%257C(.*?)&', str2)\n",
    "print(result)"
   ]
  },
  {
   "cell_type": "code",
   "execution_count": 119,
   "metadata": {
    "jupyter": {
     "source_hidden": true
    }
   },
   "outputs": [
    {
     "name": "stdout",
     "output_type": "stream",
     "text": [
      "[0, 1, 2, 3, 4, 5, 6, 7, 8, 9]\n"
     ]
    }
   ],
   "source": [
    "# 52、list=[2,3,5,4,9,6]，从小到大排序，不许用sort，输出[2,3,4,5,6,9]\n",
    "list7 = [2, 0, 8, 7, 9, 1, 6, 4, 5, 3]\n",
    "\n",
    "def quick_sort(arr):\n",
    "    if len(arr) < 2:\n",
    "        return arr\n",
    "    else:\n",
    "        p = arr[0]\n",
    "        left = [i for i in arr[1:] if i < p]\n",
    "        right = [i for i in arr[1:] if i > p]\n",
    "        return quick_sort(left) + [p] + quick_sort(right)\n",
    "\n",
    "print(quick_sort(list7))"
   ]
  },
  {
   "cell_type": "code",
   "execution_count": 120,
   "metadata": {},
   "outputs": [
    {
     "data": {
      "text/plain": [
       "True"
      ]
     },
     "execution_count": 120,
     "metadata": {},
     "output_type": "execute_result"
    }
   ],
   "source": [
    "# 53、写一个单列模式\n",
    "class SingleTon(object):\n",
    "    \n",
    "    _instance = None\n",
    "    \n",
    "    def __new__(cls, *args, **kwargs):\n",
    "        if cls._instance is None:\n",
    "            cls._instance = super().__new__(cls)\n",
    "        return cls._instance\n",
    "    \n",
    "a = SingleTon()\n",
    "b = SingleTon()\n",
    "id(a) == id(b)"
   ]
  },
  {
   "cell_type": "code",
   "execution_count": 124,
   "metadata": {},
   "outputs": [
    {
     "data": {
      "text/plain": [
       "'hello world'"
      ]
     },
     "execution_count": 124,
     "metadata": {},
     "output_type": "execute_result"
    }
   ],
   "source": [
    "str3 = 'hello world'\n",
    "str3.capitalize()\n",
    "str3"
   ]
  },
  {
   "cell_type": "code",
   "execution_count": 147,
   "metadata": {},
   "outputs": [
    {
     "name": "stdout",
     "output_type": "stream",
     "text": [
      "55\n"
     ]
    }
   ],
   "source": [
    "fib = lambda x: x if x < 2 else fib(x - 1) + fib(x - 2)\n",
    "print(fib(10))"
   ]
  },
  {
   "cell_type": "code",
   "execution_count": 163,
   "metadata": {},
   "outputs": [
    {
     "name": "stdout",
     "output_type": "stream",
     "text": [
      "4\n"
     ]
    }
   ],
   "source": [
    "fib2 = lambda n: n if n < 2 else 2 * fib(n - 1)\n",
    "print(fib2(4))"
   ]
  },
  {
   "cell_type": "code",
   "execution_count": null,
   "metadata": {},
   "outputs": [],
   "source": []
  }
 ],
 "metadata": {
  "kernelspec": {
   "display_name": "Python 3",
   "language": "python",
   "name": "python3"
  },
  "language_info": {
   "codemirror_mode": {
    "name": "ipython",
    "version": 3
   },
   "file_extension": ".py",
   "mimetype": "text/x-python",
   "name": "python",
   "nbconvert_exporter": "python",
   "pygments_lexer": "ipython3",
   "version": "3.7.3"
  }
 },
 "nbformat": 4,
 "nbformat_minor": 4
}
