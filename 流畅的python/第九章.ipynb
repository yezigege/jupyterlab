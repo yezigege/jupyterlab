{
 "cells": [
  {
   "cell_type": "code",
   "execution_count": null,
   "metadata": {},
   "outputs": [],
   "source": [
    "# 第 9 章 符合Python风格的对象\n",
    "\"\"\"\n",
    "得益于 Python 数据模型，自定义类型的行为可以像内置类型那样自然。 实现如此自然的行为，靠的不是继承，而是鸭子类型(duck typing): \n",
    "我们只需按照预定行为实现对象所需的方法即可。\n",
    "\n",
    "前一章分析了很多内置对象的结构和行为，这一章则自己定义类，而且 让类的行为跟真正的 Python 对象一样。\n",
    "\n",
    "这一章接续第 1 章，说明如何实现在很多 Python 类型中常见的特殊方 法。\n",
    "\n",
    "本章包含以下话题:\n",
    "  支持用于生成对象其他表示形式的内置函数(如repr()、bytes()，等等) \n",
    "  使用一个类方法实现备选构造方法\n",
    "  扩展内置的 format() 函数和 str.format() 方法使用的格式微语 言\n",
    "  实现只读属性\n",
    "  把对象变为可散列的，以便在集合中及作为 dict 的键使用 \n",
    "  利用 __slots__ 节省内存\n",
    "   \n",
    "我们将开发一个简单的二维欧几里得向量类型，在这个过程中涵盖上述全部话题。 在实现这个类型的中间阶段，我们会讨论两个概念:\n",
    "  如何以及何时使用 @classmethod 和 @staticmethod 装饰器\n",
    "  Python 的私有属性和受保护属性的用法、约定和局限 \n",
    "  \n",
    "我们从对象表示形式函数开始。\n",
    "\"\"\""
   ]
  },
  {
   "cell_type": "code",
   "execution_count": null,
   "metadata": {},
   "outputs": [],
   "source": [
    "# 9.1 对象表示形式\n",
    "\n",
    "\"\"\"\n",
    "每门面向对象的语言至少都有一种获取对象的字符串表示形式的标准方式。Python 提供了两种方式。\n",
    "\n",
    "repr()\n",
    "  以便于开发者理解的方式返回对象的字符串表示形式。\n",
    "str()\n",
    "  以便于用户理解的方式返回对象的字符串表示形式。\n",
    "  \n",
    "正如你所知，我们要实现 __repr__ 和 __str__ 特殊方法，为 repr() 和 str() 提供支持。\n",
    "为了给对象提供其他的表示形式，还会用到另外两个特殊方 法:__bytes__ 和 __format__。\n",
    "__bytes__ 方法与 __str__ 方法类 似:bytes() 函数调用它获取对象的字节序列表示形式。\n",
    "而 __format__ 方法会被内置的 format() 函数和 str.format() 方法调 用，使用特殊的格式代码显示对象的字符串表示形式。\n",
    "我们将在下一个 示例中讨论 __bytes__ 方法，随后再讨论 __format__ 方法。\n",
    "\"\"\""
   ]
  },
  {
   "cell_type": "code",
   "execution_count": 4,
   "metadata": {},
   "outputs": [
    {
     "name": "stdout",
     "output_type": "stream",
     "text": [
      "3.0 4.0\n"
     ]
    }
   ],
   "source": [
    "# 9.2 再谈向量类\n",
    "\"\"\"\n",
    "为了说明用于生成对象表示形式的众多方法，我们将使用一个 Vector2d 类，\n",
    "它与第 1 章中的类似。这一节和接下来的几节会不断实 现这个类。我们期望 Vector2d 实例具有的基本行为如示例 9-1 所示。\n",
    "\"\"\"\n",
    "# 示例 9-1 Vector2d 实例有多种表示形式  # 这个是运行效果。获得此效果前，需要先运行 示例 9-2\n",
    "v1 = Vector2d(3, 4)  # Vector2d 实例的分量可以直接通过属性访问(无需调用读值方 法)。\n",
    "print(v1.x, v1.y)"
   ]
  },
  {
   "cell_type": "code",
   "execution_count": 3,
   "metadata": {},
   "outputs": [],
   "source": [
    "# 示例 9-2 vector2d_v0.py:目前定义的都是特殊方法\n",
    "from array import array\n",
    "import math\n",
    "\n",
    "\n",
    "class Vector2d:\n",
    "    typecode = 'd'\n",
    "    \n",
    "    def __init__(self, x, y):\n",
    "        self.x = float(x)\n",
    "        self.y = float(y)\n",
    "        \n",
    "    def __iter__(self):\n",
    "        return (i for i in (self.x, self.y))\n",
    "    \n",
    "    def __repr__(self):\n",
    "        class_name = type(self).__name__\n",
    "        return '{}({!r}, {!r})'.format(class_name, *self)\n",
    "    \n",
    "    def __str__(self):\n",
    "        return str(tuple(self))\n",
    "    \n",
    "    def __bytes__(self):\n",
    "        return (bytes([ord(self.typecode)]) + bytes(array(self.typecode, self)))\n",
    "    \n",
    "    def __eq__(self, other):\n",
    "        return tuple(self) == tuple(other)\n",
    "    \n",
    "    def __abs__(self):\n",
    "        return math.hypot(self.x, self.y)\n",
    "    \n",
    "    def __bool__(self):\n",
    "        return bool(abs(self))"
   ]
  },
  {
   "cell_type": "code",
   "execution_count": 6,
   "metadata": {},
   "outputs": [
    {
     "data": {
      "text/plain": [
       "(3.0, 4.0)"
      ]
     },
     "execution_count": 6,
     "metadata": {},
     "output_type": "execute_result"
    }
   ],
   "source": [
    "x, y = v1   # Vector2d 实例可以拆包成变量元组。\n",
    "x, y"
   ]
  },
  {
   "cell_type": "code",
   "execution_count": 7,
   "metadata": {},
   "outputs": [
    {
     "data": {
      "text/plain": [
       "Vector2d(3.0, 4.0)"
      ]
     },
     "execution_count": 7,
     "metadata": {},
     "output_type": "execute_result"
    }
   ],
   "source": [
    "v1          #  repr 函数调用 Vector2d 实例，得到的结果类似于构建实例的源码。"
   ]
  },
  {
   "cell_type": "code",
   "execution_count": 8,
   "metadata": {},
   "outputs": [
    {
     "data": {
      "text/plain": [
       "True"
      ]
     },
     "execution_count": 8,
     "metadata": {},
     "output_type": "execute_result"
    }
   ],
   "source": [
    "v1_clone = eval(repr(v1))  # 这里使用 eval 函数，表明 repr 函数调用 Vector2d 实例得到的是对构造方法的准确表述\n",
    "v1 == v1_clone             #  Vector2d 实例支持使用 == 比较;这样便于测试。"
   ]
  },
  {
   "cell_type": "code",
   "execution_count": 9,
   "metadata": {},
   "outputs": [
    {
     "name": "stdout",
     "output_type": "stream",
     "text": [
      "(3.0, 4.0)\n"
     ]
    }
   ],
   "source": [
    "print(v1)                  # print 函数会调用 str 函数，对 Vector2d 来说，输出的是一个有序对 "
   ]
  },
  {
   "cell_type": "code",
   "execution_count": 10,
   "metadata": {},
   "outputs": [
    {
     "data": {
      "text/plain": [
       "b'd\\x00\\x00\\x00\\x00\\x00\\x00\\x08@\\x00\\x00\\x00\\x00\\x00\\x00\\x10@'"
      ]
     },
     "execution_count": 10,
     "metadata": {},
     "output_type": "execute_result"
    }
   ],
   "source": [
    "octets = bytes(v1)         #  bytes 函数会调用 __bytes__ 方法，生成实例的二进制表示形式\n",
    "octets"
   ]
  },
  {
   "cell_type": "code",
   "execution_count": 11,
   "metadata": {},
   "outputs": [
    {
     "data": {
      "text/plain": [
       "5.0"
      ]
     },
     "execution_count": 11,
     "metadata": {},
     "output_type": "execute_result"
    }
   ],
   "source": [
    "abs(v1)                    # abs 函数会调用 __abs__ 方法，返回 Vector2d 实例的模。"
   ]
  },
  {
   "cell_type": "code",
   "execution_count": 12,
   "metadata": {},
   "outputs": [
    {
     "data": {
      "text/plain": [
       "(True, False)"
      ]
     },
     "execution_count": 12,
     "metadata": {},
     "output_type": "execute_result"
    }
   ],
   "source": [
    " bool(v1), bool(Vector2d(0, 0))   # bool 函数会调用 __bool__ 方法，如果 Vector2d 实例的模为零， 返回 False，否则返回 True。"
   ]
  },
  {
   "cell_type": "code",
   "execution_count": 13,
   "metadata": {},
   "outputs": [
    {
     "data": {
      "text/plain": [
       "(__main__.Demo,)"
      ]
     },
     "execution_count": 13,
     "metadata": {},
     "output_type": "execute_result"
    }
   ],
   "source": [
    "# 9.4 classmethod与staticmethod\n",
    "# 示例 9-4 比较 classmethod 和 staticmethod 的行为\n",
    "class Demo:\n",
    "    @classmethod\n",
    "    def klassmeth(*args):\n",
    "        return args\n",
    "    \n",
    "    @staticmethod\n",
    "    def statmeth(*args):\n",
    "        return args\n",
    "    \n",
    "Demo.klassmeth()"
   ]
  },
  {
   "cell_type": "code",
   "execution_count": 14,
   "metadata": {},
   "outputs": [
    {
     "data": {
      "text/plain": [
       "(__main__.Demo, 'spam')"
      ]
     },
     "execution_count": 14,
     "metadata": {},
     "output_type": "execute_result"
    }
   ],
   "source": [
    "Demo.klassmeth('spam')"
   ]
  },
  {
   "cell_type": "code",
   "execution_count": 15,
   "metadata": {},
   "outputs": [
    {
     "data": {
      "text/plain": [
       "()"
      ]
     },
     "execution_count": 15,
     "metadata": {},
     "output_type": "execute_result"
    }
   ],
   "source": [
    "Demo.statmeth()"
   ]
  },
  {
   "cell_type": "code",
   "execution_count": 16,
   "metadata": {},
   "outputs": [
    {
     "data": {
      "text/plain": [
       "('spam',)"
      ]
     },
     "execution_count": 16,
     "metadata": {},
     "output_type": "execute_result"
    }
   ],
   "source": [
    "Demo.statmeth('spam')"
   ]
  },
  {
   "cell_type": "code",
   "execution_count": 17,
   "metadata": {},
   "outputs": [
    {
     "data": {
      "text/plain": [
       "0.4115226337448559"
      ]
     },
     "execution_count": 17,
     "metadata": {},
     "output_type": "execute_result"
    }
   ],
   "source": [
    "# 9.5 格式化显示\n",
    "\"\"\"\n",
    "内置的 format() 函数和 str.format() 方法把各个类型的格式化方式 委托给相应的 .__format__(format_spec) 方法。format_spec 是格 式说明符，\n",
    "它是:\n",
    "format(my_obj, format_spec) 的第二个参数，\n",
    "或者 str.format() 方法的格式字符串，{} 里代换字段中冒号后面的部分\n",
    "\"\"\"\n",
    "br1 = 1/2.43  # BRL 到 USD 的货币兑换比价\n",
    "br1"
   ]
  },
  {
   "cell_type": "code",
   "execution_count": 18,
   "metadata": {},
   "outputs": [
    {
     "data": {
      "text/plain": [
       "'0.4115'"
      ]
     },
     "execution_count": 18,
     "metadata": {},
     "output_type": "execute_result"
    }
   ],
   "source": [
    "format(br1, '0.4f')  # 格式说明"
   ]
  },
  {
   "cell_type": "code",
   "execution_count": 20,
   "metadata": {},
   "outputs": [
    {
     "data": {
      "text/plain": [
       "'1 BRL = 0.41 USD'"
      ]
     },
     "execution_count": 20,
     "metadata": {},
     "output_type": "execute_result"
    }
   ],
   "source": [
    "'1 BRL = {rate:0.2f} USD'.format(rate=br1)"
   ]
  },
  {
   "cell_type": "code",
   "execution_count": 21,
   "metadata": {},
   "outputs": [
    {
     "data": {
      "text/plain": [
       "'101010'"
      ]
     },
     "execution_count": 21,
     "metadata": {},
     "output_type": "execute_result"
    }
   ],
   "source": [
    "\"\"\"\n",
    "格式规范微语言为一些内置类型提供了专用的表示代码。\n",
    "比如，\n",
    "b 和 x 分别表示二进制和十六进制的 int 类型，\n",
    "f 表示小数形式的 float 类 型，\n",
    "而 % 表示百分数形式:\n",
    "\"\"\"\n",
    "format(42, 'b')"
   ]
  },
  {
   "cell_type": "code",
   "execution_count": 22,
   "metadata": {},
   "outputs": [
    {
     "data": {
      "text/plain": [
       "'66.7%'"
      ]
     },
     "execution_count": 22,
     "metadata": {},
     "output_type": "execute_result"
    }
   ],
   "source": [
    "format(2/3, '.1%')"
   ]
  },
  {
   "cell_type": "code",
   "execution_count": 23,
   "metadata": {},
   "outputs": [
    {
     "data": {
      "text/plain": [
       "'06:53:12'"
      ]
     },
     "execution_count": 23,
     "metadata": {},
     "output_type": "execute_result"
    }
   ],
   "source": [
    "\"\"\"\n",
    "格式规范微语言是可扩展的，因为各个类可以自行决定如何解释 format_spec 参数。\n",
    "例如， datetime 模块中的类，它们的 __format__ 方法使用的格式代码与 strftime() 函数一样。\n",
    "下面是内 置的 format() 函数和 str.format() 方法的几个示例:\n",
    "\"\"\"\n",
    "from datetime import datetime\n",
    "now = datetime.now()\n",
    "format(now, '%H:%M:%S')"
   ]
  },
  {
   "cell_type": "code",
   "execution_count": 24,
   "metadata": {},
   "outputs": [
    {
     "data": {
      "text/plain": [
       "\"It's now 06:53 am\""
      ]
     },
     "execution_count": 24,
     "metadata": {},
     "output_type": "execute_result"
    }
   ],
   "source": [
    "\"It's now {:%I:%M %P}\".format(now)"
   ]
  },
  {
   "cell_type": "code",
   "execution_count": 25,
   "metadata": {},
   "outputs": [
    {
     "data": {
      "text/plain": [
       "'(3.0, 4.0)'"
      ]
     },
     "execution_count": 25,
     "metadata": {},
     "output_type": "execute_result"
    }
   ],
   "source": [
    "\"\"\"\n",
    "如果类没有定义 __format__ 方法，从 object 继承的方法会返回 str(my_object)。我们为 Vector2d 类定义了 __str__ 方法，因此可 以这样做:\n",
    "\"\"\"\n",
    "v1 = Vector2d(3, 4)\n",
    "format(v1)"
   ]
  },
  {
   "cell_type": "code",
   "execution_count": 26,
   "metadata": {},
   "outputs": [
    {
     "ename": "TypeError",
     "evalue": "unsupported format string passed to Vector2d.__format__",
     "output_type": "error",
     "traceback": [
      "\u001b[0;31m---------------------------------------------------------------------------\u001b[0m",
      "\u001b[0;31mTypeError\u001b[0m                                 Traceback (most recent call last)",
      "\u001b[0;32m<ipython-input-26-3f5e47e8f8c9>\u001b[0m in \u001b[0;36m<module>\u001b[0;34m\u001b[0m\n\u001b[1;32m      1\u001b[0m \u001b[0;31m# 然而，如果传入格式说明符，object.__format__ 方法会抛出 TypeError:\u001b[0m\u001b[0;34m\u001b[0m\u001b[0;34m\u001b[0m\u001b[0;34m\u001b[0m\u001b[0m\n\u001b[0;32m----> 2\u001b[0;31m \u001b[0mformat\u001b[0m\u001b[0;34m(\u001b[0m\u001b[0mv1\u001b[0m\u001b[0;34m,\u001b[0m \u001b[0;34m'.3f'\u001b[0m\u001b[0;34m)\u001b[0m\u001b[0;34m\u001b[0m\u001b[0;34m\u001b[0m\u001b[0m\n\u001b[0m",
      "\u001b[0;31mTypeError\u001b[0m: unsupported format string passed to Vector2d.__format__"
     ]
    }
   ],
   "source": [
    "# 然而，如果传入格式说明符，object.__format__ 方法会抛出 TypeError:\n",
    "format(v1, '.3f')"
   ]
  },
  {
   "cell_type": "code",
   "execution_count": null,
   "metadata": {},
   "outputs": [],
   "source": [
    "\"\"\"\n",
    "我们将实现自己的微语言来解决这个问题。首先，假设用户提供的格式 说明符是用于格式化向量中各个浮点数分量的。我们想达到的效果是:\n",
    "\"\"\"\n",
    ">>> v1 = Vector2d(3, 4) >>> format(v1)\n",
    "'(3.0, 4.0)'\n",
    ">>> format(v1, '.2f') '(3.00, 4.00)'\n",
    ">>> format(v1, '.3e') '(3.000e+00, 4.000e+00)'"
   ]
  },
  {
   "cell_type": "code",
   "execution_count": null,
   "metadata": {},
   "outputs": [],
   "source": [
    "\"\"\"\n",
    "实现这种输出的 __format__ 方法如示例 9-5 所示。 \n",
    "示例 9-5 Vector2d.__format__ 方法，第 1 版\n",
    "\"\"\"\n",
    "# 在Vector2d类中定义\n",
    "def __format__(self, fmt_spec=''):\n",
    "    components = (format(c, fmt_spec) for c in self) # ➊ \n",
    "    return '({}, {})'.format(*components) # ➋"
   ]
  },
  {
   "cell_type": "code",
   "execution_count": 30,
   "metadata": {},
   "outputs": [],
   "source": [
    "# 对象能否支持 hash，即 hash(xxx)， 需要实现 该对象的 __hash__方法。\n",
    "\n",
    "# 示例 9-9 vector2d_v3.py:完整版\n",
    "\n",
    "from array import array \n",
    "import math\n",
    "\n",
    "class Vector2d:\n",
    "    __slots__ = ('__x', '__y')\n",
    "    typecode = 'd'\n",
    "    \n",
    "    def __init__(self, x, y):\n",
    "        self.__x = float(x) \n",
    "        self.__y = float(y)\n",
    "    @property \n",
    "    def x(self):\n",
    "        return self.__x\n",
    "    \n",
    "    @property \n",
    "    def y(self):\n",
    "        return self.__y\n",
    "\n",
    "    def __iter__(self): \n",
    "        return (i for i in (self.x, self.y))\n",
    "\n",
    "    def __repr__(self):\n",
    "        class_name = type(self).__name__\n",
    "        return '{}({!r}, {!r})'.format(class_name, *self)\n",
    "\n",
    "    def __str__(self):\n",
    "        return str(tuple(self))\n",
    "\n",
    "    def __bytes__(self):\n",
    "        return (bytes([ord(self.typecode)]) + bytes(array(self.typecode, self)))\n",
    "\n",
    "    def __eq__(self, other):\n",
    "        return tuple(self) == tuple(other)\n",
    "\n",
    "    def __hash__(self):\n",
    "        return hash(self.x) ^ hash(self.y)\n",
    "\n",
    "    def __abs__(self):\n",
    "        return math.hypot(self.x, self.y)\n",
    "\n",
    "    def __bool__(self): \n",
    "        return bool(abs(self))\n",
    "\n",
    "    def angle(self):\n",
    "        return math.atan2(self.y, self.x)\n",
    "\n",
    "    def __format__(self, fmt_spec=''): \n",
    "        if fmt_spec.endswith('p'):\n",
    "            fmt_spec = fmt_spec[:-1] \n",
    "            coords = (abs(self), self.angle()) \n",
    "            outer_fmt = '<{}, {}>'\n",
    "        else:\n",
    "            coords = self\n",
    "            outer_fmt = '({}, {})'\n",
    "            \n",
    "        components = (format(c, fmt_spec) for c in coords) \n",
    "        return outer_fmt.format(*components)\n",
    "\n",
    "    @classmethod\n",
    "    def frombytes(cls, octets):\n",
    "        typecode = chr(octets[0])\n",
    "        memv = memoryview(octets[1:]).cast(typecode) \n",
    "        return cls(*memv)"
   ]
  },
  {
   "cell_type": "code",
   "execution_count": 31,
   "metadata": {},
   "outputs": [
    {
     "data": {
      "text/plain": [
       "{'_Vector2d__x': 3.0, '_Vector2d__y': 4.0}"
      ]
     },
     "execution_count": 31,
     "metadata": {},
     "output_type": "execute_result"
    }
   ],
   "source": [
    "# 9.7 Python的私有属性和“受保护的”属性\n",
    "\"\"\"\n",
    "Python 不能像 Java 那样使用 private 修饰符创建私有属性，但是Python 有个简单的机制，能避免子类意外覆盖“私有”属性。\n",
    "\n",
    "举个例子。有人编写了一个名为 Dog 的类，这个类的内部用到了 mood 实例属性，但是没有将其开放。\n",
    "现在，你创建了 Dog 类的子 类:Beagle。如果你在毫不知情的情况下又创建了名为 mood 的实例属 性，那么在继承的方法中就会把 Dog 类的 mood 属性覆盖掉。\n",
    "这是个难 以调试的问题。\n",
    "\n",
    "为了避免这种情况，如果以 __mood 的形式(两个前导下划线，尾部没 有或最多有一个下划线)命名实例属性，\n",
    "Python 会把属性名存入实例的 __dict__ 属性中，而且会在前面加上一个下划线和类名。\n",
    "因此，对 Dog 类来说，__mood 会变成 _Dog__mood;对 Beagle 类来说，会变成 _Beagle__mood。\n",
    "这个语言特性叫名称改写(name mangling)。\n",
    "\"\"\"\n",
    "v1 = Vector2d(3, 4)\n",
    "v1.__dict__"
   ]
  },
  {
   "cell_type": "code",
   "execution_count": 32,
   "metadata": {},
   "outputs": [
    {
     "data": {
      "text/plain": [
       "3.0"
      ]
     },
     "execution_count": 32,
     "metadata": {},
     "output_type": "execute_result"
    }
   ],
   "source": [
    "v1._Vector2d__x"
   ]
  },
  {
   "cell_type": "code",
   "execution_count": null,
   "metadata": {},
   "outputs": [],
   "source": [
    "\"\"\"名称改写是一种安全措施，不能保证万无一失:它的目的是避免意外访 问，不能防止故意做错事\"\"\""
   ]
  },
  {
   "cell_type": "code",
   "execution_count": null,
   "metadata": {},
   "outputs": [],
   "source": [
    "# 9.8 使用 __slots__ 类属性节省空间\n",
    "\"\"\"\n",
    "默认情况下，Python 在各个实例中名为 __dict__ 的字典里存储实例属 性。如 3.9.3 节所述，为了使用底层的散列表提升访问速度，字典会消 耗大量内存。\n",
    "如果要处理数百万个属性不多的实例，通过 __slots__ 类属性，能节省大量内存，方法是让解释器在元组中存储实例属性，而 不用字典。\n",
    "\n",
    "20200604 15:20 注：从python3.6 开始字典支持有序之后，内存消耗量较以往减少了点\n",
    "\"\"\""
   ]
  },
  {
   "cell_type": "code",
   "execution_count": 34,
   "metadata": {},
   "outputs": [],
   "source": [
    "\"\"\"\n",
    "定义 __slots__ 的方式是，创建一个类属性，使用 __slots__ 这个名 字，并把它的值设为一个字符串构成的可迭代对象，其中各个元素表示 各个实例属性。\n",
    "我喜欢使用元组，因为这样定义的 __slots__ 中所含 的信息不会变化，如示例 9-11 所示。\n",
    "\"\"\"\n",
    "\n",
    "# 示例 9-11 vector2d_v3_slots.py:只在 Vector2d 类中添加了 __slots__ 属性\n",
    "from array import array \n",
    "import math\n",
    "\n",
    "class Vector2d:\n",
    "    __slots__ = ('__x', '__y')   # <===   添加了这一行\n",
    "    typecode = 'd'\n",
    "    \n",
    "    def __init__(self, x, y):\n",
    "        self.__x = float(x) \n",
    "        self.__y = float(y)\n",
    "    @property \n",
    "    def x(self):\n",
    "        return self.__x\n",
    "    \n",
    "    @property \n",
    "    def y(self):\n",
    "        return self.__y\n",
    "\n",
    "    def __iter__(self): \n",
    "        return (i for i in (self.x, self.y))\n",
    "\n",
    "    def __repr__(self):\n",
    "        class_name = type(self).__name__\n",
    "        return '{}({!r}, {!r})'.format(class_name, *self)\n",
    "\n",
    "    def __str__(self):\n",
    "        return str(tuple(self))\n",
    "\n",
    "    def __bytes__(self):\n",
    "        return (bytes([ord(self.typecode)]) + bytes(array(self.typecode, self)))\n",
    "\n",
    "    def __eq__(self, other):\n",
    "        return tuple(self) == tuple(other)\n",
    "\n",
    "    def __hash__(self):\n",
    "        return hash(self.x) ^ hash(self.y)\n",
    "\n",
    "    def __abs__(self):\n",
    "        return math.hypot(self.x, self.y)\n",
    "\n",
    "    def __bool__(self): \n",
    "        return bool(abs(self))\n",
    "\n",
    "    def angle(self):\n",
    "        return math.atan2(self.y, self.x)\n",
    "\n",
    "    def __format__(self, fmt_spec=''): \n",
    "        if fmt_spec.endswith('p'):\n",
    "            fmt_spec = fmt_spec[:-1] \n",
    "            coords = (abs(self), self.angle()) \n",
    "            outer_fmt = '<{}, {}>'\n",
    "        else:\n",
    "            coords = self\n",
    "            outer_fmt = '({}, {})'\n",
    "            \n",
    "        components = (format(c, fmt_spec) for c in coords) \n",
    "        return outer_fmt.format(*components)\n",
    "\n",
    "    @classmethod\n",
    "    def frombytes(cls, octets):\n",
    "        typecode = chr(octets[0])\n",
    "        memv = memoryview(octets[1:]).cast(typecode) \n",
    "        return cls(*memv)"
   ]
  },
  {
   "cell_type": "code",
   "execution_count": null,
   "metadata": {},
   "outputs": [],
   "source": [
    "\"\"\"\n",
    "在类中定义 __slots__ 属性的目的是告诉解释器:“这个类中的所有实 例属性都在这儿了!”\n",
    "这样，Python 会在各个实例中使用类似元组的结 构存储实例变量，\n",
    "从而避免使用消耗内存的 __dict__ 属性。\n",
    "如果有数 百万个实例同时活动，这样做能节省大量内存。\n",
    "\n",
    "在本书提供的示例 9-12 中，百万级别的实例运行时， 使用指定 __slots__ 的方法可以只使用 1/3 内存实现原有字典的方法。\n",
    "\"\"\"\n",
    "\n",
    "\"\"\"\n",
    "在类中定义 __slots__ 属性之后，实例不能再有 __slots__ 中所列名称之外的其他属性。这只是一个副作用，不是 __slots__ 存在的真正原因。\n",
    "不要使用 __slots__ 属性禁止类的 用户新增实例属性。__slots__ 是用于优化的，不是为了约束程序 员。\n",
    "\n",
    "然而，“节省的内存也可能被再次吃掉”:如果把 '__dict__' 这个名称 添加到 __slots__ 中，实例会在元组中保存各个实例的属性，\n",
    "此外还 支持动态创建属性，这些属性存储在常规的 __dict__ 中。当然，把 '__dict__' 添加到 __slots__ 中可能完全违背了初衷，这取决于各个\n",
    "实例的静态属性和动态属性的数量及其用法。粗心的优化甚至比提早优 化还糟糕。\n",
    "此外，还有一个实例属性可能需要注意，即 __weakref__ 属性，为了 让对象支持弱引用(参见 8.6 节)，必须有这个属性。\n",
    "用户定义的类中 默认就有 __weakref__ 属性。可是，如果类中定义了 __slots__ 属 性，而且想把实例作为弱引用的目标，\n",
    "那么要把 '__weakref__' 添加 到 __slots__ 中。\n",
    "综上，__slots__ 属性有些需要注意的地方，而且不能滥用，不能使用 它限制用户能赋值的属性。处理列表数据时 __slots__ 属性最有用，\n",
    "例如模式固定的数据库记录，以及特大型数据集。然而，如果你经常处 理大量数据，一定要了解一下 NumPy(http://www.numpy.org);\n",
    "此外， 数据分析库 pandas(http://pandas.pydata.org)也值得了解，这个库可以 处理非数值数据，而且能导入 / 导出很多不同的列表数据格式。\n",
    "\"\"\""
   ]
  },
  {
   "cell_type": "code",
   "execution_count": null,
   "metadata": {},
   "outputs": [],
   "source": [
    "\"\"\"\n",
    "\n",
    "__slots__ 的问题\n",
    "总之，如果使用得当，__slots__ 能显著节省内存，不过有几点要注意。\n",
    "    每个子类都要定义 __slots__ 属性，因为解释器会忽略继承的__slots__ 属性。\n",
    "    实例只能拥有 __slots__ 中列出的属性，除非把 '__dict__' 加 入 __slots__ 中(这样做就失去了节省内存的功效)。\n",
    "    如果不把 '__weakref__' 加入 __slots__，实例就不能作为弱引 用的目标。\n",
    "\n",
    "如果你的程序不用处理数百万个实例，或许不值得费劲去创建不寻常的 类，那就禁止它创建动态属性或者不支持弱引用。\n",
    "与其他优化措施一 样，仅当权衡当下的需求并仔细搜集资料后证明确实有必要时，才应该 使用 __slots__ 属性。\n",
    "\n",
    "\"\"\""
   ]
  },
  {
   "cell_type": "code",
   "execution_count": null,
   "metadata": {},
   "outputs": [],
   "source": [
    "# 9.9 覆盖类属性"
   ]
  }
 ],
 "metadata": {
  "kernelspec": {
   "display_name": "Python 3",
   "language": "python",
   "name": "python3"
  },
  "language_info": {
   "codemirror_mode": {
    "name": "ipython",
    "version": 3
   },
   "file_extension": ".py",
   "mimetype": "text/x-python",
   "name": "python",
   "nbconvert_exporter": "python",
   "pygments_lexer": "ipython3",
   "version": "3.7.3"
  }
 },
 "nbformat": 4,
 "nbformat_minor": 4
}
