{
 "cells": [
  {
   "cell_type": "code",
   "execution_count": null,
   "metadata": {},
   "outputs": [],
   "source": [
    "# 第 10 章 序列的修改、散列和切 片"
   ]
  },
  {
   "cell_type": "code",
   "execution_count": 1,
   "metadata": {},
   "outputs": [],
   "source": [
    "# 示例 10-2 vector_v1.py:从 vector2d_v1.py 衍生而来  示例 10-2 是第 1 版 Vector 类的实现代码(以示例 9-2 和示例 9-3 中的 代码为基础)\n",
    "from array import array\n",
    "import reprlib\n",
    "import math\n",
    "\n",
    "\n",
    "class Vector:\n",
    "    typecode = 'd'\n",
    "    \n",
    "    def __init__(self, components):\n",
    "        # self._components 是“受保护的”实例属性，把 Vector 的分量保存 在一个数组中\n",
    "        self._components = array(self.typecode, components)\n",
    "        \n",
    "    def __iter__(self):\n",
    "        # 为了迭代，我们使用 self._components 构建一个迭代器\n",
    "        return iter(self._components)\n",
    "    \n",
    "    def __repr__(self):\n",
    "        # 使用 reprlib.repr() 函数获取 self._components 的有限长度表 示形式(如 array('d', [0.0, 1.0, 2.0, 3.0, 4.0, ...]))\n",
    "        components = reprlib.repr(self._components)\n",
    "        # 把字符串插入 Vector 的构造方法调用之前，去掉前面的 array('d' 和后面的 )\n",
    "        components = components[components.find('['):-1]\n",
    "        return f'Vector({components})'\n",
    "    \n",
    "    def __str__(self):\n",
    "        return str(tuple(self))\n",
    "    \n",
    "    def __bytes__(self):\n",
    "        # 直接使用 self._components 构建 bytes 对象。\n",
    "        return (bytes([ord(self.typecode)]) + bytes(self._components))\n",
    "    \n",
    "    def __eq__(self, other):\n",
    "        return tuple(self) == tuple(other)\n",
    "    \n",
    "    def __abs__(self):\n",
    "        # 不能使用 hypot 方法了，因此我们先计算各分量的平方之和，然后再使用 sqrt 方法开平方。\n",
    "        return math.sqrt(sum(x * x for x in self))\n",
    "    \n",
    "    def __bool__(self):\n",
    "        return bool(abs(self))\n",
    "    \n",
    "    @classmethod\n",
    "    def frombytes(cls, octets):\n",
    "        typecode = chr(octets[0])\n",
    "        memv = memoryview(octets[1:]).cast(typecode)\n",
    "        return cls(memv)  # 我们只需在 Vector2d.frombytes 方法的基础上改动最后一行:直接把 memoryview 传给构造方法，不用像前面那样使用 * 拆包。\n",
    "    "
   ]
  },
  {
   "cell_type": "code",
   "execution_count": 3,
   "metadata": {},
   "outputs": [],
   "source": [
    "# 10.3 协议和鸭子类型\n",
    "\"\"\"\n",
    "在第 1 章我们就说过，在 Python 中创建功能完善的序列类型无需使用继\n",
    "承，只需实现符合序列协议的方法。不过，这里说的协议是什么呢?\n",
    "在面向对象编程中，协议是非正式的接口，只在文档中定义，在代码中 不定义。例如，Python 的序列协议只需要 __len__ 和 __getitem__ 两 个方法。\n",
    "任何类(如 Spam)，只要使用标准的签名和语义实现了这两 个方法，就能用在任何期待序列的地方。Spam 是不是哪个类的子类无 关紧要，只要提供了所需的方法即可。\n",
    "示例 1-1 中见过一例，这里再次 给出代码，\n",
    "如示例 10-3 所示。\n",
    "\"\"\"\n",
    "\n",
    "# 示例 10-3 示例 1-1 的代码，为了方便，再次给出\n",
    "import collections\n",
    "\n",
    "Card = collections.namedtuple('Card', ['rank', 'suit'])\n",
    "\n",
    "class FrenchDeck:\n",
    "    ranks = [str(n) for n in range(2, 11)] + list('JQKA')\n",
    "    suits = 'spades diamonds clubs hearts'.split()\n",
    "    \n",
    "    def __init__(self):\n",
    "        self._cards = [Card(rank, suit) for suit in self.suits for rank in self.ranks]\n",
    "        \n",
    "    def __len__(self):\n",
    "        return len(self._cards)\n",
    "    \n",
    "    def __getitem__(self, position):\n",
    "        return self._cards[position]"
   ]
  },
  {
   "cell_type": "code",
   "execution_count": null,
   "metadata": {},
   "outputs": [],
   "source": []
  }
 ],
 "metadata": {
  "kernelspec": {
   "display_name": "Python 3",
   "language": "python",
   "name": "python3"
  },
  "language_info": {
   "codemirror_mode": {
    "name": "ipython",
    "version": 3
   },
   "file_extension": ".py",
   "mimetype": "text/x-python",
   "name": "python",
   "nbconvert_exporter": "python",
   "pygments_lexer": "ipython3",
   "version": "3.7.3"
  }
 },
 "nbformat": 4,
 "nbformat_minor": 4
}
