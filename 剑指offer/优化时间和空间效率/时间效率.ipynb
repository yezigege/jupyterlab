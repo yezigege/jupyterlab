{
 "cells": [
  {
   "cell_type": "code",
   "execution_count": 25,
   "metadata": {},
   "outputs": [
    {
     "name": "stdout",
     "output_type": "stream",
     "text": [
      "2\n",
      "**************************************************\n",
      "res===>2\n"
     ]
    }
   ],
   "source": [
    "\"\"\"\n",
    "5.2 时间效率\n",
    "面试题29：数组中出现次数超过一半的数字\n",
    "题目地址：https://leetcode-cn.com/problems/shu-zu-zhong-chu-xian-ci-shu-chao-guo-yi-ban-de-shu-zi-lcof/\n",
    "\"\"\"\n",
    "from collections import Counter\n",
    "\n",
    "# 摩尔投票法 \n",
    "class Solution:\n",
    "    def majorityElement(self, nums):\n",
    "        votes = 0\n",
    "        for num in nums:\n",
    "            if votes == 0:\n",
    "                x = num\n",
    "            votes += 1 if num == x else -1\n",
    "        return x\n",
    "\n",
    "if __name__ == '__main__':\n",
    "    solution = Solution()\n",
    "    nums = [1, 2, 3, 2, 2, 2]\n",
    "    print(solution.majorityElement(nums))\n",
    "    print(\"*\"*50)\n",
    "    res = Counter(nums)   # 利用外部包\n",
    "    print(f\"res===>{res.most_common(1)[0][0]}\")"
   ]
  },
  {
   "cell_type": "code",
   "execution_count": 18,
   "metadata": {},
   "outputs": [
    {
     "name": "stdout",
     "output_type": "stream",
     "text": [
      "2\n"
     ]
    }
   ],
   "source": [
    "# 自定义 hashmap 方法\n",
    "class Solution:\n",
    "    def majorityElement(self, nums):\n",
    "        if not nums:\n",
    "            return None\n",
    "        \n",
    "        num_dict = dict()\n",
    "        max_count, max_num = len(nums), nums[0]\n",
    "        \n",
    "        for num in nums:\n",
    "            if num in num_dict:\n",
    "                num_dict[num] += 1\n",
    "            else:\n",
    "                num_dict[num] = 1\n",
    "            \n",
    "            if num_dict[num] > max_count:\n",
    "                max_count = num_dict[num]\n",
    "                max_num = num\n",
    "        return max_num\n",
    "\n",
    "if __name__ == '__main__':\n",
    "    solution = Solution()\n",
    "    nums = [1, 2, 3, 2, 2, 2]\n",
    "    print(solution.majorityElement(nums))"
   ]
  },
  {
   "cell_type": "code",
   "execution_count": 19,
   "metadata": {},
   "outputs": [
    {
     "name": "stdout",
     "output_type": "stream",
     "text": [
      "2\n"
     ]
    }
   ],
   "source": [
    "# 排序法\n",
    "class Solution:\n",
    "    def majorityElement(self, nums):\n",
    "        if not nums:\n",
    "            return\n",
    "        sorted(nums)\n",
    "        return nums[len(nums)//2]\n",
    "\n",
    "if __name__ == '__main__':\n",
    "    solution = Solution()\n",
    "    nums = [1, 2, 3, 2, 2, 2]\n",
    "    print(solution.majorityElement(nums))"
   ]
  },
  {
   "cell_type": "code",
   "execution_count": 37,
   "metadata": {},
   "outputs": [
    {
     "data": {
      "text/plain": [
       "[1, 2, 3]"
      ]
     },
     "execution_count": 37,
     "metadata": {},
     "output_type": "execute_result"
    }
   ],
   "source": [
    "\"\"\"\n",
    "5.2 时间效率\n",
    "面试题30：最小的 k 个数\n",
    "题目地址：https://leetcode-cn.com/problems/zui-xiao-de-kge-shu-lcof/\n",
    "\"\"\"\n",
    "def get(arr, k):\n",
    "    arr.sort(reverse=False)\n",
    "    return arr[:k]"
   ]
  },
  {
   "cell_type": "code",
   "execution_count": 41,
   "metadata": {},
   "outputs": [
    {
     "name": "stdout",
     "output_type": "stream",
     "text": [
      "[-2, 1, -3, 4, -1, 2, 1, -5, 4]\n",
      "6\n"
     ]
    }
   ],
   "source": [
    "\"\"\"\n",
    "5.2 时间效率\n",
    "面试题31：连续子数组的最大和\n",
    "题目地址：https://leetcode-cn.com/problems/lian-xu-zi-shu-zu-de-zui-da-he-lcof/\n",
    "解析地址：https://leetcode-cn.com/problems/lian-xu-zi-shu-zu-de-zui-da-he-lcof/solution/mian-shi-ti-42-lian-xu-zi-shu-zu-de-zui-da-he-do-2/\n",
    "\"\"\"\n",
    "class Solution:\n",
    "    def maxSubArray(self, nums):\n",
    "        # 修改原有数组保持空间复杂度为 O(1)\n",
    "#         for i in range(1, len(nums)):\n",
    "#             nums[i] += max(nums[i - 1], 0)\n",
    "#         return max(nums)\n",
    "\n",
    "# 不修改原有数组保持空间复杂度为 O(1)\n",
    "        max_sum = nums[0]\n",
    "        temp = 0  #  用于记录 dp[i-1] 的值，对于 dp[0] 而言，dp[-1] = 0\n",
    "        cur = nums[0]  # 用于记录 dp[i] 的值\n",
    "        for i in range(1, len(nums)):\n",
    "            cur = nums[i]\n",
    "            cur += max(temp, 0)\n",
    "            if cur > max_sum:\n",
    "                max_sum = cur;\n",
    "            temp = cur\n",
    "        print(nums)\n",
    "        return max_sum\n",
    "    \n",
    "\n",
    "if __name__ == \"__main__\":\n",
    "    nums = [-2,1,-3,4,-1,2,1,-5,4]\n",
    "    solution = Solution()\n",
    "    print(solution.maxSubArray(nums))"
   ]
  },
  {
   "cell_type": "code",
   "execution_count": 44,
   "metadata": {},
   "outputs": [
    {
     "name": "stdout",
     "output_type": "stream",
     "text": [
      "[[0, 3, 4], [1, 6, 5], [5, 7, 6]]\n",
      "6\n"
     ]
    }
   ],
   "source": [
    "\"\"\"\n",
    "力扣64：最小路径和\n",
    "题目地址：https://leetcode-cn.com/problems/minimum-path-sum/\n",
    "\"\"\"\n",
    "class Solution():\n",
    "    def minPathSum(self, grid):\n",
    "        row = len(grid)\n",
    "        col = len(grid[0])\n",
    "        # 创建一个dp用来存储路径和\n",
    "        dp = [[0 for i in range(col)] for j in range(row)]\n",
    "        \n",
    "        # 制作边界条件\n",
    "        dp[0][0] = 0\n",
    "        for i in range(1, row):\n",
    "            dp[i][0] = dp[i - 1][0] + grid[i][0]\n",
    "            \n",
    "        for i in range(1, col):\n",
    "            dp[0][i] = dp[0][i - 1] + grid[0][i]\n",
    "            \n",
    "        for i in range(1, row):\n",
    "            for j in range(1, col):\n",
    "                dp[i][j] = min(dp[i-1][j], dp[i][j-1]) + grid[i][j]\n",
    "        \n",
    "        print(dp)\n",
    "        return dp[-1][-1]\n",
    "    \n",
    "if __name__ == \"__main__\":\n",
    "    solution = Solution()\n",
    "    arr = [[1, 3, 1],\n",
    "           [1, 5, 1],\n",
    "           [4, 2, 1]]\n",
    "    res = solution.minPathSum(arr)\n",
    "    print(res)"
   ]
  },
  {
   "cell_type": "code",
   "execution_count": 49,
   "metadata": {},
   "outputs": [
    {
     "name": "stdout",
     "output_type": "stream",
     "text": [
      "28\n"
     ]
    }
   ],
   "source": [
    "\"\"\"\n",
    "力扣62：不同路径\n",
    "题目地址：https://leetcode-cn.com/problems/unique-paths/\n",
    "\"\"\"\n",
    "class Solution:\n",
    "    def uniquePaths(self, m, n):\n",
    "        # 创建一个dp空间用来模拟路径\n",
    "        dp = [[0 for i in range(n)] for j in range(m)]\n",
    "        \n",
    "        # 制作边界条件\n",
    "        dp[0][0] = 0\n",
    "        for i in range(1, m):\n",
    "            dp[i][0] = 1\n",
    "            \n",
    "        for j in range(1, n):\n",
    "            dp[0][j] = 1\n",
    "            \n",
    "        for i in range(1, m):\n",
    "            for j in range(1, n):\n",
    "                dp[i][j] = dp[i-1][j] + dp[i][j-1]\n",
    "            \n",
    "        return dp[-1][-1]\n",
    "    \n",
    "if __name__ == \"__main__\":\n",
    "    solution = Solution()\n",
    "    res = solution.uniquePaths(7, 3)\n",
    "    print(res)"
   ]
  },
  {
   "cell_type": "code",
   "execution_count": 53,
   "metadata": {},
   "outputs": [
    {
     "name": "stdout",
     "output_type": "stream",
     "text": [
      "178\n"
     ]
    }
   ],
   "source": [
    "\"\"\"\n",
    "5.2 时间效率\n",
    "面试题32：从 1 到 n 整数的十进制表示中，1 出现的次数\n",
    "题目地址：https://leetcode-cn.com/problems/1nzheng-shu-zhong-1chu-xian-de-ci-shu-lcof/\n",
    "解析地址：https://leetcode-cn.com/problems/1nzheng-shu-zhong-1chu-xian-de-ci-shu-lcof/solution/mian-shi-ti-43-1n-zheng-shu-zhong-1-chu-xian-de-2/\n",
    "\"\"\"\n",
    "class Solution():\n",
    "    def countDijitOne(self, n):\n",
    "        # 方法一 挨个统计  力扣超时\n",
    "        count = 0\n",
    "        for i in range(1, n + 1):\n",
    "            count += str(i).count('1')\n",
    "        return count\n",
    "        \n",
    "        # 方法二，将 1 ~ n 的个位，十位，百位。。。的 1 出现次数相加，即为 1 出现的总次数\n",
    "        digit, res = 1, 0\n",
    "        high, cur, low = n // 10, n % 10, 0\n",
    "        while high != 0 or cur != 0:\n",
    "            if cur == 0:\n",
    "                res += high * dight\n",
    "            elif cur == 1:\n",
    "                res += hight * dight + low + 1\n",
    "            else:\n",
    "                res += (high + 1) * dight\n",
    "            low += cur * dight\n",
    "            cur = high % 10\n",
    "            high //= 10\n",
    "            dight *= 10\n",
    "        return res\n",
    "        \n",
    "if __name__ == \"__main__\":\n",
    "    solution = Solution()\n",
    "    res = solution.countDijitOne(373)\n",
    "    print(res)"
   ]
  },
  {
   "cell_type": "code",
   "execution_count": 63,
   "metadata": {},
   "outputs": [
    {
     "name": "stdout",
     "output_type": "stream",
     "text": [
      "['20', '2'] ['5', '9'] 34 <class 'str'>\n",
      "['20'] [] 2 <class 'str'>\n",
      "['5'] [] 9 <class 'str'>\n",
      "2023459\n"
     ]
    }
   ],
   "source": [
    "\"\"\"\n",
    "5.2 时间效率\n",
    "面试题33：把数组排成最小的数\n",
    "题目地址：https://leetcode-cn.com/problems/ba-shu-zu-pai-cheng-zui-xiao-de-shu-lcof/\n",
    "解析地址：https://leetcode-cn.com/problems/1nzheng-shu-zhong-1chu-xian-de-ci-shu-lcof/solution/mian-shi-ti-43-1n-zheng-shu-zhong-1-chu-xian-de-2/\n",
    "\"\"\"\n",
    "class Solution:\n",
    "    def minNumber(self, nums):\n",
    "        def fast_sort(strs):\n",
    "            if len(strs) <= 1:\n",
    "                return strs\n",
    "            less, greater = [], []\n",
    "            p = strs.pop()\n",
    "            for i in strs:\n",
    "                if i + p < p + i:\n",
    "                    less.append(i)\n",
    "                else:\n",
    "                    greater.append(i)\n",
    "            print(less, greater, p, type(p))\n",
    "            \n",
    "            return fast_sort(less) + [p] + fast_sort(greater)\n",
    "        \n",
    "        strs = [str(num) for num in nums]\n",
    "        res = fast_sort(strs)\n",
    "        return ''.join(res)\n",
    "        \n",
    "if __name__ == \"__main__\":\n",
    "    solution = Solution()\n",
    "    res = solution.minNumber(['20', '2', '5', '9', '34'])\n",
    "    print(res)"
   ]
  },
  {
   "cell_type": "code",
   "execution_count": 57,
   "metadata": {},
   "outputs": [
    {
     "data": {
      "text/plain": [
       "False"
      ]
     },
     "execution_count": 57,
     "metadata": {},
     "output_type": "execute_result"
    }
   ],
   "source": [
    "'202' > '220'"
   ]
  },
  {
   "cell_type": "code",
   "execution_count": 65,
   "metadata": {},
   "outputs": [
    {
     "data": {
      "text/plain": [
       "['3', '30', '34', '5', '9']"
      ]
     },
     "execution_count": 65,
     "metadata": {},
     "output_type": "execute_result"
    }
   ],
   "source": [
    "nn =  [3,30,34,5,9]\n",
    "dd = map(str, nn)\n",
    "list(dd)"
   ]
  },
  {
   "cell_type": "code",
   "execution_count": null,
   "metadata": {},
   "outputs": [],
   "source": [
    "# 对应方法二\n",
    "class cmpSmaller(str):\n",
    "    def __lt__(self, y):\n",
    "        return self + y < y + self  # 字符串拼接比较(两两比较)\n",
    "    # 按由小到大来排列\n",
    "\n",
    "class Solution:\n",
    "    def minNumber(self, nums: List[int]) -> str:\n",
    "        res=sorted(map(str, nums),key=cmpSmaller)\n",
    "        smallest = ''.join(res)\n",
    "        return smallest"
   ]
  }
 ],
 "metadata": {
  "kernelspec": {
   "display_name": "Python 3",
   "language": "python",
   "name": "python3"
  },
  "language_info": {
   "codemirror_mode": {
    "name": "ipython",
    "version": 3
   },
   "file_extension": ".py",
   "mimetype": "text/x-python",
   "name": "python",
   "nbconvert_exporter": "python",
   "pygments_lexer": "ipython3",
   "version": "3.7.3"
  }
 },
 "nbformat": 4,
 "nbformat_minor": 4
}
