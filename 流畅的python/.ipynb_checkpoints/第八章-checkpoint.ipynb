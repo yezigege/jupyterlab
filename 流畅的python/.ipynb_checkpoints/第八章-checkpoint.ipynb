{
 "cells": [
  {
   "cell_type": "code",
   "execution_count": 1,
   "metadata": {},
   "outputs": [
    {
     "data": {
      "text/plain": [
       "[1, 2, 3, 4]"
      ]
     },
     "execution_count": 1,
     "metadata": {},
     "output_type": "execute_result"
    }
   ],
   "source": [
    "# 8. 对象引用、可变性和垃圾回收\n",
    "\n",
    "# 8.1 变量不是盒子\n",
    "# 示例 8-1 变量 a 和 b 引用同一个列表，而不是那个列表的副本\n",
    "a = [1, 2, 3]\n",
    "b = a\n",
    "a.append(4)\n",
    "b"
   ]
  },
  {
   "cell_type": "code",
   "execution_count": 2,
   "metadata": {},
   "outputs": [
    {
     "name": "stdout",
     "output_type": "stream",
     "text": [
      "Gizmo id: 139870742709640\n"
     ]
    }
   ],
   "source": [
    "# 如果把变量想象为盒子，那么无法解释 Python 中的赋值; 应该把变量视作便利贴，这样示例 8-1 中的行为就好解释了\n",
    "\n",
    "# 示例 8-2 证明赋值语句的右边先执行。\n",
    "class Gizmo:\n",
    "    def __init__(self):\n",
    "        print(f'Gizmo id: {id(self)}')\n",
    "        \n",
    "x = Gizmo()"
   ]
  },
  {
   "cell_type": "code",
   "execution_count": 3,
   "metadata": {},
   "outputs": [
    {
     "name": "stdout",
     "output_type": "stream",
     "text": [
      "Gizmo id: 139870742590856\n"
     ]
    },
    {
     "ename": "TypeError",
     "evalue": "unsupported operand type(s) for *: 'Gizmo' and 'int'",
     "output_type": "error",
     "traceback": [
      "\u001b[0;31m---------------------------------------------------------------------------\u001b[0m",
      "\u001b[0;31mTypeError\u001b[0m                                 Traceback (most recent call last)",
      "\u001b[0;32m<ipython-input-3-2beac7b9470d>\u001b[0m in \u001b[0;36m<module>\u001b[0;34m\u001b[0m\n\u001b[0;32m----> 1\u001b[0;31m \u001b[0my\u001b[0m \u001b[0;34m=\u001b[0m \u001b[0mGizmo\u001b[0m\u001b[0;34m(\u001b[0m\u001b[0;34m)\u001b[0m \u001b[0;34m*\u001b[0m \u001b[0;36m10\u001b[0m\u001b[0;34m\u001b[0m\u001b[0;34m\u001b[0m\u001b[0m\n\u001b[0m",
      "\u001b[0;31mTypeError\u001b[0m: unsupported operand type(s) for *: 'Gizmo' and 'int'"
     ]
    }
   ],
   "source": [
    "y = Gizmo() * 10"
   ]
  },
  {
   "cell_type": "code",
   "execution_count": null,
   "metadata": {},
   "outputs": [],
   "source": [
    "\"\"\"\n",
    "由以上示例可以看出，赋值语句的右边先一步执行，然后左边的变量才会绑定到对象上，这就像是为对象贴上标注，忘了盒子，盒子不对。至少在python上不对\n",
    "\n",
    "因为变量只不过是标注，所以无法阻止为对象贴上多个标注。贴的多个 标注，就是别名。\n",
    "\"\"\""
   ]
  },
  {
   "cell_type": "code",
   "execution_count": 5,
   "metadata": {},
   "outputs": [
    {
     "data": {
      "text/plain": [
       "True"
      ]
     },
     "execution_count": 5,
     "metadata": {},
     "output_type": "execute_result"
    }
   ],
   "source": [
    "# 8.2 标识、相等性和别名\n",
    "\n",
    "# 示例 8-3 charles 和 lewis 指代同一个对象\n",
    "charles = {'name': 'tom', 'born': 1832}\n",
    "lewis = charles\n",
    "lewis is charles"
   ]
  },
  {
   "cell_type": "code",
   "execution_count": 6,
   "metadata": {},
   "outputs": [
    {
     "data": {
      "text/plain": [
       "(139870719533488, 139870719533488)"
      ]
     },
     "execution_count": 6,
     "metadata": {},
     "output_type": "execute_result"
    }
   ],
   "source": [
    "id(lewis), id(charles)"
   ]
  },
  {
   "cell_type": "code",
   "execution_count": 7,
   "metadata": {},
   "outputs": [
    {
     "data": {
      "text/plain": [
       "{'name': 'tom', 'born': 1832, 'balance': 950}"
      ]
     },
     "execution_count": 7,
     "metadata": {},
     "output_type": "execute_result"
    }
   ],
   "source": [
    "lewis['balance'] = 950\n",
    "charles"
   ]
  },
  {
   "cell_type": "code",
   "execution_count": null,
   "metadata": {},
   "outputs": [],
   "source": [
    "\"\"\"\n",
    "每个变量都有标识、类型和值。对象一旦创建，它的标识绝不会 变;你可以把标识理解为对象在内存中的地址。\n",
    "is 运算符比较两个 对象的标识;id() 函数返回对象标识的整数表示。\n",
    "\n",
    "对象 ID 的真正意义在不同的实现中有所不同。在 CPython 中，id() 返 回对象的内存地址，但是在其他 Python 解释器中可能是别的值。\n",
    "关键 是，ID 一定是唯一的数值标注，而且在对象的生命周期中绝不会变。\n",
    "\n",
    "其实，编程中很少使用 id() 函数。标识最常使用 is 运算符检查，而 不是直接比较 ID。接下来讨论 is 和 == 的异同.\n",
    "\"\"\""
   ]
  },
  {
   "cell_type": "code",
   "execution_count": 8,
   "metadata": {},
   "outputs": [
    {
     "data": {
      "text/plain": [
       "False"
      ]
     },
     "execution_count": 8,
     "metadata": {},
     "output_type": "execute_result"
    }
   ],
   "source": [
    "# 8.2.1 在 == 和 is 之间选择\n",
    "\"\"\"\n",
    "== 运算符比较两个对象的值(对象中保存的数据)，而 is 比较对象的标识。\n",
    "\n",
    "通常，我们关注的是值，而不是标识，因此 Python 代码中 == 出现的频率比is高。\n",
    "然而，在变量和单例值之间比较时，应该使用 is。目前，最常使用 is检查变量绑定的值是不是 None。下面是推荐的写法:\n",
    "\"\"\"\n",
    "x is None\n",
    "\n",
    "# 否定的正确写法是：\n",
    "x is not None"
   ]
  },
  {
   "cell_type": "code",
   "execution_count": null,
   "metadata": {},
   "outputs": [],
   "source": [
    "\"\"\"\n",
    "is 运算符比 == 速度快，因为它不能重载，所以 Python 不用寻找并调用 特殊方法，而是直接比较两个整数 ID。\n",
    "而 a == b 是语法糖，等同于 a.__eq__(b)。继承自 object 的 __eq__ 方法比较两个对象的 ID，结 果与 is 一样。\n",
    "\n",
    "但是多数内置类型使用更有意义的方式覆盖了 __eq__ 方法，会考虑对象属性的值。相等性测试可能涉及大量处理工作，\n",
    "例 如，比较大型集合或嵌套层级深的结构时。\n",
    "\"\"\""
   ]
  },
  {
   "cell_type": "code",
   "execution_count": 9,
   "metadata": {},
   "outputs": [
    {
     "data": {
      "text/plain": [
       "True"
      ]
     },
     "execution_count": 9,
     "metadata": {},
     "output_type": "execute_result"
    }
   ],
   "source": [
    "# 8.2.2 元组的相对不可变性\n",
    "\"\"\"\n",
    "元组与多数 Python 集合(列表、字典、集，等等)一样，保存的是对象的引用。 \n",
    "如果引用的元素是可变的，即便元组本身不可变，元素依然 可变。也就是说，元组的不可变性其实是指 tuple 数据结构的物理内容(即保存的引用)不可变，\n",
    "与引用的对象无关。\n",
    "\"\"\"\n",
    "\n",
    "# 示例 8-5 表明，元组的值会随着引用的可变对象的变化而变。元组中不 可变的是元素的标识\n",
    "\n",
    "t1 = (1, 2, [30, 40])\n",
    "t2 = (1, 2, [30, 40])\n",
    "t1 == t2"
   ]
  },
  {
   "cell_type": "code",
   "execution_count": 10,
   "metadata": {},
   "outputs": [
    {
     "data": {
      "text/plain": [
       "139870751288968"
      ]
     },
     "execution_count": 10,
     "metadata": {},
     "output_type": "execute_result"
    }
   ],
   "source": [
    "id(t1[-1])"
   ]
  },
  {
   "cell_type": "code",
   "execution_count": 11,
   "metadata": {},
   "outputs": [
    {
     "data": {
      "text/plain": [
       "(1, 2, [30, 40, 99])"
      ]
     },
     "execution_count": 11,
     "metadata": {},
     "output_type": "execute_result"
    }
   ],
   "source": [
    "t1[-1].append(99)  # t1 不可变，但是 t1[-1] 可变\n",
    "t1"
   ]
  },
  {
   "cell_type": "code",
   "execution_count": 12,
   "metadata": {},
   "outputs": [
    {
     "data": {
      "text/plain": [
       "139870751288968"
      ]
     },
     "execution_count": 12,
     "metadata": {},
     "output_type": "execute_result"
    }
   ],
   "source": [
    "id(t1[-1])"
   ]
  },
  {
   "cell_type": "code",
   "execution_count": 13,
   "metadata": {},
   "outputs": [
    {
     "data": {
      "text/plain": [
       "False"
      ]
     },
     "execution_count": 13,
     "metadata": {},
     "output_type": "execute_result"
    }
   ],
   "source": [
    "t1 == t2"
   ]
  },
  {
   "cell_type": "code",
   "execution_count": 14,
   "metadata": {},
   "outputs": [
    {
     "data": {
      "text/plain": [
       "[3, [55, 44], (7, 8, 9)]"
      ]
     },
     "execution_count": 14,
     "metadata": {},
     "output_type": "execute_result"
    }
   ],
   "source": [
    "# 8.3 默认做浅复制\n",
    "\n",
    "# 复制列表(或多数内置的可变集合)最简单的方式是使用内置的类型构造方法\n",
    "l1 = [3, [55, 44], (7, 8 , 9)]\n",
    "l2 = list(l1)  \n",
    "l2"
   ]
  },
  {
   "cell_type": "code",
   "execution_count": 15,
   "metadata": {},
   "outputs": [
    {
     "data": {
      "text/plain": [
       "True"
      ]
     },
     "execution_count": 15,
     "metadata": {},
     "output_type": "execute_result"
    }
   ],
   "source": [
    "l2 == l1"
   ]
  },
  {
   "cell_type": "code",
   "execution_count": 16,
   "metadata": {},
   "outputs": [
    {
     "data": {
      "text/plain": [
       "False"
      ]
     },
     "execution_count": 16,
     "metadata": {},
     "output_type": "execute_result"
    }
   ],
   "source": [
    "l2 is l1"
   ]
  },
  {
   "cell_type": "code",
   "execution_count": null,
   "metadata": {},
   "outputs": [],
   "source": [
    "\"\"\"\n",
    "list(l1) 创建 l1 的副本 对列表和其他可变序列来说，还能使用简洁的 l2 = l1[:] 语句创建副本\n",
    "\n",
    "构造方法或 [:] 做的是浅复制(即复制了最外层容器，副本中 的元素是源容器中元素的引用)。\n",
    "如果所有元素都是不可变的，那么这 样没有问题，还能节省内存。但是，如果有可变的元素，可能就会导致 意想不到的问题。\n",
    "\"\"\""
   ]
  },
  {
   "cell_type": "code",
   "execution_count": 17,
   "metadata": {},
   "outputs": [
    {
     "name": "stdout",
     "output_type": "stream",
     "text": [
      "l1: [3, [44], (7, 8, 9), 100]\n",
      "l2: [3, [44], (7, 8, 9)]\n",
      "l1: [3, [44, 33, 22], (7, 8, 9), 100]\n",
      "l2: [3, [44, 33, 22], (7, 8, 9, 10, 11)]\n"
     ]
    }
   ],
   "source": [
    "# 示例 8-6 为一个包含另一个列表的列表做浅复制;把这段代码复 制粘贴到 Python Tutor [http://www.pythontutor.com/visualize.html#mode=edit]网站中\n",
    "# 看看动画效果\n",
    "\n",
    "l1 = [3, [55, 44], (7, 8 , 9)]\n",
    "l2 = list(l1)\n",
    "l1.append(100)\n",
    "l1[1].remove(55)\n",
    "print('l1:', l1)\n",
    "print('l2:', l2)\n",
    "l2[1] += [33, 22]\n",
    "l2[2] += (10, 11)\n",
    "print('l1:', l1)\n",
    "print('l2:', l2)"
   ]
  },
  {
   "cell_type": "code",
   "execution_count": 25,
   "metadata": {},
   "outputs": [],
   "source": [
    "# 为任意对象做深复制和浅复制\n",
    "\"\"\"\n",
    "copy 模块提供的 deepcopy 和 copy 函数能为任意对象做 深复制和浅复制。\n",
    "为了演示 copy() 和 deepcopy() 的用法，示例 8-8 定义了一个简单的 类，Bus。这个类表示运载乘客的校车，在途中乘客会上车或下车。\n",
    "\"\"\"\n",
    "# 示例 8-8 校车乘客在途中上车和下车\n",
    "class Bus:\n",
    "    \n",
    "    def __init__(self, passengers=None): \n",
    "        if passengers is None:\n",
    "            self.passengers = [] \n",
    "        else:\n",
    "            self.passengers = list(passengers)\n",
    "        \n",
    "    def pick(self, name): \n",
    "        self.passengers.append(name)\n",
    "        \n",
    "    def drop(self, name):\n",
    "        self.passengers.remove(name)"
   ]
  },
  {
   "cell_type": "code",
   "execution_count": 26,
   "metadata": {},
   "outputs": [
    {
     "data": {
      "text/plain": [
       "(139870718038872, 139870718038592, 139870718038368)"
      ]
     },
     "execution_count": 26,
     "metadata": {},
     "output_type": "execute_result"
    }
   ],
   "source": [
    "\"\"\"\n",
    "接下来，在示例 8-9 中的交互式控制台中，我们将创建一个 Bus 实例 (bus1)和两个副本，\n",
    "一个是浅复制副本(bus2)，另一个是深复制 副本(bus3)，看看在 bus1 有学生下车后会发生什么。\n",
    "\"\"\"\n",
    "# 示例 8-9 使用 copy 和 deepcopy 产生的影响\n",
    "import copy\n",
    "bus1 = Bus(['Alice', 'Bill', 'Claire', 'David'])\n",
    "bus2 = copy.copy(bus1)\n",
    "bus3 = copy.deepcopy(bus1)\n",
    "id(bus1), id(bus2), id(bus3)"
   ]
  },
  {
   "cell_type": "code",
   "execution_count": 27,
   "metadata": {},
   "outputs": [
    {
     "data": {
      "text/plain": [
       "['Alice', 'Claire', 'David']"
      ]
     },
     "execution_count": 27,
     "metadata": {},
     "output_type": "execute_result"
    }
   ],
   "source": [
    "bus1.drop('Bill')\n",
    "bus2.passengers"
   ]
  },
  {
   "cell_type": "code",
   "execution_count": 28,
   "metadata": {},
   "outputs": [
    {
     "data": {
      "text/plain": [
       "(139870717768456, 139870717768456, 139870370052936)"
      ]
     },
     "execution_count": 28,
     "metadata": {},
     "output_type": "execute_result"
    }
   ],
   "source": [
    "id(bus1.passengers), id(bus2.passengers), id(bus3.passengers)"
   ]
  },
  {
   "cell_type": "code",
   "execution_count": 29,
   "metadata": {},
   "outputs": [
    {
     "data": {
      "text/plain": [
       "['Alice', 'Bill', 'Claire', 'David']"
      ]
     },
     "execution_count": 29,
     "metadata": {},
     "output_type": "execute_result"
    }
   ],
   "source": [
    "bus3.passengers"
   ]
  },
  {
   "cell_type": "code",
   "execution_count": 30,
   "metadata": {},
   "outputs": [
    {
     "data": {
      "text/plain": [
       "[10, 20, [[...], 30]]"
      ]
     },
     "execution_count": 30,
     "metadata": {},
     "output_type": "execute_result"
    }
   ],
   "source": [
    "\"\"\"\n",
    "注意，一般来说，深复制不是件简单的事。如果对象有循环引用，那么 这个朴素的算法会进入无限循环。\n",
    "deepcopy 函数会记住已经复制的对 象，因此能优雅地处理循环引用，如示例 8-10 所示。\n",
    "\"\"\"\n",
    "\n",
    "# 示例 8-10 循环引用:b 引用 a，然后追加到 a 中;deepcopy 会 想办法复制 a\n",
    "a = [10, 20]\n",
    "b = [a, 30]\n",
    "a.append(b)\n",
    "a"
   ]
  },
  {
   "cell_type": "code",
   "execution_count": 32,
   "metadata": {},
   "outputs": [
    {
     "data": {
      "text/plain": [
       "[10, 20, [[...], 30]]"
      ]
     },
     "execution_count": 32,
     "metadata": {},
     "output_type": "execute_result"
    }
   ],
   "source": [
    "from copy import deepcopy\n",
    "c = deepcopy(a)\n",
    "c"
   ]
  },
  {
   "cell_type": "code",
   "execution_count": 33,
   "metadata": {},
   "outputs": [
    {
     "data": {
      "text/plain": [
       "3"
      ]
     },
     "execution_count": 33,
     "metadata": {},
     "output_type": "execute_result"
    }
   ],
   "source": [
    "# 8.4 函数的参数作为引用时\n",
    "\"\"\"\n",
    "Python 唯一支持的参数传递模式是共享传参(call by sharing)。多数面 向对象语言都采用这一模式，包括 Ruby、Smalltalk 和 Java(Java 的引 用类型是这样，基本类型按值传参)。\n",
    "共享传参指函数的各个形式参数获得实参中各个引用的副本。也就是 说，函数内部的形参是实参的别名。\n",
    "这种方案的结果是，函数可能会修改作为参数传入的可变对象，但是无 法修改那些对象的标识(即不能把一个对象替换成另一个对象)。\n",
    "示例 8-11 中有个简单的函数，它在参数上调用 += 运算符。分别把数字、列 表和元组传给那个函数，实际传入的实参会以不同的方式受到影响。\n",
    "\n",
    "\"\"\"\n",
    "\n",
    "# 示例 8-11 函数可能会修改接收到的任何可变对象\n",
    "def f(a, b):\n",
    "    a += b\n",
    "    return a\n",
    "\n",
    "x = 1\n",
    "y = 2\n",
    "f(x, y)"
   ]
  },
  {
   "cell_type": "code",
   "execution_count": 34,
   "metadata": {},
   "outputs": [
    {
     "data": {
      "text/plain": [
       "(1, 2)"
      ]
     },
     "execution_count": 34,
     "metadata": {},
     "output_type": "execute_result"
    }
   ],
   "source": [
    "x, y"
   ]
  },
  {
   "cell_type": "code",
   "execution_count": 35,
   "metadata": {},
   "outputs": [
    {
     "data": {
      "text/plain": [
       "[1, 2, 3, 4]"
      ]
     },
     "execution_count": 35,
     "metadata": {},
     "output_type": "execute_result"
    }
   ],
   "source": [
    "a = [1, 2]\n",
    "b = [3, 4]\n",
    "f(a, b)"
   ]
  },
  {
   "cell_type": "code",
   "execution_count": 36,
   "metadata": {},
   "outputs": [
    {
     "data": {
      "text/plain": [
       "([1, 2, 3, 4], [3, 4])"
      ]
     },
     "execution_count": 36,
     "metadata": {},
     "output_type": "execute_result"
    }
   ],
   "source": [
    "a, b  # 发生了变化"
   ]
  },
  {
   "cell_type": "code",
   "execution_count": 37,
   "metadata": {},
   "outputs": [
    {
     "data": {
      "text/plain": [
       "(10, 20, 30, 40)"
      ]
     },
     "execution_count": 37,
     "metadata": {},
     "output_type": "execute_result"
    }
   ],
   "source": [
    "t = (10, 20)\n",
    "u = (30, 40)\n",
    "f(t, u)"
   ]
  },
  {
   "cell_type": "code",
   "execution_count": 38,
   "metadata": {},
   "outputs": [
    {
     "data": {
      "text/plain": [
       "((10, 20), (30, 40))"
      ]
     },
     "execution_count": 38,
     "metadata": {},
     "output_type": "execute_result"
    }
   ],
   "source": [
    "t, u"
   ]
  },
  {
   "cell_type": "code",
   "execution_count": null,
   "metadata": {},
   "outputs": [],
   "source": []
  }
 ],
 "metadata": {
  "kernelspec": {
   "display_name": "Python 3",
   "language": "python",
   "name": "python3"
  },
  "language_info": {
   "codemirror_mode": {
    "name": "ipython",
    "version": 3
   },
   "file_extension": ".py",
   "mimetype": "text/x-python",
   "name": "python",
   "nbconvert_exporter": "python",
   "pygments_lexer": "ipython3",
   "version": "3.7.3"
  }
 },
 "nbformat": 4,
 "nbformat_minor": 4
}
