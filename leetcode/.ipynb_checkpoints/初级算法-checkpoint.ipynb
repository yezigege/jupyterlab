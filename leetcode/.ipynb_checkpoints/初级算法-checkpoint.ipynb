{
 "cells": [
  {
   "cell_type": "code",
   "execution_count": null,
   "metadata": {},
   "outputs": [],
   "source": [
    "\"\"\"\n",
    "初级算法：删除排序数组中的重复项\n",
    "题目来源：https://leetcode-cn.com/problems/remove-duplicates-from-sorted-array/\n",
    "\"\"\"\n",
    "class Solution:\n",
    "    def removeDuplicates(self, nums: List[int]) -> int:\n",
    "        if not nums: return 0\n",
    "        i = 0 \n",
    "        for j in range(1, len(nums)):\n",
    "            if nums[i] != nums[j]:\n",
    "                i += 1\n",
    "                nums[i] = nums[j]\n",
    "        return i + 1"
   ]
  },
  {
   "cell_type": "code",
   "execution_count": null,
   "metadata": {},
   "outputs": [],
   "source": [
    "\"\"\"\n",
    "初级算法：买卖股票的最佳时机 II\n",
    "题目链接：https://leetcode-cn.com/problems/best-time-to-buy-and-sell-stock-ii/\n",
    "\"\"\"\n",
    "class Solution:\n",
    "    def maxProfit(self, prices: List[int]) -> int:\n",
    "        if not prices:\n",
    "            return 0\n",
    "        slow, res = 0, 0\n",
    "        for fast in range(1, len(prices)):\n",
    "            if prices[fast] > prices[slow]:\n",
    "                res += prices[fast] - prices[slow]\n",
    "            slow += 1\n",
    "        return res"
   ]
  },
  {
   "cell_type": "code",
   "execution_count": null,
   "metadata": {},
   "outputs": [],
   "source": [
    "\"\"\"\n",
    "初级算法：旋转数组\n",
    "题目链接：https://leetcode-cn.com/problems/rotate-array/\n",
    "\"\"\"\n",
    "class Solution:\n",
    "    "
   ]
  },
  {
   "cell_type": "code",
   "execution_count": 2,
   "metadata": {},
   "outputs": [
    {
     "name": "stdout",
     "output_type": "stream",
     "text": [
      "Collecting jupyterlab_gitplus\n",
      "  Downloading jupyterlab_gitplus-0.1.15-py3-none-any.whl (20 kB)\n",
      "Requirement already satisfied, skipping upgrade: requests in /usr/local/python3/lib/python3.7/site-packages (from jupyterlab_gitplus) (2.23.0)\n",
      "Requirement already satisfied, skipping upgrade: urllib3 in /usr/local/python3/lib/python3.7/site-packages (from jupyterlab_gitplus) (1.25.9)\n",
      "Collecting gitpython\n",
      "  Downloading GitPython-3.1.7-py3-none-any.whl (158 kB)\n",
      "\u001b[K     |████████████████████████████████| 158 kB 8.0 kB/s eta 0:00:01\n",
      "\u001b[?25hRequirement already satisfied, skipping upgrade: jupyterlab in /usr/local/python3/lib/python3.7/site-packages (from jupyterlab_gitplus) (2.0.1)\n",
      "Requirement already satisfied, skipping upgrade: chardet<4,>=3.0.2 in /usr/local/python3/lib/python3.7/site-packages (from requests->jupyterlab_gitplus) (3.0.4)\n",
      "Requirement already satisfied, skipping upgrade: certifi>=2017.4.17 in /usr/local/python3/lib/python3.7/site-packages (from requests->jupyterlab_gitplus) (2020.4.5.1)\n",
      "Requirement already satisfied, skipping upgrade: idna<3,>=2.5 in /usr/local/python3/lib/python3.7/site-packages (from requests->jupyterlab_gitplus) (2.9)\n",
      "Collecting gitdb<5,>=4.0.1\n",
      "  Downloading gitdb-4.0.5-py3-none-any.whl (63 kB)\n",
      "\u001b[K     |████████████████████████████████| 63 kB 6.7 kB/s eta 0:00:02     |███████████████████████████████▏| 61 kB 5.8 kB/s eta 0:00:01\n",
      "\u001b[?25hRequirement already satisfied, skipping upgrade: tornado!=6.0.0,!=6.0.1,!=6.0.2 in /usr/local/python3/lib/python3.7/site-packages (from jupyterlab->jupyterlab_gitplus) (6.0.4)\n",
      "Requirement already satisfied, skipping upgrade: notebook>=4.3.1 in /usr/local/python3/lib/python3.7/site-packages (from jupyterlab->jupyterlab_gitplus) (6.0.3)\n",
      "Requirement already satisfied, skipping upgrade: jinja2>=2.10 in /usr/local/python3/lib/python3.7/site-packages (from jupyterlab->jupyterlab_gitplus) (2.11.1)\n",
      "Requirement already satisfied, skipping upgrade: jupyterlab-server~=1.0.0 in /usr/local/python3/lib/python3.7/site-packages (from jupyterlab->jupyterlab_gitplus) (1.0.7)\n",
      "Collecting smmap<4,>=3.0.1\n",
      "  Downloading smmap-3.0.4-py2.py3-none-any.whl (25 kB)\n",
      "Requirement already satisfied, skipping upgrade: ipython-genutils in /usr/local/python3/lib/python3.7/site-packages (from notebook>=4.3.1->jupyterlab->jupyterlab_gitplus) (0.2.0)\n",
      "Requirement already satisfied, skipping upgrade: terminado>=0.8.1 in /usr/local/python3/lib/python3.7/site-packages (from notebook>=4.3.1->jupyterlab->jupyterlab_gitplus) (0.8.3)\n",
      "Requirement already satisfied, skipping upgrade: prometheus-client in /usr/local/python3/lib/python3.7/site-packages (from notebook>=4.3.1->jupyterlab->jupyterlab_gitplus) (0.7.1)\n",
      "Requirement already satisfied, skipping upgrade: pyzmq>=17 in /usr/local/python3/lib/python3.7/site-packages (from notebook>=4.3.1->jupyterlab->jupyterlab_gitplus) (19.0.0)\n",
      "Requirement already satisfied, skipping upgrade: jupyter-core>=4.6.1 in /usr/local/python3/lib/python3.7/site-packages (from notebook>=4.3.1->jupyterlab->jupyterlab_gitplus) (4.6.3)\n",
      "Requirement already satisfied, skipping upgrade: nbconvert in /usr/local/python3/lib/python3.7/site-packages (from notebook>=4.3.1->jupyterlab->jupyterlab_gitplus) (5.6.1)\n",
      "Requirement already satisfied, skipping upgrade: ipykernel in /usr/local/python3/lib/python3.7/site-packages (from notebook>=4.3.1->jupyterlab->jupyterlab_gitplus) (5.2.0)\n",
      "Requirement already satisfied, skipping upgrade: Send2Trash in /usr/local/python3/lib/python3.7/site-packages (from notebook>=4.3.1->jupyterlab->jupyterlab_gitplus) (1.5.0)\n",
      "Requirement already satisfied, skipping upgrade: nbformat in /usr/local/python3/lib/python3.7/site-packages (from notebook>=4.3.1->jupyterlab->jupyterlab_gitplus) (5.0.5)\n",
      "Requirement already satisfied, skipping upgrade: traitlets>=4.2.1 in /usr/local/python3/lib/python3.7/site-packages (from notebook>=4.3.1->jupyterlab->jupyterlab_gitplus) (4.3.3)\n",
      "Requirement already satisfied, skipping upgrade: jupyter-client>=5.3.4 in /usr/local/python3/lib/python3.7/site-packages (from notebook>=4.3.1->jupyterlab->jupyterlab_gitplus) (6.1.2)\n",
      "Requirement already satisfied, skipping upgrade: MarkupSafe>=0.23 in /usr/local/python3/lib/python3.7/site-packages (from jinja2>=2.10->jupyterlab->jupyterlab_gitplus) (1.1.1)\n",
      "Requirement already satisfied, skipping upgrade: json5 in /usr/local/python3/lib/python3.7/site-packages (from jupyterlab-server~=1.0.0->jupyterlab->jupyterlab_gitplus) (0.9.4)\n",
      "Requirement already satisfied, skipping upgrade: jsonschema>=3.0.1 in /usr/local/python3/lib/python3.7/site-packages (from jupyterlab-server~=1.0.0->jupyterlab->jupyterlab_gitplus) (3.2.0)\n",
      "Requirement already satisfied, skipping upgrade: ptyprocess; os_name != \"nt\" in /usr/local/python3/lib/python3.7/site-packages (from terminado>=0.8.1->notebook>=4.3.1->jupyterlab->jupyterlab_gitplus) (0.6.0)\n",
      "Requirement already satisfied, skipping upgrade: mistune<2,>=0.8.1 in /usr/local/python3/lib/python3.7/site-packages (from nbconvert->notebook>=4.3.1->jupyterlab->jupyterlab_gitplus) (0.8.4)\n",
      "Requirement already satisfied, skipping upgrade: bleach in /usr/local/python3/lib/python3.7/site-packages (from nbconvert->notebook>=4.3.1->jupyterlab->jupyterlab_gitplus) (3.1.4)\n",
      "Requirement already satisfied, skipping upgrade: entrypoints>=0.2.2 in /usr/local/python3/lib/python3.7/site-packages (from nbconvert->notebook>=4.3.1->jupyterlab->jupyterlab_gitplus) (0.3)\n",
      "Requirement already satisfied, skipping upgrade: testpath in /usr/local/python3/lib/python3.7/site-packages (from nbconvert->notebook>=4.3.1->jupyterlab->jupyterlab_gitplus) (0.4.4)\n",
      "Requirement already satisfied, skipping upgrade: pygments in /usr/local/python3/lib/python3.7/site-packages (from nbconvert->notebook>=4.3.1->jupyterlab->jupyterlab_gitplus) (2.6.1)\n",
      "Requirement already satisfied, skipping upgrade: pandocfilters>=1.4.1 in /usr/local/python3/lib/python3.7/site-packages (from nbconvert->notebook>=4.3.1->jupyterlab->jupyterlab_gitplus) (1.4.2)\n",
      "Requirement already satisfied, skipping upgrade: defusedxml in /usr/local/python3/lib/python3.7/site-packages (from nbconvert->notebook>=4.3.1->jupyterlab->jupyterlab_gitplus) (0.6.0)\n",
      "Requirement already satisfied, skipping upgrade: ipython>=5.0.0 in /usr/local/python3/lib/python3.7/site-packages (from ipykernel->notebook>=4.3.1->jupyterlab->jupyterlab_gitplus) (7.13.0)\n",
      "Requirement already satisfied, skipping upgrade: six in /usr/local/python3/lib/python3.7/site-packages (from traitlets>=4.2.1->notebook>=4.3.1->jupyterlab->jupyterlab_gitplus) (1.14.0)\n",
      "Requirement already satisfied, skipping upgrade: decorator in /usr/local/python3/lib/python3.7/site-packages (from traitlets>=4.2.1->notebook>=4.3.1->jupyterlab->jupyterlab_gitplus) (4.4.2)\n",
      "Requirement already satisfied, skipping upgrade: python-dateutil>=2.1 in /usr/local/python3/lib/python3.7/site-packages (from jupyter-client>=5.3.4->notebook>=4.3.1->jupyterlab->jupyterlab_gitplus) (2.8.1)\n",
      "Requirement already satisfied, skipping upgrade: pyrsistent>=0.14.0 in /usr/local/python3/lib/python3.7/site-packages (from jsonschema>=3.0.1->jupyterlab-server~=1.0.0->jupyterlab->jupyterlab_gitplus) (0.16.0)\n",
      "Requirement already satisfied, skipping upgrade: importlib-metadata; python_version < \"3.8\" in /usr/local/python3/lib/python3.7/site-packages (from jsonschema>=3.0.1->jupyterlab-server~=1.0.0->jupyterlab->jupyterlab_gitplus) (1.6.0)\n",
      "Requirement already satisfied, skipping upgrade: attrs>=17.4.0 in /usr/local/python3/lib/python3.7/site-packages (from jsonschema>=3.0.1->jupyterlab-server~=1.0.0->jupyterlab->jupyterlab_gitplus) (19.3.0)\n",
      "Requirement already satisfied, skipping upgrade: setuptools in /usr/local/python3/lib/python3.7/site-packages (from jsonschema>=3.0.1->jupyterlab-server~=1.0.0->jupyterlab->jupyterlab_gitplus) (47.1.1)\n",
      "Requirement already satisfied, skipping upgrade: webencodings in /usr/local/python3/lib/python3.7/site-packages (from bleach->nbconvert->notebook>=4.3.1->jupyterlab->jupyterlab_gitplus) (0.5.1)\n",
      "Requirement already satisfied, skipping upgrade: jedi>=0.10 in /usr/local/python3/lib/python3.7/site-packages (from ipython>=5.0.0->ipykernel->notebook>=4.3.1->jupyterlab->jupyterlab_gitplus) (0.16.0)\n",
      "Requirement already satisfied, skipping upgrade: pickleshare in /usr/local/python3/lib/python3.7/site-packages (from ipython>=5.0.0->ipykernel->notebook>=4.3.1->jupyterlab->jupyterlab_gitplus) (0.7.5)\n",
      "Requirement already satisfied, skipping upgrade: prompt-toolkit!=3.0.0,!=3.0.1,<3.1.0,>=2.0.0 in /usr/local/python3/lib/python3.7/site-packages (from ipython>=5.0.0->ipykernel->notebook>=4.3.1->jupyterlab->jupyterlab_gitplus) (3.0.5)\n",
      "Requirement already satisfied, skipping upgrade: pexpect; sys_platform != \"win32\" in /usr/local/python3/lib/python3.7/site-packages (from ipython>=5.0.0->ipykernel->notebook>=4.3.1->jupyterlab->jupyterlab_gitplus) (4.8.0)\n",
      "Requirement already satisfied, skipping upgrade: backcall in /usr/local/python3/lib/python3.7/site-packages (from ipython>=5.0.0->ipykernel->notebook>=4.3.1->jupyterlab->jupyterlab_gitplus) (0.1.0)\n",
      "Requirement already satisfied, skipping upgrade: zipp>=0.5 in /usr/local/python3/lib/python3.7/site-packages (from importlib-metadata; python_version < \"3.8\"->jsonschema>=3.0.1->jupyterlab-server~=1.0.0->jupyterlab->jupyterlab_gitplus) (3.1.0)\n",
      "Requirement already satisfied, skipping upgrade: parso>=0.5.2 in /usr/local/python3/lib/python3.7/site-packages (from jedi>=0.10->ipython>=5.0.0->ipykernel->notebook>=4.3.1->jupyterlab->jupyterlab_gitplus) (0.6.2)\n",
      "Requirement already satisfied, skipping upgrade: wcwidth in /usr/local/python3/lib/python3.7/site-packages (from prompt-toolkit!=3.0.0,!=3.0.1,<3.1.0,>=2.0.0->ipython>=5.0.0->ipykernel->notebook>=4.3.1->jupyterlab->jupyterlab_gitplus) (0.1.9)\n",
      "Installing collected packages: smmap, gitdb, gitpython, jupyterlab-gitplus\n",
      "Successfully installed gitdb-4.0.5 gitpython-3.1.7 jupyterlab-gitplus-0.1.15 smmap-3.0.4\n",
      "\u001b[33mWARNING: You are using pip version 20.1.1; however, version 20.2.2 is available.\n",
      "You should consider upgrading via the '/usr/bin/python3 -m pip install --upgrade pip' command.\u001b[0m\n"
     ]
    }
   ],
   "source": [
    "!pip3 install --upgrade jupyterlab_gitplus"
   ]
  },
  {
   "cell_type": "code",
   "execution_count": null,
   "metadata": {},
   "outputs": [
    {
     "name": "stdout",
     "output_type": "stream",
     "text": []
    },
    {
     "name": "stdout",
     "output_type": "stream",
     "text": [
      "Building jupyterlab assets (build:prod:minimize)\n",
      "|"
     ]
    }
   ],
   "source": [
    "!jupyter labextension install @reviewnb/jupyterlab_gitplus"
   ]
  },
  {
   "cell_type": "code",
   "execution_count": null,
   "metadata": {},
   "outputs": [],
   "source": [
    "!jupyter serverextension enable --py jupyterlab_gitplus"
   ]
  },
  {
   "cell_type": "code",
   "execution_count": null,
   "metadata": {},
   "outputs": [],
   "source": []
  }
 ],
 "metadata": {
  "kernelspec": {
   "display_name": "Python 3",
   "language": "python",
   "name": "python3"
  },
  "language_info": {
   "codemirror_mode": {
    "name": "ipython",
    "version": 3
   },
   "file_extension": ".py",
   "mimetype": "text/x-python",
   "name": "python",
   "nbconvert_exporter": "python",
   "pygments_lexer": "ipython3",
   "version": "3.7.3"
  }
 },
 "nbformat": 4,
 "nbformat_minor": 4
}
