{
 "cells": [
  {
   "cell_type": "code",
   "execution_count": 2,
   "metadata": {},
   "outputs": [
    {
     "name": "stdout",
     "output_type": "stream",
     "text": [
      "64\n"
     ]
    }
   ],
   "source": [
    "\"\"\"\n",
    "面试题 11 求数值的整数次方\n",
    "需要考虑正数、负数和0\n",
    "浮点数不能直接用==比较\n",
    "\"\"\"\n",
    "def power(base, exponent):\n",
    "    if equal_zero(base) and exponent < 0:\n",
    "        raise ZeroDivisionError\n",
    "    ret = power_value(base, abs(exponent))\n",
    "    if exponent < 0:\n",
    "        return 1.0 / ret\n",
    "    else:\n",
    "        return ret\n",
    "    \n",
    "def equal_zero(num):\n",
    "    if abs(num - 0.0) < 0.0000001:\n",
    "        return True\n",
    "    \n",
    "def power_value(base, exponent):\n",
    "    if exponent == 0:\n",
    "        return 1\n",
    "    if exponent == 1:\n",
    "        return base\n",
    "    ret = power_value(base, exponent >> 1)  # exponent // 2\n",
    "    ret *= ret\n",
    "    if exponent & 1 == 1:  # exponent 为 奇数\n",
    "        ret *= base\n",
    "    return ret\n",
    "\n",
    "if __name__ == '__main__':\n",
    "    print(power(-2, 6))"
   ]
  },
  {
   "cell_type": "code",
   "execution_count": 8,
   "metadata": {},
   "outputs": [
    {
     "name": "stdout",
     "output_type": "stream",
     "text": [
      "0\n",
      "1\n",
      "2\n",
      "3\n",
      "4\n",
      "5\n",
      "6\n",
      "7\n",
      "8\n",
      "9\n"
     ]
    }
   ],
   "source": [
    "\"\"\"\n",
    "# coding=utf-8\n",
    "面试题12 输入n，打印出从1到最大的n位数\n",
    "Python中已经对大整数可以进行自动转换了，所以不需要考虑大整数溢出问题\n",
    "\"\"\"\n",
    "def print_max_n(n):\n",
    "    for i in range(10 ** n):\n",
    "        print(i)\n",
    "    \n",
    "if __name__ == '__main__':\n",
    "    print_max_n(1)"
   ]
  },
  {
   "cell_type": "code",
   "execution_count": 24,
   "metadata": {},
   "outputs": [
    {
     "name": "stdout",
     "output_type": "stream",
     "text": [
      "33333333\n",
      "1 3\n"
     ]
    }
   ],
   "source": [
    "\"\"\"\n",
    "面试题13  O(1)时间删除链表结点\n",
    "如果有后续结点，后续结点的值前移，删除后续结点，如果没有，只能顺序查找了\n",
    "\"\"\"\n",
    "def delete_node(link, node):\n",
    "    if node == link:          # 链表只有一个节点，要删除的节点就是头结点\n",
    "        print(11111111)\n",
    "        del node\n",
    "    if node.next is None:     # 要删除的节点 node 是尾结点\n",
    "        print(22222222)\n",
    "        while link:\n",
    "            if link.next == node:\n",
    "                link.next = None\n",
    "            link = link.next\n",
    "    else:                     # 要删除的节点在中间\n",
    "        print(33333333)\n",
    "        node.val = node.next.val\n",
    "        n_node = node.next\n",
    "        node.next = n_node.next\n",
    "        del n_node\n",
    "    \n",
    "class ListNode(object):\n",
    "      \n",
    "    def __init__(self, val):\n",
    "        self.val = val\n",
    "        self.next = None\n",
    "        \n",
    "\n",
    "if __name__ == '__main__':\n",
    "    node1 = ListNode(1)\n",
    "    node1.next = ListNode(2)\n",
    "    node1.next.next = ListNode(3)\n",
    "    delete_node(node1, node1.next)   # 有文章是这么写的：delete_node(node1, ListNode(2)) 这是错误的，因为节点本身是已经定义好连贯的。\n",
    "    print(node1.val, node1.next.val)"
   ]
  },
  {
   "cell_type": "code",
   "execution_count": 37,
   "metadata": {},
   "outputs": [
    {
     "name": "stdout",
     "output_type": "stream",
     "text": [
      "[1, 5, 7, 2, 6, 4]\n"
     ]
    }
   ],
   "source": [
    "\"\"\"\n",
    "面试题14 调整数组顺序使奇数位于偶数前面\n",
    "使用两个指针，前后各一个，为了更好的扩展性，可以把判断奇偶部分抽取出来\n",
    "\"\"\"\n",
    "# def change(arr):\n",
    "#     left, right = [], []\n",
    "#     for i in arr:\n",
    "#         if equal_num(i):\n",
    "#             left.append(i)\n",
    "#         else:\n",
    "#             right.append(i)\n",
    "#     return left + right\n",
    "\n",
    "# def equal_num(num):\n",
    "#     if num % 2 == 1:\n",
    "#         return True\n",
    "#     return False\n",
    "\n",
    "# if __name__ == '__main__':\n",
    "#     arr = [4, 6, 7, 2, 5, 1]\n",
    "#     res = change(arr)\n",
    "#     print(res)\n",
    "\n",
    "def reorder(nums, func):\n",
    "    left, right = 0, len(nums) - 1\n",
    "    while left < right:\n",
    "        while not func(nums[left]):  # 奇数\n",
    "            left += 1\n",
    "        while func(nums[right]):     # 偶数\n",
    "            right -= 1\n",
    "        if left < right:\n",
    "            nums[left], nums[right] = nums[right], nums[left]\n",
    "            \n",
    "def is_even(num):\n",
    "    return (num & 1) == 0\n",
    "\n",
    "\n",
    "if __name__ == '__main__':\n",
    "    tests = [4, 6, 7, 2, 5, 1]\n",
    "    reorder(tests, is_even)\n",
    "    print(tests)"
   ]
  },
  {
   "cell_type": "code",
   "execution_count": null,
   "metadata": {},
   "outputs": [],
   "source": []
  }
 ],
 "metadata": {
  "kernelspec": {
   "display_name": "Python 3",
   "language": "python",
   "name": "python3"
  },
  "language_info": {
   "codemirror_mode": {
    "name": "ipython",
    "version": 3
   },
   "file_extension": ".py",
   "mimetype": "text/x-python",
   "name": "python",
   "nbconvert_exporter": "python",
   "pygments_lexer": "ipython3",
   "version": "3.7.3"
  }
 },
 "nbformat": 4,
 "nbformat_minor": 4
}
