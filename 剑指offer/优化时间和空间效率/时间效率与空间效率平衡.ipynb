{
 "cells": [
  {
   "cell_type": "code",
   "execution_count": 1,
   "metadata": {},
   "outputs": [
    {
     "name": "stdout",
     "output_type": "stream",
     "text": [
      "12\n"
     ]
    }
   ],
   "source": [
    "\"\"\"\n",
    "5.3 时间效率与空间效率的平衡\n",
    "面试题34：丑数\n",
    "题目地址：https://leetcode-cn.com/problems/chou-shu-lcof/\n",
    "\"\"\"\n",
    "class Solution():\n",
    "    def nthUglyNumber(self, n):\n",
    "        dp, a, b, c = [1] * n, 0, 0, 0\n",
    "        for i in range(1, n):\n",
    "            n2, n3, n5 = dp[a] * 2, dp[b] * 3, dp[c] * 5\n",
    "            dp[i] = min(n2, n3, n5)\n",
    "            if dp[i] == n2:\n",
    "                a += 1\n",
    "            if dp[i] == n3:\n",
    "                b += 1\n",
    "            if dp[i] == n5:\n",
    "                c += 1\n",
    "        return dp[-1]\n",
    "    \n",
    "if __name__ == \"__main__\":\n",
    "    solution = Solution()\n",
    "    res = solution.nthUglyNumber(10)\n",
    "    print(res)"
   ]
  },
  {
   "cell_type": "code",
   "execution_count": 2,
   "metadata": {},
   "outputs": [
    {
     "name": "stdout",
     "output_type": "stream",
     "text": [
      "b\n"
     ]
    }
   ],
   "source": [
    "\"\"\"\n",
    "5.3 时间效率与空间效率的平衡\n",
    "面试题35：第一个只出现一次的字符\n",
    "题目地址：https://leetcode-cn.com/problems/di-yi-ge-zhi-chu-xian-yi-ci-de-zi-fu-lcof/\n",
    "\"\"\"\n",
    "class Solution:\n",
    "#     def firstUniqChar(self, s: str) -> str:\n",
    "    def firstUniqChar(self, s): \n",
    "        # 自研方法一  说明：如果使用 str.count() 的话，会超出时间限制\n",
    "#         res = {}\n",
    "#         for i in s:\n",
    "#             if i not in res:\n",
    "#                 res[i] = 1\n",
    "#             else:\n",
    "#                 res[i] += 1\n",
    "#         for c in res:\n",
    "#             if res[c] == 1:\n",
    "#                 return c\n",
    "#         return \" \"\n",
    "        # 方法二：不存，只判断\n",
    "        res = {}\n",
    "        for i in s:\n",
    "            res[i] = not i in res\n",
    "        for k, v in res.items():\n",
    "            if v:\n",
    "                return k\n",
    "        return \" \"\n",
    "if __name__ == \"__main__\":\n",
    "    solution = Solution()\n",
    "    res = solution.firstUniqChar('abaccdeff')\n",
    "    print(res)"
   ]
  },
  {
   "cell_type": "code",
   "execution_count": 6,
   "metadata": {},
   "outputs": [
    {
     "name": "stdout",
     "output_type": "stream",
     "text": [
      "5\n"
     ]
    }
   ],
   "source": [
    "\"\"\"\n",
    "5.3 时间效率与空间效率的平衡\n",
    "面试题36：数组中的逆序对\n",
    "题目地址：https://leetcode-cn.com/problems/shu-zu-zhong-de-ni-xu-dui-lcof/\n",
    "\"\"\"\n",
    "class Solution:\n",
    "    def mergeSort(self, arrs, tmp, left, right):\n",
    "        if left >= right:\n",
    "            return 0\n",
    "        \n",
    "        mid = (left + right) // 2\n",
    "        inv_count = self.mergeSort(arrs, tmp, left, mid) + self.mergeSort(arrs, tmp, mid+1, right)\n",
    "        i, j, pos = left, mid + 1, left\n",
    "        while i <= mid and j <= right:\n",
    "            if arrs[i] <= arrs[j]:\n",
    "                tmp[pos] = arrs[i]\n",
    "                i += 1\n",
    "                inv_count += (j - (mid + 1))\n",
    "            else:\n",
    "                tmp[pos] += arrs[j]\n",
    "                j += 1\n",
    "            pos += 1\n",
    "        for k in range(i, mid + 1):\n",
    "            tmp[pos] = arrs[k]\n",
    "            inv_count += (j - (mid + 1))\n",
    "            pos += 1\n",
    "            \n",
    "        for k in range(j, mid + 1):\n",
    "            tmp[pos]= arrs[k]\n",
    "            pos += 1\n",
    "        arrs[left:right + 1] = tmp[left:right+1]\n",
    "        return inv_count\n",
    "    \n",
    "    def reversePairs(self, nums):\n",
    "        n = len(nums)\n",
    "        tmp = [0] * n\n",
    "        return self.mergeSort(nums, tmp, 0, n - 1)\n",
    "    \n",
    "if __name__ == \"__main__\":\n",
    "    solution = Solution()\n",
    "    res = solution.reversePairs([7, 5, 6, 4])\n",
    "    print(res)"
   ]
  },
  {
   "cell_type": "code",
   "execution_count": null,
   "metadata": {},
   "outputs": [],
   "source": []
  }
 ],
 "metadata": {
  "kernelspec": {
   "display_name": "Python 3",
   "language": "python",
   "name": "python3"
  },
  "language_info": {
   "codemirror_mode": {
    "name": "ipython",
    "version": 3
   },
   "file_extension": ".py",
   "mimetype": "text/x-python",
   "name": "python",
   "nbconvert_exporter": "python",
   "pygments_lexer": "ipython3",
   "version": "3.7.3"
  }
 },
 "nbformat": 4,
 "nbformat_minor": 4
}
