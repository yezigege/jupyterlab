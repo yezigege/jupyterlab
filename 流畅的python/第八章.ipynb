{
 "cells": [
  {
   "cell_type": "code",
   "execution_count": 1,
   "metadata": {},
   "outputs": [
    {
     "data": {
      "text/plain": [
       "[1, 2, 3, 4]"
      ]
     },
     "execution_count": 1,
     "metadata": {},
     "output_type": "execute_result"
    }
   ],
   "source": [
    "# 8. 对象引用、可变性和垃圾回收\n",
    "\n",
    "# 8.1 变量不是盒子\n",
    "# 示例 8-1 变量 a 和 b 引用同一个列表，而不是那个列表的副本\n",
    "a = [1, 2, 3]\n",
    "b = a\n",
    "a.append(4)\n",
    "b"
   ]
  },
  {
   "cell_type": "code",
   "execution_count": 2,
   "metadata": {},
   "outputs": [
    {
     "name": "stdout",
     "output_type": "stream",
     "text": [
      "Gizmo id: 139870742709640\n"
     ]
    }
   ],
   "source": [
    "# 如果把变量想象为盒子，那么无法解释 Python 中的赋值; 应该把变量视作便利贴，这样示例 8-1 中的行为就好解释了\n",
    "\n",
    "# 示例 8-2 证明赋值语句的右边先执行。\n",
    "class Gizmo:\n",
    "    def __init__(self):\n",
    "        print(f'Gizmo id: {id(self)}')\n",
    "        \n",
    "x = Gizmo()"
   ]
  },
  {
   "cell_type": "code",
   "execution_count": 3,
   "metadata": {},
   "outputs": [
    {
     "name": "stdout",
     "output_type": "stream",
     "text": [
      "Gizmo id: 139870742590856\n"
     ]
    },
    {
     "ename": "TypeError",
     "evalue": "unsupported operand type(s) for *: 'Gizmo' and 'int'",
     "output_type": "error",
     "traceback": [
      "\u001b[0;31m---------------------------------------------------------------------------\u001b[0m",
      "\u001b[0;31mTypeError\u001b[0m                                 Traceback (most recent call last)",
      "\u001b[0;32m<ipython-input-3-2beac7b9470d>\u001b[0m in \u001b[0;36m<module>\u001b[0;34m\u001b[0m\n\u001b[0;32m----> 1\u001b[0;31m \u001b[0my\u001b[0m \u001b[0;34m=\u001b[0m \u001b[0mGizmo\u001b[0m\u001b[0;34m(\u001b[0m\u001b[0;34m)\u001b[0m \u001b[0;34m*\u001b[0m \u001b[0;36m10\u001b[0m\u001b[0;34m\u001b[0m\u001b[0;34m\u001b[0m\u001b[0m\n\u001b[0m",
      "\u001b[0;31mTypeError\u001b[0m: unsupported operand type(s) for *: 'Gizmo' and 'int'"
     ]
    }
   ],
   "source": [
    "y = Gizmo() * 10"
   ]
  },
  {
   "cell_type": "code",
   "execution_count": null,
   "metadata": {},
   "outputs": [],
   "source": [
    "\"\"\"\n",
    "由以上示例可以看出，赋值语句的右边先一步执行，然后左边的变量才会绑定到对象上，这就像是为对象贴上标注，忘了盒子，盒子不对。至少在python上不对\n",
    "\n",
    "因为变量只不过是标注，所以无法阻止为对象贴上多个标注。贴的多个 标注，就是别名。\n",
    "\"\"\""
   ]
  },
  {
   "cell_type": "code",
   "execution_count": 5,
   "metadata": {},
   "outputs": [
    {
     "data": {
      "text/plain": [
       "True"
      ]
     },
     "execution_count": 5,
     "metadata": {},
     "output_type": "execute_result"
    }
   ],
   "source": [
    "# 8.2 标识、相等性和别名\n",
    "\n",
    "# 示例 8-3 charles 和 lewis 指代同一个对象\n",
    "charles = {'name': 'tom', 'born': 1832}\n",
    "lewis = charles\n",
    "lewis is charles"
   ]
  },
  {
   "cell_type": "code",
   "execution_count": 6,
   "metadata": {},
   "outputs": [
    {
     "data": {
      "text/plain": [
       "(139870719533488, 139870719533488)"
      ]
     },
     "execution_count": 6,
     "metadata": {},
     "output_type": "execute_result"
    }
   ],
   "source": [
    "id(lewis), id(charles)"
   ]
  },
  {
   "cell_type": "code",
   "execution_count": 7,
   "metadata": {},
   "outputs": [
    {
     "data": {
      "text/plain": [
       "{'name': 'tom', 'born': 1832, 'balance': 950}"
      ]
     },
     "execution_count": 7,
     "metadata": {},
     "output_type": "execute_result"
    }
   ],
   "source": [
    "lewis['balance'] = 950\n",
    "charles"
   ]
  },
  {
   "cell_type": "code",
   "execution_count": null,
   "metadata": {},
   "outputs": [],
   "source": [
    "\"\"\"\n",
    "每个变量都有标识、类型和值。对象一旦创建，它的标识绝不会 变;你可以把标识理解为对象在内存中的地址。\n",
    "is 运算符比较两个 对象的标识;id() 函数返回对象标识的整数表示。\n",
    "\n",
    "对象 ID 的真正意义在不同的实现中有所不同。在 CPython 中，id() 返 回对象的内存地址，但是在其他 Python 解释器中可能是别的值。\n",
    "关键 是，ID 一定是唯一的数值标注，而且在对象的生命周期中绝不会变。\n",
    "\n",
    "其实，编程中很少使用 id() 函数。标识最常使用 is 运算符检查，而 不是直接比较 ID。接下来讨论 is 和 == 的异同.\n",
    "\"\"\""
   ]
  },
  {
   "cell_type": "code",
   "execution_count": 8,
   "metadata": {},
   "outputs": [
    {
     "data": {
      "text/plain": [
       "False"
      ]
     },
     "execution_count": 8,
     "metadata": {},
     "output_type": "execute_result"
    }
   ],
   "source": [
    "# 8.2.1 在 == 和 is 之间选择\n",
    "\"\"\"\n",
    "== 运算符比较两个对象的值(对象中保存的数据)，而 is 比较对象的标识。\n",
    "\n",
    "通常，我们关注的是值，而不是标识，因此 Python 代码中 == 出现的频率比is高。\n",
    "然而，在变量和单例值之间比较时，应该使用 is。目前，最常使用 is检查变量绑定的值是不是 None。下面是推荐的写法:\n",
    "\"\"\"\n",
    "x is None\n",
    "\n",
    "# 否定的正确写法是：\n",
    "x is not None"
   ]
  },
  {
   "cell_type": "code",
   "execution_count": null,
   "metadata": {},
   "outputs": [],
   "source": [
    "\"\"\"\n",
    "is 运算符比 == 速度快，因为它不能重载，所以 Python 不用寻找并调用 特殊方法，而是直接比较两个整数 ID。\n",
    "而 a == b 是语法糖，等同于 a.__eq__(b)。继承自 object 的 __eq__ 方法比较两个对象的 ID，结 果与 is 一样。\n",
    "\n",
    "但是多数内置类型使用更有意义的方式覆盖了 __eq__ 方法，会考虑对象属性的值。相等性测试可能涉及大量处理工作，\n",
    "例 如，比较大型集合或嵌套层级深的结构时。\n",
    "\"\"\""
   ]
  },
  {
   "cell_type": "code",
   "execution_count": 9,
   "metadata": {},
   "outputs": [
    {
     "data": {
      "text/plain": [
       "True"
      ]
     },
     "execution_count": 9,
     "metadata": {},
     "output_type": "execute_result"
    }
   ],
   "source": [
    "# 8.2.2 元组的相对不可变性\n",
    "\"\"\"\n",
    "元组与多数 Python 集合(列表、字典、集，等等)一样，保存的是对象的引用。 \n",
    "如果引用的元素是可变的，即便元组本身不可变，元素依然 可变。也就是说，元组的不可变性其实是指 tuple 数据结构的物理内容(即保存的引用)不可变，\n",
    "与引用的对象无关。\n",
    "\"\"\"\n",
    "\n",
    "# 示例 8-5 表明，元组的值会随着引用的可变对象的变化而变。元组中不 可变的是元素的标识\n",
    "\n",
    "t1 = (1, 2, [30, 40])\n",
    "t2 = (1, 2, [30, 40])\n",
    "t1 == t2"
   ]
  },
  {
   "cell_type": "code",
   "execution_count": 10,
   "metadata": {},
   "outputs": [
    {
     "data": {
      "text/plain": [
       "139870751288968"
      ]
     },
     "execution_count": 10,
     "metadata": {},
     "output_type": "execute_result"
    }
   ],
   "source": [
    "id(t1[-1])"
   ]
  },
  {
   "cell_type": "code",
   "execution_count": 11,
   "metadata": {},
   "outputs": [
    {
     "data": {
      "text/plain": [
       "(1, 2, [30, 40, 99])"
      ]
     },
     "execution_count": 11,
     "metadata": {},
     "output_type": "execute_result"
    }
   ],
   "source": [
    "t1[-1].append(99)  # t1 不可变，但是 t1[-1] 可变\n",
    "t1"
   ]
  },
  {
   "cell_type": "code",
   "execution_count": 12,
   "metadata": {},
   "outputs": [
    {
     "data": {
      "text/plain": [
       "139870751288968"
      ]
     },
     "execution_count": 12,
     "metadata": {},
     "output_type": "execute_result"
    }
   ],
   "source": [
    "id(t1[-1])"
   ]
  },
  {
   "cell_type": "code",
   "execution_count": 13,
   "metadata": {},
   "outputs": [
    {
     "data": {
      "text/plain": [
       "False"
      ]
     },
     "execution_count": 13,
     "metadata": {},
     "output_type": "execute_result"
    }
   ],
   "source": [
    "t1 == t2"
   ]
  },
  {
   "cell_type": "code",
   "execution_count": 14,
   "metadata": {},
   "outputs": [
    {
     "data": {
      "text/plain": [
       "[3, [55, 44], (7, 8, 9)]"
      ]
     },
     "execution_count": 14,
     "metadata": {},
     "output_type": "execute_result"
    }
   ],
   "source": [
    "# 8.3 默认做浅复制\n",
    "\n",
    "# 复制列表(或多数内置的可变集合)最简单的方式是使用内置的类型构造方法\n",
    "l1 = [3, [55, 44], (7, 8 , 9)]\n",
    "l2 = list(l1)  \n",
    "l2"
   ]
  },
  {
   "cell_type": "code",
   "execution_count": 15,
   "metadata": {},
   "outputs": [
    {
     "data": {
      "text/plain": [
       "True"
      ]
     },
     "execution_count": 15,
     "metadata": {},
     "output_type": "execute_result"
    }
   ],
   "source": [
    "l2 == l1"
   ]
  },
  {
   "cell_type": "code",
   "execution_count": 16,
   "metadata": {},
   "outputs": [
    {
     "data": {
      "text/plain": [
       "False"
      ]
     },
     "execution_count": 16,
     "metadata": {},
     "output_type": "execute_result"
    }
   ],
   "source": [
    "l2 is l1"
   ]
  },
  {
   "cell_type": "code",
   "execution_count": null,
   "metadata": {},
   "outputs": [],
   "source": [
    "\"\"\"\n",
    "list(l1) 创建 l1 的副本 对列表和其他可变序列来说，还能使用简洁的 l2 = l1[:] 语句创建副本\n",
    "\n",
    "构造方法或 [:] 做的是浅复制(即复制了最外层容器，副本中 的元素是源容器中元素的引用)。\n",
    "如果所有元素都是不可变的，那么这 样没有问题，还能节省内存。但是，如果有可变的元素，可能就会导致 意想不到的问题。\n",
    "\"\"\""
   ]
  },
  {
   "cell_type": "code",
   "execution_count": 17,
   "metadata": {},
   "outputs": [
    {
     "name": "stdout",
     "output_type": "stream",
     "text": [
      "l1: [3, [44], (7, 8, 9), 100]\n",
      "l2: [3, [44], (7, 8, 9)]\n",
      "l1: [3, [44, 33, 22], (7, 8, 9), 100]\n",
      "l2: [3, [44, 33, 22], (7, 8, 9, 10, 11)]\n"
     ]
    }
   ],
   "source": [
    "# 示例 8-6 为一个包含另一个列表的列表做浅复制;把这段代码复 制粘贴到 Python Tutor [http://www.pythontutor.com/visualize.html#mode=edit]网站中\n",
    "# 看看动画效果\n",
    "\n",
    "l1 = [3, [55, 44], (7, 8 , 9)]\n",
    "l2 = list(l1)\n",
    "l1.append(100)\n",
    "l1[1].remove(55)\n",
    "print('l1:', l1)\n",
    "print('l2:', l2)\n",
    "l2[1] += [33, 22]\n",
    "l2[2] += (10, 11)\n",
    "print('l1:', l1)\n",
    "print('l2:', l2)"
   ]
  },
  {
   "cell_type": "code",
   "execution_count": 25,
   "metadata": {},
   "outputs": [],
   "source": [
    "# 为任意对象做深复制和浅复制\n",
    "\"\"\"\n",
    "copy 模块提供的 deepcopy 和 copy 函数能为任意对象做 深复制和浅复制。\n",
    "为了演示 copy() 和 deepcopy() 的用法，示例 8-8 定义了一个简单的 类，Bus。这个类表示运载乘客的校车，在途中乘客会上车或下车。\n",
    "\"\"\"\n",
    "# 示例 8-8 校车乘客在途中上车和下车\n",
    "class Bus:\n",
    "    \n",
    "    def __init__(self, passengers=None): \n",
    "        if passengers is None:\n",
    "            self.passengers = [] \n",
    "        else:\n",
    "            self.passengers = list(passengers)\n",
    "        \n",
    "    def pick(self, name): \n",
    "        self.passengers.append(name)\n",
    "        \n",
    "    def drop(self, name):\n",
    "        self.passengers.remove(name)"
   ]
  },
  {
   "cell_type": "code",
   "execution_count": 26,
   "metadata": {},
   "outputs": [
    {
     "data": {
      "text/plain": [
       "(139870718038872, 139870718038592, 139870718038368)"
      ]
     },
     "execution_count": 26,
     "metadata": {},
     "output_type": "execute_result"
    }
   ],
   "source": [
    "\"\"\"\n",
    "接下来，在示例 8-9 中的交互式控制台中，我们将创建一个 Bus 实例 (bus1)和两个副本，\n",
    "一个是浅复制副本(bus2)，另一个是深复制 副本(bus3)，看看在 bus1 有学生下车后会发生什么。\n",
    "\"\"\"\n",
    "# 示例 8-9 使用 copy 和 deepcopy 产生的影响\n",
    "import copy\n",
    "bus1 = Bus(['Alice', 'Bill', 'Claire', 'David'])\n",
    "bus2 = copy.copy(bus1)\n",
    "bus3 = copy.deepcopy(bus1)\n",
    "id(bus1), id(bus2), id(bus3)"
   ]
  },
  {
   "cell_type": "code",
   "execution_count": 27,
   "metadata": {},
   "outputs": [
    {
     "data": {
      "text/plain": [
       "['Alice', 'Claire', 'David']"
      ]
     },
     "execution_count": 27,
     "metadata": {},
     "output_type": "execute_result"
    }
   ],
   "source": [
    "bus1.drop('Bill')\n",
    "bus2.passengers"
   ]
  },
  {
   "cell_type": "code",
   "execution_count": 28,
   "metadata": {},
   "outputs": [
    {
     "data": {
      "text/plain": [
       "(139870717768456, 139870717768456, 139870370052936)"
      ]
     },
     "execution_count": 28,
     "metadata": {},
     "output_type": "execute_result"
    }
   ],
   "source": [
    "id(bus1.passengers), id(bus2.passengers), id(bus3.passengers)"
   ]
  },
  {
   "cell_type": "code",
   "execution_count": 29,
   "metadata": {},
   "outputs": [
    {
     "data": {
      "text/plain": [
       "['Alice', 'Bill', 'Claire', 'David']"
      ]
     },
     "execution_count": 29,
     "metadata": {},
     "output_type": "execute_result"
    }
   ],
   "source": [
    "bus3.passengers"
   ]
  },
  {
   "cell_type": "code",
   "execution_count": 30,
   "metadata": {},
   "outputs": [
    {
     "data": {
      "text/plain": [
       "[10, 20, [[...], 30]]"
      ]
     },
     "execution_count": 30,
     "metadata": {},
     "output_type": "execute_result"
    }
   ],
   "source": [
    "\"\"\"\n",
    "注意，一般来说，深复制不是件简单的事。如果对象有循环引用，那么 这个朴素的算法会进入无限循环。\n",
    "deepcopy 函数会记住已经复制的对 象，因此能优雅地处理循环引用，如示例 8-10 所示。\n",
    "\"\"\"\n",
    "\n",
    "# 示例 8-10 循环引用:b 引用 a，然后追加到 a 中;deepcopy 会 想办法复制 a\n",
    "a = [10, 20]\n",
    "b = [a, 30]\n",
    "a.append(b)\n",
    "a"
   ]
  },
  {
   "cell_type": "code",
   "execution_count": 32,
   "metadata": {},
   "outputs": [
    {
     "data": {
      "text/plain": [
       "[10, 20, [[...], 30]]"
      ]
     },
     "execution_count": 32,
     "metadata": {},
     "output_type": "execute_result"
    }
   ],
   "source": [
    "from copy import deepcopy\n",
    "c = deepcopy(a)\n",
    "c"
   ]
  },
  {
   "cell_type": "code",
   "execution_count": 33,
   "metadata": {},
   "outputs": [
    {
     "data": {
      "text/plain": [
       "3"
      ]
     },
     "execution_count": 33,
     "metadata": {},
     "output_type": "execute_result"
    }
   ],
   "source": [
    "# 8.4 函数的参数作为引用时\n",
    "\"\"\"\n",
    "Python 唯一支持的参数传递模式是共享传参(call by sharing)。多数面 向对象语言都采用这一模式，包括 Ruby、Smalltalk 和 Java(Java 的引 用类型是这样，基本类型按值传参)。\n",
    "共享传参指函数的各个形式参数获得实参中各个引用的副本。也就是 说，函数内部的形参是实参的别名。\n",
    "这种方案的结果是，函数可能会修改作为参数传入的可变对象，但是无 法修改那些对象的标识(即不能把一个对象替换成另一个对象)。\n",
    "示例 8-11 中有个简单的函数，它在参数上调用 += 运算符。分别把数字、列 表和元组传给那个函数，实际传入的实参会以不同的方式受到影响。\n",
    "\n",
    "\"\"\"\n",
    "\n",
    "# 示例 8-11 函数可能会修改接收到的任何可变对象\n",
    "def f(a, b):\n",
    "    a += b\n",
    "    return a\n",
    "\n",
    "x = 1\n",
    "y = 2\n",
    "f(x, y)"
   ]
  },
  {
   "cell_type": "code",
   "execution_count": 34,
   "metadata": {},
   "outputs": [
    {
     "data": {
      "text/plain": [
       "(1, 2)"
      ]
     },
     "execution_count": 34,
     "metadata": {},
     "output_type": "execute_result"
    }
   ],
   "source": [
    "x, y"
   ]
  },
  {
   "cell_type": "code",
   "execution_count": 35,
   "metadata": {},
   "outputs": [
    {
     "data": {
      "text/plain": [
       "[1, 2, 3, 4]"
      ]
     },
     "execution_count": 35,
     "metadata": {},
     "output_type": "execute_result"
    }
   ],
   "source": [
    "a = [1, 2]\n",
    "b = [3, 4]\n",
    "f(a, b)"
   ]
  },
  {
   "cell_type": "code",
   "execution_count": 36,
   "metadata": {},
   "outputs": [
    {
     "data": {
      "text/plain": [
       "([1, 2, 3, 4], [3, 4])"
      ]
     },
     "execution_count": 36,
     "metadata": {},
     "output_type": "execute_result"
    }
   ],
   "source": [
    "a, b  # 发生了变化"
   ]
  },
  {
   "cell_type": "code",
   "execution_count": 37,
   "metadata": {},
   "outputs": [
    {
     "data": {
      "text/plain": [
       "(10, 20, 30, 40)"
      ]
     },
     "execution_count": 37,
     "metadata": {},
     "output_type": "execute_result"
    }
   ],
   "source": [
    "t = (10, 20)\n",
    "u = (30, 40)\n",
    "f(t, u)"
   ]
  },
  {
   "cell_type": "code",
   "execution_count": 38,
   "metadata": {},
   "outputs": [
    {
     "data": {
      "text/plain": [
       "((10, 20), (30, 40))"
      ]
     },
     "execution_count": 38,
     "metadata": {},
     "output_type": "execute_result"
    }
   ],
   "source": [
    "t, u"
   ]
  },
  {
   "cell_type": "code",
   "execution_count": null,
   "metadata": {},
   "outputs": [],
   "source": [
    "# 8.4.1 不要使用可变类型作为参数的默认值\n",
    "\"\"\"\n",
    "可选参数可以有默认值，这是 Python 函数定义的一个很棒的特性，这样 我们的 API 在进化的同时能保证向后兼容。\n",
    "然而，我们应该避免使用可 变的对象作为参数的默认值。\n",
    "\n",
    "下面在示例 8-12 中说明这个问题。我们以示例 8-8 中的 Bus 类为基础 定义一个新类， HauntedBus，然后修改 __init__ 方法。\n",
    "这一 次，passengers 的默认值不是 None，而是 []，这样就不用像之前那 样使用 if 判断了。这个“聪明的举动”会让我们陷入麻烦。\n",
    "\n",
    "\"\"\""
   ]
  },
  {
   "cell_type": "code",
   "execution_count": 62,
   "metadata": {},
   "outputs": [],
   "source": [
    "# 示例 8-12 一个简单的类，说明可变默认值的危险\n",
    "\n",
    "class HauntedBus: \n",
    "    \"\"\"备受幽灵乘客折磨的校车\"\"\"\n",
    "    def __init__(self, passengers=[]):  # 1\n",
    "        self.passengers = passengers    # 2\n",
    "        \n",
    "    def pick(self, name): \n",
    "        self.passengers.append(name)    # 3\n",
    "    \n",
    "    def drop(self, name): \n",
    "        self.passengers.remove(name)"
   ]
  },
  {
   "cell_type": "code",
   "execution_count": 63,
   "metadata": {},
   "outputs": [
    {
     "data": {
      "text/plain": [
       "['Alice', 'Bill']"
      ]
     },
     "execution_count": 63,
     "metadata": {},
     "output_type": "execute_result"
    }
   ],
   "source": [
    "\"\"\"\n",
    "如果没传入 passengers 参数，使用默认绑定的列表对象，一开始 是空列表。\n",
    "❷ 这个赋值语句把 self.passengers 变成 passengers 的别名，而没 有传入 passengers 参数时，后者又是默认列表的别名。\n",
    "❸ 在 self.passengers 上调用 .remove() 和 .append() 方法时，修 改的其实是默认列表，它是函数对象的一个属性。\n",
    "HauntedBus 的诡异行为如示例 8-13 所示。\n",
    "\"\"\"\n",
    "\n",
    "# 示例 8-13 备受幽灵乘客折磨的校车\n",
    "bus1 = HauntedBus(['Alice', 'Bill'])\n",
    "bus1.passengers"
   ]
  },
  {
   "cell_type": "code",
   "execution_count": 64,
   "metadata": {},
   "outputs": [],
   "source": [
    "bus1.pick('Charlie')"
   ]
  },
  {
   "cell_type": "code",
   "execution_count": 65,
   "metadata": {},
   "outputs": [
    {
     "data": {
      "text/plain": [
       "['Bill', 'Charlie']"
      ]
     },
     "execution_count": 65,
     "metadata": {},
     "output_type": "execute_result"
    }
   ],
   "source": [
    "bus1.drop('Alice')\n",
    "bus1.passengers"
   ]
  },
  {
   "cell_type": "code",
   "execution_count": 66,
   "metadata": {},
   "outputs": [
    {
     "data": {
      "text/plain": [
       "['Carrie']"
      ]
     },
     "execution_count": 66,
     "metadata": {},
     "output_type": "execute_result"
    }
   ],
   "source": [
    "bus2 = HauntedBus()\n",
    "bus2.pick('Carrie')\n",
    "bus2.passengers"
   ]
  },
  {
   "cell_type": "code",
   "execution_count": 67,
   "metadata": {},
   "outputs": [
    {
     "data": {
      "text/plain": [
       "['Carrie']"
      ]
     },
     "execution_count": 67,
     "metadata": {},
     "output_type": "execute_result"
    }
   ],
   "source": [
    "bus3 = HauntedBus()\n",
    "bus3.passengers"
   ]
  },
  {
   "cell_type": "code",
   "execution_count": 68,
   "metadata": {},
   "outputs": [
    {
     "data": {
      "text/plain": [
       "['Carrie', 'Dave']"
      ]
     },
     "execution_count": 68,
     "metadata": {},
     "output_type": "execute_result"
    }
   ],
   "source": [
    "bus3.pick('Dave')\n",
    "bus2.passengers"
   ]
  },
  {
   "cell_type": "code",
   "execution_count": 69,
   "metadata": {},
   "outputs": [
    {
     "data": {
      "text/plain": [
       "True"
      ]
     },
     "execution_count": 69,
     "metadata": {},
     "output_type": "execute_result"
    }
   ],
   "source": [
    "bus2.passengers is bus3.passengers"
   ]
  },
  {
   "cell_type": "code",
   "execution_count": 70,
   "metadata": {},
   "outputs": [
    {
     "data": {
      "text/plain": [
       "['Bill', 'Charlie']"
      ]
     },
     "execution_count": 70,
     "metadata": {},
     "output_type": "execute_result"
    }
   ],
   "source": [
    "bus1.passengers"
   ]
  },
  {
   "cell_type": "code",
   "execution_count": null,
   "metadata": {},
   "outputs": [],
   "source": [
    "\"\"\"\n",
    "问题在于，没有指定初始乘客的 HauntedBus 实例会共享同一个乘客列表。\n",
    "\n",
    "这种问题很难发现。如示例 8-13 所示，实例化 HauntedBus 时，如果 传入乘客，会按预期运作。但是不为 HauntedBus 指定乘客的话，\n",
    "奇怪 的事就发生了，这是因为 self.passengers 变成了 passengers 参数 默认值的别名。出现这个问题的根源是，\n",
    "默认值在定义函数时计算(通 常在加载模块时)，因此默认值变成了函数对象的属性。\n",
    "因此，如果默 认值是可变对象，而且修改了它的值，那么后续的函数调用都会受到影 响。\n",
    "\n",
    "运行示例 8-13 中的代码之后，可以审查 HauntedBus.__init__ 对 象，看看它的 __defaults__ 属性中的那些幽灵学生:\n",
    "\n",
    "\"\"\""
   ]
  },
  {
   "cell_type": "code",
   "execution_count": 71,
   "metadata": {},
   "outputs": [
    {
     "data": {
      "text/plain": [
       "<function __main__.HauntedBus.__init__(self, passengers=['Carrie', 'Dave'])>"
      ]
     },
     "execution_count": 71,
     "metadata": {},
     "output_type": "execute_result"
    }
   ],
   "source": [
    "HauntedBus.__init__"
   ]
  },
  {
   "cell_type": "code",
   "execution_count": 72,
   "metadata": {},
   "outputs": [
    {
     "data": {
      "text/plain": [
       "True"
      ]
     },
     "execution_count": 72,
     "metadata": {},
     "output_type": "execute_result"
    }
   ],
   "source": [
    "HauntedBus.__init__.__defaults__[0] is bus2.passengers"
   ]
  },
  {
   "cell_type": "code",
   "execution_count": 75,
   "metadata": {},
   "outputs": [
    {
     "data": {
      "text/plain": [
       "['Sue', 'Maya', 'Diana']"
      ]
     },
     "execution_count": 75,
     "metadata": {},
     "output_type": "execute_result"
    }
   ],
   "source": [
    "# 8.4.2 防御可变参数\n",
    "\n",
    "\"\"\"\n",
    "如果定义的函数接收可变参数，应该谨慎考虑调用方是否期望修改传入的参数。\n",
    "\n",
    "例如，如果函数接收一个字典，而且在处理的过程中要修改它，那么这 个副作用要不要体现到函数外部?具体情况具体分析。\n",
    "这其实需要函数 的编写者和调用方达成共识。\n",
    "\n",
    "\n",
    "在本章最后一个校车示例中，TwilightBus 实例与客户共享乘客列 表，这会产生意料之外的结果。\n",
    "在分析实现之前，我们先从客户的角度 看看 TwilightBus 类是如何工作的。\n",
    "\"\"\"\n",
    "\n",
    "# 示例 8-14 从 TwilightBus 下车后，乘客消失了\n",
    "basketball_team = ['Sue', 'Tina', 'Maya', 'Diana', 'Pat']\n",
    "bus = TwilightBus(basketball_team)\n",
    "bus.drop('Tina')\n",
    "bus.drop('Pat')\n",
    "basketball_team\n",
    "# >>> ['Sue', 'Mayya', 'Diana']"
   ]
  },
  {
   "cell_type": "code",
   "execution_count": null,
   "metadata": {},
   "outputs": [],
   "source": [
    "\"\"\"\n",
    "❶ basketball_team 中有 5 个学生的名字。\n",
    "❷ 使用这队学生实例化 TwilightBus。\n",
    "❸ 一个学生从 bus 下车了，接着又有一个学生下车了。 \n",
    "❹ 下车的学生从篮球队中消失了!\n",
    "TwilightBus 违反了设计接口的最佳实践，即“最少惊讶原则”。学生从 校车中下车后，她的名字就从篮球队的名单中消失了，这确实让人惊 讶。\n",
    "\"\"\""
   ]
  },
  {
   "cell_type": "code",
   "execution_count": 74,
   "metadata": {},
   "outputs": [],
   "source": [
    "# 示例 8-15 一个简单的类，说明接受可变参数的风险    8-15 是 TwilightBus 的实现，随后解释了出现这个问题的原因\n",
    "\n",
    "class TwilightBus:\n",
    "    \"\"\"让乘客销声匿迹的校车\"\"\"\n",
    "    \n",
    "    def __init__(self, passengers=None):\n",
    "        if passengers is None:\n",
    "            self.passengers = []                  # 1\n",
    "        else:      \n",
    "            self.passengers = passengers          # 2\n",
    "            \n",
    "    def pick(self, name):\n",
    "        self.passengers.append(name)\n",
    "        \n",
    "    def drop(self, name):\n",
    "        self.passengers.remove(name)              # 3"
   ]
  },
  {
   "cell_type": "code",
   "execution_count": null,
   "metadata": {},
   "outputs": [],
   "source": [
    "\"\"\"\n",
    "❶ 这里谨慎处理，当 passengers 为 None 时，创建一个新的空列表。\n",
    "❷ 然而，这个赋值语句把 self.passengers 变成 passengers 的别 名，而后者是传给 __init__ 方法的实参(即示例 8-14 中的 basketball_team)的别名。\n",
    "❸ 在 self.passengers 上调用 .remove() 和 .append() 方法其实会 修改传给构造方法的那个列表。\n",
    "\n",
    "这里的问题是，校车为传给构造方法的列表创建了别名。正确的做法 是，校车自己维护乘客列表。\n",
    "修正的方法很简单:在 __init__ 中，传 入 passengers 参数时，应该把参数值的副本赋值给 self.passengers，像示例 8-8 中那样做(8.3 节)。\n",
    "\"\"\"\n",
    "def __init__(self, passengers=None): \n",
    "    if passengers is None:\n",
    "        self.passengers = [] \n",
    "    else:\n",
    "        self.passengers = list(passengers)  # 1\n",
    "        \n",
    "# 创建 passengers 列表的副本;如果不是列表，就把它转换成列 表。\n",
    "\"\"\"\n",
    "在内部像这样处理乘客列表，就不会影响初始化校车时传入的参数了。 \n",
    "此外，这种处理方式还更灵活:\n",
    "现在，传给 passengers 参数的值可以 是元组或任何其他可迭代对象，例如 set 对象，甚至数据库查询结果， \n",
    "因为 list 构造方法接受任何可迭代对象。自己创建并管理列表可以确 保支持所需的 .remove() 和 .append() 操作，这样 .pick() 和\n",
    ".drop() 方法才能正常运作。\n",
    "\"\"\""
   ]
  },
  {
   "cell_type": "code",
   "execution_count": null,
   "metadata": {},
   "outputs": [],
   "source": [
    "# 8.5 del 和垃圾回收\n",
    "\"\"\"\n",
    "对象绝不会自行销毁;然而，无法得到对象时，可能会被当作垃圾回收。\n",
    "                              —— Python 语言参考手册中“Data Model”一章\n",
    "del 语句删除名称，而不是对象。del 命令可能会导致对象被当作垃圾 回收，但是仅当删除的变量保存的是对象的最后一个引用，或者无法得 到对象时。\n",
    "重新绑定也可能会导致对象的引用数量归零，导致对象被 销毁。\n",
    "\n",
    "> 如果两个对象相互引用，像示例 8-10 那样，当它们的引用只存在二者之间时，垃圾回收程序 会判定它们都无法获取，进而把它们都销毁。\n",
    "\n",
    "\"\"\"\n",
    "\n",
    "\n",
    "\"\"\"\n",
    "\n",
    "在 CPython 中，垃圾回收使用的主要算法是引用计数。实际上，每个对 象都会统计有多少引用指向自己。当引用计数归零时，对象立即就被销 毁:\n",
    "CPython 会在对象上调用 __del__ 方法(如果定义了)，然后释放 分配给对象的内存。CPython 2.0 增加了分代垃圾回收算法，\n",
    "用于检测 引用循环中涉及的对象组——如果一组对象之间全是相互引用，即使再 出色的引用方式也会导致组中的对象不可获取。\n",
    "Python 的其他实现有更 复杂的垃圾回收程序，而且不依赖引用计数，这意味着，对象的引用数 量为零时可能不会立即调用 __del__ 方法。\n",
    "\n",
    "A. Jesse Jiryu Davis 写 的“PyPy, Garbage Collection, and a Deadlock”一文 \n",
    "(https://emptysqua.re/blog/pypy-garbage-collection-and-a-deadlock/)对 __del__ 方法的恰当用法和不当用法做了讨论。\n",
    "\"\"\""
   ]
  },
  {
   "cell_type": "code",
   "execution_count": 76,
   "metadata": {},
   "outputs": [
    {
     "data": {
      "text/plain": [
       "True"
      ]
     },
     "execution_count": 76,
     "metadata": {},
     "output_type": "execute_result"
    }
   ],
   "source": [
    "# 为了演示对象生命结束时的情形，示例 8-16 使用 weakref.finalize 注册一个回调函数，在销毁对象时调用。\n",
    "# 示例 8-16 没有指向对象的引用时，监视对象生命结束时的情形\n",
    "\n",
    "import weakref\n",
    "s1 = {1, 2, 3}\n",
    "s2 = s1\n",
    "def bye():\n",
    "    print('Gone with the wind...')\n",
    "\n",
    "ender = weakref.finalize(s1, bye)\n",
    "ender.alive"
   ]
  },
  {
   "cell_type": "code",
   "execution_count": 77,
   "metadata": {},
   "outputs": [
    {
     "data": {
      "text/plain": [
       "True"
      ]
     },
     "execution_count": 77,
     "metadata": {},
     "output_type": "execute_result"
    }
   ],
   "source": [
    "del s1\n",
    "ender.alive"
   ]
  },
  {
   "cell_type": "code",
   "execution_count": 78,
   "metadata": {},
   "outputs": [
    {
     "name": "stdout",
     "output_type": "stream",
     "text": [
      "Gone with the wind...\n"
     ]
    }
   ],
   "source": [
    "s2 = 'spam'"
   ]
  },
  {
   "cell_type": "code",
   "execution_count": 79,
   "metadata": {},
   "outputs": [
    {
     "data": {
      "text/plain": [
       "False"
      ]
     },
     "execution_count": 79,
     "metadata": {},
     "output_type": "execute_result"
    }
   ],
   "source": [
    "ender.alive"
   ]
  },
  {
   "cell_type": "code",
   "execution_count": null,
   "metadata": {},
   "outputs": [],
   "source": [
    "# 8.6 弱引用\n",
    "\"\"\"\n",
    "正是因为有引用，对象才会在内存中存在。当对象的引用数量归零后， 垃圾回收程序会把对象销毁。但是，有时需要引用对象，而不让对象存 在的时间超过所需时间。\n",
    "这经常用在缓存中。\n",
    "弱引用不会增加对象的引用数量。引用的目标对象称为所指对象 (referent)。因此我们说，弱引用不会妨碍所指对象被当作垃圾回收。\n",
    "弱引用在缓存应用中很有用，因为我们不想仅因为被缓存引用着而始终 保存缓存对象。\n",
    "\"\"\""
   ]
  },
  {
   "cell_type": "code",
   "execution_count": 80,
   "metadata": {},
   "outputs": [
    {
     "data": {
      "text/plain": [
       "<weakref at 0x7f361bd67138; to 'set' at 0x7f361bd54c88>"
      ]
     },
     "execution_count": 80,
     "metadata": {},
     "output_type": "execute_result"
    }
   ],
   "source": [
    "\"\"\"\n",
    "示例 8-17 展示了如何使用 weakref.ref 实例获取所指对象。如果对象 存在，调用弱引用可以获取对象;否则返回 None。\n",
    "  \n",
    " 示例 8-17 是一个控制台会话，Python 控制台会自动把 _ 变量 绑定到结果不为 None 的表达式结果上。这对我想演示的行为有影 响，\n",
    " 不过却凸显了一个实际问题:微观管理内存时，往往会得到意 外的结果，因为不明显的隐式赋值会为对象创建新引用。控制台中 的 _ 变量是一例。\n",
    " 调用跟踪对象也常导致意料之外的引用。\n",
    "\"\"\"\n",
    "\n",
    "# 示例 8-17 弱引用是可调用的对象，返回的是被引用的对象;如果 所指对象不存在了，返回 None\n",
    "import weakref\n",
    "a_set = {0, 1}\n",
    "wref = weakref.ref(a_set)\n",
    "wref"
   ]
  },
  {
   "cell_type": "code",
   "execution_count": 81,
   "metadata": {},
   "outputs": [
    {
     "data": {
      "text/plain": [
       "{0, 1}"
      ]
     },
     "execution_count": 81,
     "metadata": {},
     "output_type": "execute_result"
    }
   ],
   "source": [
    "wref()"
   ]
  },
  {
   "cell_type": "code",
   "execution_count": 82,
   "metadata": {},
   "outputs": [
    {
     "data": {
      "text/plain": [
       "{0, 1}"
      ]
     },
     "execution_count": 82,
     "metadata": {},
     "output_type": "execute_result"
    }
   ],
   "source": [
    "a_set = {2, 3, 4}\n",
    "wref()"
   ]
  },
  {
   "cell_type": "code",
   "execution_count": 83,
   "metadata": {},
   "outputs": [
    {
     "data": {
      "text/plain": [
       "False"
      ]
     },
     "execution_count": 83,
     "metadata": {},
     "output_type": "execute_result"
    }
   ],
   "source": [
    "wref() is None"
   ]
  },
  {
   "cell_type": "code",
   "execution_count": 85,
   "metadata": {},
   "outputs": [
    {
     "data": {
      "text/plain": [
       "False"
      ]
     },
     "execution_count": 85,
     "metadata": {},
     "output_type": "execute_result"
    }
   ],
   "source": [
    "wref() is None  # True"
   ]
  },
  {
   "cell_type": "code",
   "execution_count": null,
   "metadata": {},
   "outputs": [],
   "source": [
    "\"\"\"\n",
    "本节示例仍然来自于 《流畅的python》一书，此节 8-17 所示例中并未达到实际效果。见 第85行 注释。\n",
    "\n",
    "查明原因不详。猜测是因为编译器的不同。若想达到书中效果。可以使用 python 自带的IDE。ipython 和 jupyter notebook 失败。其他未测\n",
    "\"\"\""
   ]
  },
  {
   "cell_type": "code",
   "execution_count": 92,
   "metadata": {},
   "outputs": [],
   "source": [
    "# 8.6.1 WeakValueDictionary简介\n",
    "\"\"\"\n",
    "WeakValueDictionary 类实现的是一种可变映射，里面的值是对象的 弱引用。\n",
    "被引用的对象在程序中的其他地方被当作垃圾回收后，对应的 键会自动从 WeakValueDictionary 中删除。\n",
    "因 此，WeakValueDictionary 经常用于缓存。\n",
    "\"\"\"\n",
    "\n",
    "# 示例 8-18 Cheese 有个 kind 属性和标准的字符串表示形式\n",
    "class Cheese:\n",
    "    \n",
    "    def __init__(self, kind):\n",
    "        self.kind = kind\n",
    "        \n",
    "    def __repr__(self):\n",
    "        return f'Cheese({self.kind})'"
   ]
  },
  {
   "cell_type": "code",
   "execution_count": 104,
   "metadata": {},
   "outputs": [
    {
     "data": {
      "text/plain": [
       "['Brie', 'Parmesan', 'Red Leicester', 'Tilsit']"
      ]
     },
     "execution_count": 104,
     "metadata": {},
     "output_type": "execute_result"
    }
   ],
   "source": [
    "# 示例 8-19 顾客:“你们店里到底有没有奶酪?”\n",
    "import weakref\n",
    "stock = weakref.WeakValueDictionary()\n",
    "catalog = [Cheese('Red Leicester'), Cheese('Tilsit'), Cheese('Brie'), Cheese('Parmesan')]\n",
    "\n",
    "for cheese in catalog:\n",
    "    stock[cheese.kind] = cheese\n",
    "\n",
    "sorted(stock.keys())"
   ]
  },
  {
   "cell_type": "code",
   "execution_count": 105,
   "metadata": {},
   "outputs": [],
   "source": [
    "del catalog"
   ]
  },
  {
   "cell_type": "code",
   "execution_count": 106,
   "metadata": {},
   "outputs": [
    {
     "data": {
      "text/plain": [
       "['Parmesan']"
      ]
     },
     "execution_count": 106,
     "metadata": {},
     "output_type": "execute_result"
    }
   ],
   "source": [
    "sorted(stock.keys())"
   ]
  },
  {
   "cell_type": "code",
   "execution_count": 107,
   "metadata": {},
   "outputs": [
    {
     "data": {
      "text/plain": [
       "[]"
      ]
     },
     "execution_count": 107,
     "metadata": {},
     "output_type": "execute_result"
    }
   ],
   "source": [
    "del cheese\n",
    "sorted(stock.keys())"
   ]
  },
  {
   "cell_type": "code",
   "execution_count": null,
   "metadata": {},
   "outputs": [],
   "source": [
    "# 20200602 注明，弱引用的使用委实有些看不懂，放弃。哪天见到再说"
   ]
  }
 ],
 "metadata": {
  "kernelspec": {
   "display_name": "Python 3",
   "language": "python",
   "name": "python3"
  },
  "language_info": {
   "codemirror_mode": {
    "name": "ipython",
    "version": 3
   },
   "file_extension": ".py",
   "mimetype": "text/x-python",
   "name": "python",
   "nbconvert_exporter": "python",
   "pygments_lexer": "ipython3",
   "version": "3.7.3"
  }
 },
 "nbformat": 4,
 "nbformat_minor": 4
}
