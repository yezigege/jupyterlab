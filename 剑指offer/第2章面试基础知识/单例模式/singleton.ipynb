{
 "cells": [
  {
   "cell_type": "code",
   "execution_count": 1,
   "metadata": {},
   "outputs": [
    {
     "name": "stdout",
     "output_type": "stream",
     "text": [
      "True\n",
      "139852867089408 139852867089408\n",
      "<class '__main__.MyClass'> <class '__main__.MyClass'>\n"
     ]
    }
   ],
   "source": [
    "\"\"\"\n",
    "面试题2：使用python实现单例模式。\n",
    "\"\"\"\n",
    "# 方法一：使用__new__实现单例模式\n",
    "class SingleTon(object):\n",
    "    \n",
    "    def __new__(cls, *args, **kwargs):\n",
    "        if not hasattr(cls, 'instance'):\n",
    "            cls.instance = super().__new__(cls)\n",
    "        return cls.instance\n",
    "    \n",
    "class MyClass(SingleTon):\n",
    "    class_val = 22\n",
    "    \n",
    "    def __init__(self, val):\n",
    "        self.val = val\n",
    "        \n",
    "    def obj_fun(self):\n",
    "        print(self.val, 'obj_fun')\n",
    "        \n",
    "    @staticmethod\n",
    "    def static_fun():\n",
    "        print('staticmethod')\n",
    "        \n",
    "    @classmethod\n",
    "    def class_fun():\n",
    "        print('classmethod')\n",
    "        \n",
    "\n",
    "if __name__ == '__main__':\n",
    "    a = MyClass(1)\n",
    "    b = MyClass(2)\n",
    "    print(a is b)\n",
    "    print(id(a), id(b))\n",
    "    print(type(a), type(b))\n",
    "    \n",
    "    "
   ]
  },
  {
   "cell_type": "code",
   "execution_count": 21,
   "metadata": {},
   "outputs": [
    {
     "name": "stdout",
     "output_type": "stream",
     "text": [
      "True\n",
      "140051589118832 140051589118832\n",
      "1 1\n",
      "123 123\n"
     ]
    }
   ],
   "source": [
    "# 方法二：使用装饰器实现单例模式\n",
    "from functools import wraps\n",
    "\n",
    "def single_ton(cls):\n",
    "    _instance = {}\n",
    "    \n",
    "    @wraps(cls)\n",
    "    def single(*args, **kwargs):\n",
    "        if cls not in _instance:\n",
    "            _instance[cls] = cls(*args, **kwargs)\n",
    "        return _instance[cls]\n",
    "    return single\n",
    "\n",
    "@single_ton\n",
    "class SingleTon(object):\n",
    "    val = 123\n",
    "    \n",
    "    def __init__(self, a):\n",
    "        self.a = a\n",
    "        \n",
    "\n",
    "if __name__ == '__main__':\n",
    "    s = SingleTon(1)\n",
    "    t = SingleTon(2)\n",
    "    print(s is t)\n",
    "    print(id(s), id(t))\n",
    "    print(s.a, t.a)\n",
    "    print(s.val, t.val)"
   ]
  },
  {
   "cell_type": "code",
   "execution_count": 23,
   "metadata": {},
   "outputs": [
    {
     "ename": "ModuleNotFoundError",
     "evalue": "No module named 'use_module'",
     "output_type": "error",
     "traceback": [
      "\u001b[0;31m---------------------------------------------------------------------------\u001b[0m",
      "\u001b[0;31mModuleNotFoundError\u001b[0m                       Traceback (most recent call last)",
      "\u001b[0;32m<ipython-input-23-66340700cccf>\u001b[0m in \u001b[0;36m<module>\u001b[0;34m\u001b[0m\n\u001b[1;32m     10\u001b[0m \u001b[0;34m\u001b[0m\u001b[0m\n\u001b[1;32m     11\u001b[0m \u001b[0;31m# test_module.py\u001b[0m\u001b[0;34m\u001b[0m\u001b[0;34m\u001b[0m\u001b[0;34m\u001b[0m\u001b[0m\n\u001b[0;32m---> 12\u001b[0;31m \u001b[0;32mfrom\u001b[0m \u001b[0muse_module\u001b[0m \u001b[0;32mimport\u001b[0m \u001b[0msingle\u001b[0m\u001b[0;34m\u001b[0m\u001b[0;34m\u001b[0m\u001b[0m\n\u001b[0m\u001b[1;32m     13\u001b[0m \u001b[0;34m\u001b[0m\u001b[0m\n\u001b[1;32m     14\u001b[0m \u001b[0ma\u001b[0m \u001b[0;34m=\u001b[0m \u001b[0msingle\u001b[0m\u001b[0;34m\u001b[0m\u001b[0;34m\u001b[0m\u001b[0m\n",
      "\u001b[0;31mModuleNotFoundError\u001b[0m: No module named 'use_module'"
     ]
    }
   ],
   "source": [
    "# 方法三：使用模块实现单例模式\n",
    "# use_module.py\n",
    "class SingleTon(object):\n",
    "    \n",
    "    def __init__(self, val):\n",
    "        self.val = val\n",
    "    \n",
    "    \n",
    "single = SingleTon(2)\n",
    "\n",
    "# test_module.py\n",
    "from use_module import single\n",
    "\n",
    "a = single\n",
    "b = single\n",
    "print(a.val, b.val)\n",
    "print(a is b)\n",
    "a.val = 123\n",
    "pirnt(a.val, b.val)"
   ]
  },
  {
   "cell_type": "code",
   "execution_count": 36,
   "metadata": {},
   "outputs": [
    {
     "name": "stdout",
     "output_type": "stream",
     "text": [
      "{'__module__': '__main__', '__dict__': <attribute '__dict__' of 'Foo' objects>, '__weakref__': <attribute '__weakref__' of 'Foo' objects>, '__doc__': None, '_instance': <__main__.Foo object at 0x7f604d2ddb70>}\n",
      "True\n"
     ]
    }
   ],
   "source": [
    "# 方法四：使用元类metaclass\n",
    "class Singleton(type):\n",
    "    \n",
    "    def __call__(cls, *args, **kwargs):\n",
    "        if not hasattr(cls, '_instance'):\n",
    "            cls._instance = super().__call__(*args, **kwargs)\n",
    "        return cls._instance\n",
    "    \n",
    "class Foo(metaclass = Singleton):\n",
    "    pass\n",
    "\n",
    "foo1 = Foo()\n",
    "foo2 = Foo()\n",
    "print (Foo.__dict__)\n",
    "print (foo1 is foo2)"
   ]
  },
  {
   "cell_type": "code",
   "execution_count": null,
   "metadata": {},
   "outputs": [],
   "source": []
  }
 ],
 "metadata": {
  "kernelspec": {
   "display_name": "Python 3",
   "language": "python",
   "name": "python3"
  },
  "language_info": {
   "codemirror_mode": {
    "name": "ipython",
    "version": 3
   },
   "file_extension": ".py",
   "mimetype": "text/x-python",
   "name": "python",
   "nbconvert_exporter": "python",
   "pygments_lexer": "ipython3",
   "version": "3.7.3"
  }
 },
 "nbformat": 4,
 "nbformat_minor": 4
}
