{
 "cells": [
  {
   "cell_type": "code",
   "execution_count": 1,
   "metadata": {},
   "outputs": [
    {
     "name": "stdout",
     "output_type": "stream",
     "text": [
      "pivot===> 3, nums[i]====> 1\n",
      "pivot===> 3, nums[i]====> 2\n",
      "pivot===> 3, nums[i]====> 0\n",
      "index====> 3, target====> 5, nums====> [0, 1, 2, 3, 4, 6, 7, 8, 5, 9]\n",
      "pivot===> 7, nums[i]====> 6\n",
      "pivot===> 7, nums[i]====> 4\n",
      "pivot===> 7, nums[i]====> 5\n",
      "index====> 7, target====> 5, nums====> [0, 1, 2, 3, 5, 6, 4, 7, 8, 9]\n",
      "pivot===> 5, nums[i]====> 4\n",
      "index====> 5, target====> 5, nums====> [0, 1, 2, 3, 4, 5, 6, 7, 8, 9]\n",
      "5\n",
      "====================================================================================================\n",
      "5\n"
     ]
    }
   ],
   "source": [
    "\"\"\"\n",
    "数组中第 K 大的数\n",
    "题目地址：\n",
    "题目解析地址：https://leetcode-cn.com/problems/kth-largest-element-in-an-array/solution/partitionfen-er-zhi-zhi-you-xian-dui-lie-java-dai-/\n",
    "\n",
    "主要方法：\n",
    "    1. 快排中的分治，选中的数左边都比这个数小，右边都比这个数大。\n",
    "    2. 维护一个 K 个大小的小顶堆\n",
    "\"\"\"\n",
    "import random\n",
    "\n",
    "\n",
    "class Solution:\n",
    "    def findKthLargest(self, nums, k):  # (self, nums: List[int], k: int) -> int:\n",
    "        size = len(nums)\n",
    "        \n",
    "        target = size - k        # 第 K 大，即 nums[-k], 就是 nums[target]\n",
    "        left, right = 0, size - 1\n",
    "        while True:\n",
    "            index = self.__partition(nums, left, right)\n",
    "            print(f\"index====> {index}, target====> {target}, nums====> {nums}\")\n",
    "            if index == target:\n",
    "                return nums[index]\n",
    "            elif index < target:\n",
    "                left = index + 1\n",
    "            else:\n",
    "                right = index - 1\n",
    "    \n",
    "    def __partition(self, nums, left, right):\n",
    "        random_index = random.randint(left, right)  # randint 是闭区间\n",
    "        nums[random_index], nums[left] = nums[left], nums[random_index]\n",
    "        \n",
    "        pivot = nums[left]\n",
    "        j = left\n",
    "        for i in range(left + 1, right + 1):\n",
    "            if nums[i] < pivot:  # 通过大小比较，进行位置交换，使得 索引 j 以前的数, 即 left + 1, j 都不比 pivot 大\n",
    "                print(f\"pivot===> {pivot}, nums[i]====> {nums[i]}\")\n",
    "                j += 1\n",
    "                nums[i], nums[j] = nums[j], nums[i]\n",
    "\n",
    "        nums[left], nums[j] = nums[j], nums[left]\n",
    "        return j\n",
    "\n",
    "\n",
    "class Solution2:  # 小顶堆\n",
    "    def findKthLargest(self, nums, k):  # (self, nums: List[int], k: int) -> int:\n",
    "        import heapq\n",
    "        heap = []\n",
    "        heapq.heapify(heap)\n",
    "        for num in nums:\n",
    "            heapq.heappush(heap, num)\n",
    "            if len(heap) > k:\n",
    "                heapq.heappop(heap)\n",
    "        return heap[0]\n",
    "\n",
    "if __name__ == '__main__':\n",
    "    solution = Solution()\n",
    "    nums = [2, 5, 8, 1, 4, 6, 7, 3, 0, 9]\n",
    "    res = solution.findKthLargest(nums, 5)\n",
    "    print(res)\n",
    "    print(\"=\" * 100)\n",
    "    solution2 = Solution2()\n",
    "    res2 = solution2.findKthLargest(nums, 5)\n",
    "    print(res2)"
   ]
  },
  {
   "cell_type": "code",
   "execution_count": 6,
   "metadata": {},
   "outputs": [
    {
     "name": "stdout",
     "output_type": "stream",
     "text": [
      "b=====> [0, 0, 1, 1, 0, 1]\n",
      "101100"
     ]
    }
   ],
   "source": [
    "\"\"\"\n",
    "任意进制转换\n",
    "\"\"\"\n",
    "def func(n, x):\n",
    "    a = [0,1,2,3,4,5,6,7,8,9,'A','b','C','D','E','F']\n",
    "    b = []\n",
    "    while True:\n",
    "        s = n // x  # 商\n",
    "        y = n % x  # 余数\n",
    "        b = b + [y]\n",
    "        if s == 0:\n",
    "            break\n",
    "        n = s\n",
    "    print(f\"b=====> {b}\")\n",
    "    b.reverse()\n",
    "    for i in b:\n",
    "        print(a[i], end ='')\n",
    "        \n",
    "func(44, 2)"
   ]
  },
  {
   "cell_type": "code",
   "execution_count": null,
   "metadata": {},
   "outputs": [],
   "source": []
  }
 ],
 "metadata": {
  "kernelspec": {
   "display_name": "Python 3",
   "language": "python",
   "name": "python3"
  },
  "language_info": {
   "codemirror_mode": {
    "name": "ipython",
    "version": 3
   },
   "file_extension": ".py",
   "mimetype": "text/x-python",
   "name": "python",
   "nbconvert_exporter": "python",
   "pygments_lexer": "ipython3",
   "version": "3.7.3"
  }
 },
 "nbformat": 4,
 "nbformat_minor": 4
}
