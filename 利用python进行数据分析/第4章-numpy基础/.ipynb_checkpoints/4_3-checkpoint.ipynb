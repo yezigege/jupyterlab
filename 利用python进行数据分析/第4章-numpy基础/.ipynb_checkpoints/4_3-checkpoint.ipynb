{
 "cells": [
  {
   "cell_type": "code",
   "execution_count": 1,
   "metadata": {},
   "outputs": [
    {
     "data": {
      "text/plain": [
       "'\\n使用NumPy数组可以使你利用简单的数组表达式完成多种数据操作任务，\\n而无须写些大量循环。这种利用数组表达式来替代显式循环的方法，称为向量化\\n\\n向量化的数组操作会比纯Python的等价实现在速度上快一到两个数量级（甚至更多）\\n'"
      ]
     },
     "execution_count": 1,
     "metadata": {},
     "output_type": "execute_result"
    }
   ],
   "source": [
    "# 4.3 使用数组进行面向数组编程\n",
    "\n",
    "\"\"\"\n",
    "使用NumPy数组可以使你利用简单的数组表达式完成多种数据操作任务，\n",
    "而无须写些大量循环。这种利用数组表达式来替代显式循环的方法，称为向量化\n",
    "\n",
    "向量化的数组操作会比纯Python的等价实现在速度上快一到两个数量级（甚至更多）\n",
    "\"\"\""
   ]
  },
  {
   "cell_type": "code",
   "execution_count": 3,
   "metadata": {},
   "outputs": [
    {
     "data": {
      "text/plain": [
       "array([[-5.  , -5.  , -5.  , ..., -5.  , -5.  , -5.  ],\n",
       "       [-4.99, -4.99, -4.99, ..., -4.99, -4.99, -4.99],\n",
       "       [-4.98, -4.98, -4.98, ..., -4.98, -4.98, -4.98],\n",
       "       ...,\n",
       "       [ 4.97,  4.97,  4.97, ...,  4.97,  4.97,  4.97],\n",
       "       [ 4.98,  4.98,  4.98, ...,  4.98,  4.98,  4.98],\n",
       "       [ 4.99,  4.99,  4.99, ...,  4.99,  4.99,  4.99]])"
      ]
     },
     "execution_count": 3,
     "metadata": {},
     "output_type": "execute_result"
    }
   ],
   "source": [
    "\"\"\"\n",
    "作为一个简单的示例，假设我们想要对一些网格数据来\n",
    "计算函数sqrt(x^2+ y^2)的值。np.meshgrid函数接收两个一维数组，\n",
    "并根据两个数组的所有(x, y)对生成一个二维矩阵\n",
    "\"\"\"\n",
    "import numpy as np\n",
    "points = np.arange(-5, 5, 0.01)  # 1000 equally spaced points\n",
    "xs, ys = np.meshgrid(points, points)\n",
    "ys"
   ]
  },
  {
   "cell_type": "code",
   "execution_count": 4,
   "metadata": {},
   "outputs": [
    {
     "data": {
      "text/plain": [
       "array([[7.07106781, 7.06400028, 7.05693985, ..., 7.04988652, 7.05693985,\n",
       "        7.06400028],\n",
       "       [7.06400028, 7.05692568, 7.04985815, ..., 7.04279774, 7.04985815,\n",
       "        7.05692568],\n",
       "       [7.05693985, 7.04985815, 7.04278354, ..., 7.03571603, 7.04278354,\n",
       "        7.04985815],\n",
       "       ...,\n",
       "       [7.04988652, 7.04279774, 7.03571603, ..., 7.0286414 , 7.03571603,\n",
       "        7.04279774],\n",
       "       [7.05693985, 7.04985815, 7.04278354, ..., 7.03571603, 7.04278354,\n",
       "        7.04985815],\n",
       "       [7.06400028, 7.05692568, 7.04985815, ..., 7.04279774, 7.04985815,\n",
       "        7.05692568]])"
      ]
     },
     "execution_count": 4,
     "metadata": {},
     "output_type": "execute_result"
    }
   ],
   "source": [
    "# 现在，你可以用和两个坐标值同样的表达式来使用函数\n",
    "z = np.sqrt(xs ** 2 + ys ** 2)\n",
    "z"
   ]
  },
  {
   "cell_type": "code",
   "execution_count": 13,
   "metadata": {},
   "outputs": [
    {
     "data": {
      "text/plain": [
       "Text(0.5, 1.0, 'Image plot of $\\\\sqrt{x^2 + y^2}$ for a grid of values')"
      ]
     },
     "execution_count": 13,
     "metadata": {},
     "output_type": "execute_result"
    },
    {
     "data": {
      "image/png": "[encoded data removed]",
      "text/plain": [
       "<Figure size 432x288 with 2 Axes>"
      ]
     },
     "metadata": {
      "needs_background": "light"
     },
     "output_type": "display_data"
    }
   ],
   "source": [
    "\"\"\"作为第9章的前瞻，我使用matplotlib来生成这个二维数组的可视化\"\"\"\n",
    "import matplotlib.pyplot as plt\n",
    "plt.imshow(z, cmap=plt.cm.gray); plt.colorbar()\n",
    "plt.title(\"Image plot of $\\sqrt{x^2 + y^2}$ for a grid of values\")"
   ]
  },
  {
   "cell_type": "code",
   "execution_count": 7,
   "metadata": {},
   "outputs": [],
   "source": [
    "# 4.3.1 讲条件逻辑作为数组操作\n",
    "\"\"\"\n",
    "numpy.where 函数是三元表达式 x if conition else y 的向量化版本\n",
    "\n",
    "假设我们有一个布尔值数组和两个数值数组\n",
    "\"\"\"\n",
    "xarr = np.array([1.1, 1.2, 1.3, 1.4, 1.5])\n",
    "yarr = np.array([2.1, 2.2, 2.3, 2.4, 2.5])\n",
    "cond = np.array([True, False , True, True, False])"
   ]
  },
  {
   "cell_type": "code",
   "execution_count": 8,
   "metadata": {},
   "outputs": [
    {
     "data": {
      "text/plain": [
       "[1.1, 2.2, 1.3, 1.4, 2.5]"
      ]
     },
     "execution_count": 8,
     "metadata": {},
     "output_type": "execute_result"
    }
   ],
   "source": [
    "\"\"\"\n",
    "假设cond中的元素为True时，我们取xarr中的对应元素值，否则取yarr中的元素。\n",
    "我们可以通过列表推导式来完成，像下列代码这样\n",
    "\"\"\"\n",
    "result = [(x if c else y) for x, y, c in zip(xarr, yarr, cond)]\n",
    "result"
   ]
  },
  {
   "cell_type": "code",
   "execution_count": 9,
   "metadata": {},
   "outputs": [
    {
     "data": {
      "text/plain": [
       "array([1.1, 2.2, 1.3, 1.4, 2.5])"
      ]
     },
     "execution_count": 9,
     "metadata": {},
     "output_type": "execute_result"
    }
   ],
   "source": [
    "result2 = np.where(cond, xarr, yarr)\n",
    "result2"
   ]
  },
  {
   "cell_type": "code",
   "execution_count": 10,
   "metadata": {},
   "outputs": [
    {
     "data": {
      "text/plain": [
       "array([[ 1.60271373,  0.25900874,  0.77654291, -1.84464818],\n",
       "       [ 0.2773176 , -0.25795486,  0.27357798, -0.92921519],\n",
       "       [-2.22781359, -0.51543601,  0.67213326, -1.21961649],\n",
       "       [ 1.02349296, -0.48701036, -0.05142164, -0.33726429]])"
      ]
     },
     "execution_count": 10,
     "metadata": {},
     "output_type": "execute_result"
    }
   ],
   "source": [
    "\"\"\"\n",
    "np.where的第二个和第三个参数并不需要是数组，它们可以是标量。\n",
    "where在数据分析中的一个典型用法是根据一个数组来生成一个新的数组。\n",
    "\n",
    "假设你有一个随机生成的矩阵数据，并且你想将其中的正值都替换为2，\n",
    "将所有的负值替换为-2，使用np.where会很容易实现\n",
    "\"\"\"\n",
    "\n",
    "arr1 = np.random.randn(4, 4)\n",
    "arr1"
   ]
  },
  {
   "cell_type": "code",
   "execution_count": 14,
   "metadata": {},
   "outputs": [
    {
     "data": {
      "text/plain": [
       "array([[ True,  True,  True, False],\n",
       "       [ True, False,  True, False],\n",
       "       [False, False,  True, False],\n",
       "       [ True, False, False, False]])"
      ]
     },
     "execution_count": 14,
     "metadata": {},
     "output_type": "execute_result"
    }
   ],
   "source": [
    "arr1 > 0"
   ]
  },
  {
   "cell_type": "code",
   "execution_count": 16,
   "metadata": {},
   "outputs": [
    {
     "data": {
      "text/plain": [
       "array([[ 2,  2,  2, -2],\n",
       "       [ 2, -2,  2, -2],\n",
       "       [-2, -2,  2, -2],\n",
       "       [ 2, -2, -2, -2]])"
      ]
     },
     "execution_count": 16,
     "metadata": {},
     "output_type": "execute_result"
    }
   ],
   "source": [
    "np.where(arr1 > 0, 2, -2)"
   ]
  },
  {
   "cell_type": "code",
   "execution_count": 17,
   "metadata": {},
   "outputs": [
    {
     "data": {
      "text/plain": [
       "array([[ 2.        ,  2.        ,  2.        , -1.84464818],\n",
       "       [ 2.        , -0.25795486,  2.        , -0.92921519],\n",
       "       [-2.22781359, -0.51543601,  2.        , -1.21961649],\n",
       "       [ 2.        , -0.48701036, -0.05142164, -0.33726429]])"
      ]
     },
     "execution_count": 17,
     "metadata": {},
     "output_type": "execute_result"
    }
   ],
   "source": [
    "\"\"\"\n",
    "你可以使用np.where将标量和数组联合，\n",
    "\n",
    "例如，我可以像下面的代码那样将arr中的所有正值替换为常数2\n",
    "\"\"\"\n",
    "np.where(arr1 > 0, 2, arr1)  # 仅将正值设为2"
   ]
  },
  {
   "cell_type": "code",
   "execution_count": 18,
   "metadata": {},
   "outputs": [
    {
     "data": {
      "text/plain": [
       "array([[ 1.78019749, -0.28371661,  1.70646917, -1.32368868],\n",
       "       [-0.13869511,  1.29544707,  1.39393593,  0.03065527],\n",
       "       [ 1.48909743,  0.08187184,  1.27840964, -0.624601  ],\n",
       "       [-0.72206015,  0.03187536,  1.42922689, -0.245858  ],\n",
       "       [ 0.86436098,  0.29483366, -0.80599992,  0.05402205]])"
      ]
     },
     "execution_count": 18,
     "metadata": {},
     "output_type": "execute_result"
    }
   ],
   "source": [
    "# 4.3.2 数学和统计方法\n",
    "\n",
    "\"\"\"\n",
    "许多关于计算整个数组统计值或关于轴向数据的数学函数，\n",
    "可以作为数组类型的方法被调用。\n",
    "你可以使用聚合函数（通常也叫缩减函数），比如sum、mean(平均数)和std（标准差），\n",
    "既可以直接调用数组实例的方法，也可以使用顶层的NumPy函数\n",
    "\n",
    "\n",
    "此处我生成了一些正态分布的随机数，并计算了部分聚合统计数据\n",
    "\"\"\"\n",
    "arr2 = np.random.randn(5, 4)\n",
    "arr2"
   ]
  },
  {
   "cell_type": "code",
   "execution_count": 19,
   "metadata": {},
   "outputs": [
    {
     "data": {
      "text/plain": [
       "0.37928916455060235"
      ]
     },
     "execution_count": 19,
     "metadata": {},
     "output_type": "execute_result"
    }
   ],
   "source": [
    "arr2.mean()"
   ]
  },
  {
   "cell_type": "code",
   "execution_count": 20,
   "metadata": {},
   "outputs": [
    {
     "data": {
      "text/plain": [
       "0.37928916455060235"
      ]
     },
     "execution_count": 20,
     "metadata": {},
     "output_type": "execute_result"
    }
   ],
   "source": [
    "np.mean(arr2)"
   ]
  },
  {
   "cell_type": "code",
   "execution_count": 21,
   "metadata": {},
   "outputs": [
    {
     "data": {
      "text/plain": [
       "7.5857832910120475"
      ]
     },
     "execution_count": 21,
     "metadata": {},
     "output_type": "execute_result"
    }
   ],
   "source": [
    "arr2.sum()"
   ]
  },
  {
   "cell_type": "code",
   "execution_count": 22,
   "metadata": {},
   "outputs": [
    {
     "data": {
      "text/plain": [
       "7.5857832910120475"
      ]
     },
     "execution_count": 22,
     "metadata": {},
     "output_type": "execute_result"
    }
   ],
   "source": [
    "np.sum(arr2)"
   ]
  },
  {
   "cell_type": "code",
   "execution_count": 23,
   "metadata": {},
   "outputs": [
    {
     "data": {
      "text/plain": [
       "array([0.46981534, 0.64533579, 0.55619448, 0.12329602, 0.10180419])"
      ]
     },
     "execution_count": 23,
     "metadata": {},
     "output_type": "execute_result"
    }
   ],
   "source": [
    "\"\"\"\n",
    "像mean、sum等函数可以接收一个可选参数axis，\n",
    "这个参数可以用于计算给定轴向上的统计值，\n",
    "形成一个下降一维度的数组\n",
    "\"\"\"\n",
    "arr2.mean(axis=1)  # arr.mean(1)表示“计算每一列的平均值”"
   ]
  },
  {
   "cell_type": "code",
   "execution_count": 27,
   "metadata": {},
   "outputs": [
    {
     "data": {
      "text/plain": [
       "array([ 3.27290064,  1.42031131,  5.0020417 , -2.10947036])"
      ]
     },
     "execution_count": 27,
     "metadata": {},
     "output_type": "execute_result"
    }
   ],
   "source": [
    "arr2.sum(axis=0)  # arr.sum(0)表示“计算行轴向的累和”"
   ]
  },
  {
   "cell_type": "code",
   "execution_count": 28,
   "metadata": {},
   "outputs": [
    {
     "data": {
      "text/plain": [
       "array([ 0,  1,  3,  6, 10, 15, 21, 28])"
      ]
     },
     "execution_count": 28,
     "metadata": {},
     "output_type": "execute_result"
    }
   ],
   "source": [
    "\"\"\"其他的方法，例如cumsum和cumprod并不会聚合，它们会产生一个中间结果\"\"\"\n",
    "arr3 = np.array([0, 1, 2, 3, 4, 5, 6, 7])\n",
    "arr3.cumsum()  # 计算各行的累加值"
   ]
  },
  {
   "cell_type": "code",
   "execution_count": 29,
   "metadata": {},
   "outputs": [
    {
     "data": {
      "text/plain": [
       "array([0, 0, 0, 0, 0, 0, 0, 0])"
      ]
     },
     "execution_count": 29,
     "metadata": {},
     "output_type": "execute_result"
    }
   ],
   "source": [
    "arr3.cumprod()"
   ]
  },
  {
   "cell_type": "code",
   "execution_count": 31,
   "metadata": {},
   "outputs": [
    {
     "data": {
      "text/plain": [
       "array([[0, 1, 2],\n",
       "       [3, 4, 5],\n",
       "       [6, 7, 8]])"
      ]
     },
     "execution_count": 31,
     "metadata": {},
     "output_type": "execute_result"
    }
   ],
   "source": [
    "\"\"\"\n",
    "在多维数组中，像cumsum这样的累积函数返回相同长度的数组，\n",
    "但是可以在指定轴向上根据较低维度的切片进行部分聚合\n",
    "\"\"\"\n",
    "arr4 = np.array([[0, 1, 2], [3, 4, 5], [6, 7, 8]])\n",
    "arr4"
   ]
  },
  {
   "cell_type": "code",
   "execution_count": 34,
   "metadata": {},
   "outputs": [
    {
     "data": {
      "text/plain": [
       "array([[0, 1, 2],\n",
       "       [3, 4, 5],\n",
       "       [6, 7, 8]])"
      ]
     },
     "execution_count": 34,
     "metadata": {},
     "output_type": "execute_result"
    }
   ],
   "source": [
    "arr5 = np.arange(9).reshape(3, 3)\n",
    "arr5"
   ]
  },
  {
   "cell_type": "code",
   "execution_count": 38,
   "metadata": {},
   "outputs": [
    {
     "data": {
      "text/plain": [
       "array([[ 0,  1,  2],\n",
       "       [ 3,  5,  7],\n",
       "       [ 9, 12, 15]])"
      ]
     },
     "execution_count": 38,
     "metadata": {},
     "output_type": "execute_result"
    }
   ],
   "source": [
    "arr4.cumsum(axis=0)  # 计算各列的累加值"
   ]
  },
  {
   "cell_type": "code",
   "execution_count": 41,
   "metadata": {},
   "outputs": [
    {
     "data": {
      "text/plain": [
       "array([[  0,   0,   0],\n",
       "       [  3,  12,  60],\n",
       "       [  6,  42, 336]])"
      ]
     },
     "execution_count": 41,
     "metadata": {},
     "output_type": "execute_result"
    }
   ],
   "source": [
    "arr4.cumprod(axis=1)  # 计算各行的累加值"
   ]
  },
  {
   "cell_type": "code",
   "execution_count": 42,
   "metadata": {},
   "outputs": [
    {
     "data": {
      "text/plain": [
       "'\\n               基础数据统计方法\\nsum               沿着轴向计算所有元素的类和，0长度的数组，累和为0\\nmean              数学平均，0 长度的数组平均值为 NaN\\nstd，var          标准差和方差，可以选择自由度调整(默认分母是n)\\nmin，max          最小值和最大值\\nargmin, argmax    最小值和最大值的位置\\ncumsum            从0开始元素累加和\\ncumprod           从1开始元素累加积\\n'"
      ]
     },
     "execution_count": 42,
     "metadata": {},
     "output_type": "execute_result"
    }
   ],
   "source": [
    "\"\"\"\n",
    "               基础数据统计方法\n",
    "sum               沿着轴向计算所有元素的类和，0长度的数组，累和为0\n",
    "mean              数学平均，0 长度的数组平均值为 NaN\n",
    "std，var          标准差和方差，可以选择自由度调整(默认分母是n)\n",
    "min，max          最小值和最大值\n",
    "argmin, argmax    最小值和最大值的位置\n",
    "cumsum            从0开始元素累加和\n",
    "cumprod           从1开始元素累加积\n",
    "\"\"\""
   ]
  },
  {
   "cell_type": "code",
   "execution_count": 43,
   "metadata": {},
   "outputs": [
    {
     "data": {
      "text/plain": [
       "50"
      ]
     },
     "execution_count": 43,
     "metadata": {},
     "output_type": "execute_result"
    }
   ],
   "source": [
    "# 4.3.3 布尔值数组的方法\n",
    "\"\"\"\n",
    "在前面介绍的方法，布尔值会被强制为1（True）和0（False）。\n",
    "\n",
    "因此，sum通常可以用于计算布尔值数组中的True的个数\n",
    "\"\"\"\n",
    "arr6 = np.random.randn(100)  # randn函数返回一个或一组样本，具有标准正态分布\n",
    "(arr6 > 0).sum()  # 正值的个数"
   ]
  },
  {
   "cell_type": "code",
   "execution_count": 44,
   "metadata": {},
   "outputs": [
    {
     "data": {
      "text/plain": [
       "True"
      ]
     },
     "execution_count": 44,
     "metadata": {},
     "output_type": "execute_result"
    }
   ],
   "source": [
    "\"\"\"\n",
    "对于布尔值数组，有两个非常有用的方法any和all。\n",
    "any检查数组中是否至少有一个True，而all检查是否每个值都是True\n",
    "\"\"\"\n",
    "bools = np.array([False, False, True, False])\n",
    "bools.any()"
   ]
  },
  {
   "cell_type": "code",
   "execution_count": 45,
   "metadata": {},
   "outputs": [
    {
     "data": {
      "text/plain": [
       "False"
      ]
     },
     "execution_count": 45,
     "metadata": {},
     "output_type": "execute_result"
    }
   ],
   "source": [
    "bools.all()"
   ]
  },
  {
   "cell_type": "code",
   "execution_count": 46,
   "metadata": {},
   "outputs": [
    {
     "data": {
      "text/plain": [
       "True"
      ]
     },
     "execution_count": 46,
     "metadata": {},
     "output_type": "execute_result"
    }
   ],
   "source": [
    "\"\"\"这些方法也可适用于非布尔值数组，所有的非0元素都会按True处理\"\"\"\n",
    "arr6.any()"
   ]
  },
  {
   "cell_type": "code",
   "execution_count": 47,
   "metadata": {},
   "outputs": [
    {
     "data": {
      "text/plain": [
       "array([ 1.33841983,  1.67642585,  0.89840285, -0.64697979, -0.66025058,\n",
       "        0.35622833])"
      ]
     },
     "execution_count": 47,
     "metadata": {},
     "output_type": "execute_result"
    }
   ],
   "source": [
    "# 4.3.4 排序\n",
    "\"\"\"\n",
    "和 Python 的内建列表类型相似，NumPy数组可以使用sort方法按位置排序\n",
    "\"\"\"\n",
    "arr7 = np.random.randn(6)\n",
    "arr7"
   ]
  },
  {
   "cell_type": "code",
   "execution_count": 49,
   "metadata": {},
   "outputs": [
    {
     "data": {
      "text/plain": [
       "array([-0.66025058, -0.64697979,  0.35622833,  0.89840285,  1.33841983,\n",
       "        1.67642585])"
      ]
     },
     "execution_count": 49,
     "metadata": {},
     "output_type": "execute_result"
    }
   ],
   "source": [
    "arr7.sort()\n",
    "arr7"
   ]
  },
  {
   "cell_type": "code",
   "execution_count": 50,
   "metadata": {},
   "outputs": [
    {
     "data": {
      "text/plain": [
       "array([[-0.54211228,  0.08971978,  0.93665384],\n",
       "       [ 1.21916881, -0.00863351, -0.13209359],\n",
       "       [-0.68998622,  0.27564504, -0.57727388],\n",
       "       [ 0.24573261,  2.02597791,  2.12143611],\n",
       "       [ 1.77149471,  1.11958906,  1.44296566]])"
      ]
     },
     "execution_count": 50,
     "metadata": {},
     "output_type": "execute_result"
    }
   ],
   "source": [
    "arr8 = np.random.randn(5, 3)\n",
    "arr8"
   ]
  },
  {
   "cell_type": "code",
   "execution_count": 51,
   "metadata": {},
   "outputs": [],
   "source": [
    "\"\"\"\n",
    "可以在多维数组中根据传递的axis值，沿着轴向对每个一维数据段进行排序\n",
    "\"\"\"\n",
    "arr8.sort(1)"
   ]
  },
  {
   "cell_type": "code",
   "execution_count": 52,
   "metadata": {},
   "outputs": [
    {
     "data": {
      "text/plain": [
       "array([[-0.54211228,  0.08971978,  0.93665384],\n",
       "       [-0.13209359, -0.00863351,  1.21916881],\n",
       "       [-0.68998622, -0.57727388,  0.27564504],\n",
       "       [ 0.24573261,  2.02597791,  2.12143611],\n",
       "       [ 1.11958906,  1.44296566,  1.77149471]])"
      ]
     },
     "execution_count": 52,
     "metadata": {},
     "output_type": "execute_result"
    }
   ],
   "source": [
    "arr8"
   ]
  },
  {
   "cell_type": "code",
   "execution_count": 57,
   "metadata": {},
   "outputs": [],
   "source": [
    "arr8.sort(1)"
   ]
  },
  {
   "cell_type": "code",
   "execution_count": 58,
   "metadata": {},
   "outputs": [
    {
     "data": {
      "text/plain": [
       "array([[-0.68998622, -0.57727388,  0.27564504],\n",
       "       [-0.54211228, -0.00863351,  0.93665384],\n",
       "       [-0.13209359,  0.08971978,  1.21916881],\n",
       "       [ 0.24573261,  1.44296566,  1.77149471],\n",
       "       [ 1.11958906,  2.02597791,  2.12143611]])"
      ]
     },
     "execution_count": 58,
     "metadata": {},
     "output_type": "execute_result"
    }
   ],
   "source": [
    "arr8"
   ]
  },
  {
   "cell_type": "code",
   "execution_count": 59,
   "metadata": {},
   "outputs": [
    {
     "data": {
      "text/plain": [
       "-1.6264945273605005"
      ]
     },
     "execution_count": 59,
     "metadata": {},
     "output_type": "execute_result"
    }
   ],
   "source": [
    "\"\"\"\n",
    "顶层的np.sort方法返回的是已经排序好的数组拷贝，\n",
    "而不是对原数组按位置排序。\n",
    "\n",
    "下面的例子计算的是一个数组的分位数，并选出分位数所对应的值，\n",
    "这是一种应急的方式\n",
    "\"\"\"\n",
    "large_arr = np.random.randn(1000)\n",
    "large_arr.sort()\n",
    "large_arr[int(0.05 * len(large_arr))]  # 5% quantile 分位数"
   ]
  },
  {
   "cell_type": "code",
   "execution_count": 60,
   "metadata": {},
   "outputs": [
    {
     "data": {
      "text/plain": [
       "array(['Bob', 'Joe', 'Will'], dtype='<U4')"
      ]
     },
     "execution_count": 60,
     "metadata": {},
     "output_type": "execute_result"
    }
   ],
   "source": [
    "# 4.3.5 唯一值与其他集合逻辑\n",
    "\"\"\"\n",
    "NumPy包含一些针对一维ndarray的基础集合操作。\n",
    "常用的一个方法是np.unique，返回的是数组中唯一值排序后形成的数组\n",
    "\"\"\"\n",
    "names = np.array(['Bob', 'Joe', 'Will', 'Bob', 'Will', 'Joe', 'Joe'])\n",
    "np.unique(names)"
   ]
  },
  {
   "cell_type": "code",
   "execution_count": 61,
   "metadata": {},
   "outputs": [
    {
     "data": {
      "text/plain": [
       "array([1, 2, 3, 4])"
      ]
     },
     "execution_count": 61,
     "metadata": {},
     "output_type": "execute_result"
    }
   ],
   "source": [
    "ints = np.array([3, 3, 3, 2, 2, 1, 1, 4, 4])\n",
    "np.unique(ints)  # 有 去重 的感觉"
   ]
  },
  {
   "cell_type": "code",
   "execution_count": 62,
   "metadata": {},
   "outputs": [
    {
     "data": {
      "text/plain": [
       "['Bob', 'Joe', 'Will']"
      ]
     },
     "execution_count": 62,
     "metadata": {},
     "output_type": "execute_result"
    }
   ],
   "source": [
    "sorted(set(names))  # 将np.unique和纯Python实现相比较"
   ]
  },
  {
   "cell_type": "code",
   "execution_count": 64,
   "metadata": {},
   "outputs": [
    {
     "data": {
      "text/plain": [
       "array([ True, False, False,  True,  True, False,  True])"
      ]
     },
     "execution_count": 64,
     "metadata": {},
     "output_type": "execute_result"
    }
   ],
   "source": [
    "\"\"\"\n",
    "另一个函数，np.in1d，可以检查一个数组中的值是否在另外一个数组中，\n",
    "并返回一个布尔值数组\n",
    "\"\"\"\n",
    "values = np.array([6, 0, 0, 3, 2, 5, 6])\n",
    "np.in1d(values, [2, 3, 6])"
   ]
  },
  {
   "cell_type": "code",
   "execution_count": null,
   "metadata": {},
   "outputs": [],
   "source": [
    "\"\"\"\n",
    "        数组的集合操作\n",
    "unique(x)          计算 x 的唯一值，并排序\n",
    "intersect1d(x, y)  计算 x 和 y 的交集，并排序\n",
    "union1d(x, y)      计算 x 和 y 的并集，并排序\n",
    "in1d(x, y)         计算 x 中的元素是否包含在 y 中，返回一个布尔值数组\n",
    "setdiff1d(x, y)    差集，在 x 中但不在 y 中的 x 的元素\n",
    "setxor1d(x, y)     异或集，在 x 或 y 中，但不属于x、y交集的元素\n",
    "\"\"\""
   ]
  }
 ],
 "metadata": {
  "kernelspec": {
   "display_name": "Python 3",
   "language": "python",
   "name": "python3"
  },
  "language_info": {
   "codemirror_mode": {
    "name": "ipython",
    "version": 3
   },
   "file_extension": ".py",
   "mimetype": "text/x-python",
   "name": "python",
   "nbconvert_exporter": "python",
   "pygments_lexer": "ipython3",
   "version": "3.7.3"
  }
 },
 "nbformat": 4,
 "nbformat_minor": 4
}
