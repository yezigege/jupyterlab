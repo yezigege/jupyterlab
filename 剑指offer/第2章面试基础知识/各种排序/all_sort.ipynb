{
 "cells": [
  {
   "cell_type": "code",
   "execution_count": 2,
   "metadata": {},
   "outputs": [],
   "source": [
    "\"\"\"\n",
    "时间装饰器\n",
    "\"\"\"\n",
    "import time\n",
    "import functools\n",
    "\n",
    "\n",
    "def clock(func):\n",
    "    @functools.wraps(func)\n",
    "    def clocked(*args, **kwargs):\n",
    "        t0 = time.time()\n",
    "        result = func(*args, **kwargs)\n",
    "        elapsed = time.time() - t0\n",
    "        name = func.__name__\n",
    "        arg_lst = []\n",
    "        if args:\n",
    "            arg_lst.append(', '.join(repr(arg) for arg in args))\n",
    "        if kwargs:\n",
    "            pairs = ['%s=%r' % (k, w) for k, w in sorted(kwargs.items())]\n",
    "            arg_lst.append(', '.join(pairs))\n",
    "        arg_str = ', '.join(arg_lst)\n",
    "\n",
    "        print('[%0.8fs] %s(%s) -> %r ' % (elapsed, name, arg_str, result))\n",
    "        return result\n",
    "    return clocked"
   ]
  },
  {
   "cell_type": "code",
   "execution_count": 26,
   "metadata": {},
   "outputs": [
    {
     "name": "stdout",
     "output_type": "stream",
     "text": [
      "[0.00001097s] bubble_sort([0, 1, 2, 3, 4, 5, 6, 7, 8, 9]) -> [0, 1, 2, 3, 4, 5, 6, 7, 8, 9] \n"
     ]
    },
    {
     "data": {
      "text/plain": [
       "[0, 1, 2, 3, 4, 5, 6, 7, 8, 9]"
      ]
     },
     "execution_count": 26,
     "metadata": {},
     "output_type": "execute_result"
    }
   ],
   "source": [
    "\"\"\"\n",
    "冒泡排序:\n",
    "    按照待排序列表的先后顺序，逐个比较相邻的两个数，互换位置。\n",
    "\"\"\"\n",
    "@clock\n",
    "def bubble_sort(arr):\n",
    "    for j in range(len(arr)-1, 0, -1):\n",
    "#         print(j)\n",
    "        for i in range(j):\n",
    "#             print(f\"===={i}\")\n",
    "            if arr[i] > arr[i + 1]:\n",
    "                arr[i], arr[i + 1] = arr[i + 1], arr[i]\n",
    "    return arr\n",
    "    \n",
    "list1 = [8, 1, 4, 2, 7, 3, 9, 5, 0, 6]\n",
    "data1 = bubble_sort(list1)\n",
    "data1"
   ]
  },
  {
   "cell_type": "code",
   "execution_count": 29,
   "metadata": {},
   "outputs": [
    {
     "name": "stdout",
     "output_type": "stream",
     "text": [
      "[0.00001192s] selection_sort([]) -> [0, 1, 2, 3, 4, 5, 6, 7, 8, 9] \n"
     ]
    },
    {
     "data": {
      "text/plain": [
       "[0, 1, 2, 3, 4, 5, 6, 7, 8, 9]"
      ]
     },
     "execution_count": 29,
     "metadata": {},
     "output_type": "execute_result"
    }
   ],
   "source": [
    "\"\"\"\n",
    "选择排序：\n",
    "    首先在待排序列表中找到最小(最大)元素，存放到起始位置，然后再从剩下\n",
    "待排序列表中找到最小(最大)元素，然后放到已排序序列的末尾，重复此过程\n",
    "\"\"\"\n",
    "def find_small(arr):\n",
    "    min = arr[0]\n",
    "    min_index = 0\n",
    "    for i in range(1, len(arr)):\n",
    "        if min > arr[i]:\n",
    "            min = arr[i]\n",
    "            min_index = i\n",
    "    return min_index\n",
    "\n",
    "@clock\n",
    "def selection_sort(arr):\n",
    "    sorted_list = []\n",
    "    for i in range(len(arr)):\n",
    "        min = find_small(arr)\n",
    "        sorted_list.append(arr.pop(min))\n",
    "    return sorted_list\n",
    "\n",
    "list2 = [8, 1, 4, 2, 7, 3, 9, 5, 0, 6]\n",
    "data2 = selection_sort(list2)\n",
    "data2"
   ]
  },
  {
   "cell_type": "code",
   "execution_count": 6,
   "metadata": {},
   "outputs": [
    {
     "name": "stdout",
     "output_type": "stream",
     "text": [
      "[0.00000668s] insert_sort([0, 1, 2, 3, 4, 5, 6, 7, 8, 9]) -> [0, 1, 2, 3, 4, 5, 6, 7, 8, 9] \n"
     ]
    },
    {
     "data": {
      "text/plain": [
       "[0, 1, 2, 3, 4, 5, 6, 7, 8, 9]"
      ]
     },
     "execution_count": 6,
     "metadata": {},
     "output_type": "execute_result"
    }
   ],
   "source": [
    "\"\"\"\n",
    "插入排序：\n",
    "    将第二个元素与第一个元素进行比较，如果小于第一个元素则交换位置，反之不变\n",
    "    将第三个元素分别与前两个元素比较(即将待排序的元素与已排好序的序列从后到前的比较)\n",
    "    插入合适的位置\n",
    "    以此类推\n",
    "    \n",
    "\"\"\"\n",
    "@clock\n",
    "def insert_sort(arr):\n",
    "    for i in range(1, len(arr)):\n",
    "        pos = i\n",
    "        cur = arr[i]\n",
    "        while pos > 0 and arr[pos - 1] > cur:\n",
    "            arr[pos] = arr[pos - 1]\n",
    "            pos -= 1\n",
    "        arr[pos] = cur\n",
    "    return arr\n",
    "\n",
    "list3 = [8, 1, 4, 2, 7, 3, 9, 5, 0, 6]\n",
    "data3 = insert_sort(list3)\n",
    "data3"
   ]
  },
  {
   "cell_type": "code",
   "execution_count": 33,
   "metadata": {},
   "outputs": [
    {
     "name": "stdout",
     "output_type": "stream",
     "text": [
      "[0.00000715s] insert_sort([0, 1, 2, 3, 4, 5, 6, 7, 8, 9]) -> [0, 1, 2, 3, 4, 5, 6, 7, 8, 9] \n"
     ]
    },
    {
     "data": {
      "text/plain": [
       "[0, 1, 2, 3, 4, 5, 6, 7, 8, 9]"
      ]
     },
     "execution_count": 33,
     "metadata": {},
     "output_type": "execute_result"
    }
   ],
   "source": [
    "\"\"\"\n",
    "希尔排序:\n",
    "    先将整个待排序的记录序列分割成为若干子序列分别进行直接插入排序，\n",
    "    具体算法描述：\n",
    "        选择一个增量序列t1，t2，…，tk，其中ti>tj，tk=1；\n",
    "        按增量序列个数k，对序列进行k 趟排序；\n",
    "        每趟排序，根据对应的增量ti，将待排序列分割成若干长度为m 的子序列，\n",
    "    分别对各子表进行直接插入排序。仅增量因子为1 时，整个序列作为一个表来处理，\n",
    "    表长度即为整个序列的长度。\n",
    "\"\"\"\n",
    "@clock\n",
    "def shell_sort(arr):\n",
    "    len_arr = len(arr)\n",
    "    gap = len_arr // 2\n",
    "    while gap > 0:\n",
    "        for i in range(gap, len_arr):\n",
    "            temp = arr[i]\n",
    "            j = i\n",
    "            while j >= gap and arr[j - gap] > temp:\n",
    "                arr[j] = arr[j - gap]\n",
    "                j -= gap\n",
    "            arr[j] = temp\n",
    "        gap = gap // 2\n",
    "    return arr\n",
    "\n",
    "list4 = [8, 1, 4, 2, 7, 3, 9, 5, 0, 6]\n",
    "data4 = insert_sort(list4)\n",
    "data4     "
   ]
  },
  {
   "cell_type": "code",
   "execution_count": 63,
   "metadata": {},
   "outputs": [
    {
     "name": "stdout",
     "output_type": "stream",
     "text": [
      "[0, 1, 2, 3, 4, 5, 6, 7, 7, 7, 8, 9]\n"
     ]
    }
   ],
   "source": [
    "\"\"\"\n",
    "快速排序：\n",
    "    从数列中找一个基准，重新排序数列，所有比基准小的放在基准前面。\n",
    "    所有比基准大的放在基准的后面，\n",
    "    递归地（recursively）把小于基准值元素的子数列和大于基准值元素的\n",
    "    子数列排序。递归到最底部时，数列的大小是零或一，也就是已经排序好了。\n",
    "    这个算法一定会结束，因为在每次的迭代（iteration）中，\n",
    "    它至少会把一个元素摆到它最后的位置去。\n",
    "\"\"\"\n",
    "# @clock\n",
    "# def quick_sort(arr):\n",
    "#     if len(arr) <= 1:\n",
    "#         return arr\n",
    "#     p = arr.pop()\n",
    "#     left = [i for i in arr if i < p]\n",
    "#     right = [i for i in arr if i > p]\n",
    "#     return quick_sort(left) + [p] + quick_sort(right)\n",
    "\n",
    "def quick_sort(collection):\n",
    "    \"\"\"Pure implementation of quick sort algorithm in Python\n",
    "    :param collection: some mutable ordered collection with heterogeneous\n",
    "    comparable items inside\n",
    "    :return: the same collection ordered by ascending\n",
    "    Examples:\n",
    "    >>> quick_sort([0, 5, 3, 2, 2])\n",
    "    [0, 2, 2, 3, 5]\n",
    "    >>> quick_sort([])\n",
    "    []\n",
    "    >>> quick_sort([-2, -5, -45])\n",
    "    [-45, -5, -2]\n",
    "    \"\"\"\n",
    "    length = len(collection)\n",
    "    if length <= 1:\n",
    "        return collection\n",
    "    else:\n",
    "        # Use the last element as the first pivot\n",
    "        pivot = collection.pop()\n",
    "        # Put elements greater than pivot in greater list\n",
    "        # Put elements lesser than pivot in lesser list\n",
    "        greater, lesser = [], []\n",
    "        for element in collection:\n",
    "            if element > pivot:\n",
    "                greater.append(element)\n",
    "            else:\n",
    "                lesser.append(element)\n",
    "        return quick_sort(lesser) + [pivot] + quick_sort(greater)\n",
    "\n",
    "\n",
    "# if __name__ == \"__main__\":\n",
    "#     user_input = input(\"Enter numbers separated by a comma:\\n\").strip()\n",
    "unsorted = [8, 1, 4, 2, 7, 3, 9, 7, 7, 5, 0, 6]\n",
    "print(quick_sort(unsorted))\n",
    "\n",
    "# list5 = [8, 1, 4, 2, 7, 3, 9, 7, 7, 5, 0, 6]\n",
    "# data5 = quick_sort(list5)\n",
    "# data5    "
   ]
  },
  {
   "cell_type": "code",
   "execution_count": 60,
   "metadata": {},
   "outputs": [
    {
     "name": "stdout",
     "output_type": "stream",
     "text": [
      "[0.00000691s] insert_sort([0, 1, 2, 3, 4, 5, 6, 7, 8, 9]) -> [0, 1, 2, 3, 4, 5, 6, 7, 8, 9] \n"
     ]
    },
    {
     "data": {
      "text/plain": [
       "[0, 1, 2, 3, 4, 5, 6, 7, 8, 9]"
      ]
     },
     "execution_count": 60,
     "metadata": {},
     "output_type": "execute_result"
    }
   ],
   "source": [
    "\"\"\"\n",
    "归并排序：\n",
    "    将序列每相邻两个数字进行归并操作，形成{displaystyle ceil(n/2)}个序列，\n",
    "    排序后每个序列包含两/一个元素。若此时序列数不是1个则将上述序列再次\n",
    "        归并，形成{displaystyle ceil(n/4)}个序列，每个序列包含四/三个元素\n",
    "    重复步骤2，直到所有元素排序完毕，即序列数为1\n",
    "\"\"\"\n",
    "def merge_sort(arr):\n",
    "    if len(arr) < 2:\n",
    "        return arr\n",
    "    mid = len(arr) // 2\n",
    "    left = merge_sort(arr[:mid])\n",
    "    right = merge_sort(arr[mid:])\n",
    "    return merge(left, right)\n",
    "\n",
    "def merge(left, right):\n",
    "    res = []\n",
    "    while left and right:\n",
    "        if left[0] < right[0]:\n",
    "            res.append(left.pop(0))\n",
    "        else:\n",
    "            res.append(right.pop(0))\n",
    "    if left:\n",
    "        res += left\n",
    "    if right:\n",
    "        res += right\n",
    "    return res\n",
    "\n",
    "list6 = [8, 1, 4, 2, 7, 3, 9, 5, 0, 6]\n",
    "data6 = insert_sort(list6)\n",
    "data6  "
   ]
  },
  {
   "cell_type": "code",
   "execution_count": 45,
   "metadata": {},
   "outputs": [
    {
     "name": "stdin",
     "output_type": "stream",
     "text": [
      "Enter numbers separated by a comma:\n",
      " 3, 8, 9, 1, 4, 2, 7, 0, 6, 5\n"
     ]
    },
    {
     "name": "stdout",
     "output_type": "stream",
     "text": [
      "[0.00001812s] heap_sort([0, 1, 2, 3, 4, 5, 6, 7, 8, 9]) -> [0, 1, 2, 3, 4, 5, 6, 7, 8, 9] \n",
      "[0, 1, 2, 3, 4, 5, 6, 7, 8, 9]\n"
     ]
    }
   ],
   "source": [
    "\"\"\"\n",
    "堆排序：\n",
    "    堆排序（Heapsort）是指利用堆这种数据结构所设计的一种排序算法。\n",
    "    堆积是一个近似完全二叉树的结构，并同时满足堆积的性质：\n",
    "    即子结点的键值或索引总是小于（或者大于）它的父节点。\n",
    "步骤：创建最大堆:将堆所有数据重新排序，使其成为最大堆\n",
    "      最大堆调整:作用是保持最大堆的性质，是创建最大堆的核心子程序\n",
    "      堆排序:移除位在第一个数据的根节点，并做最大堆调整的递归运算\n",
    "\"\"\"\n",
    "\"\"\"\n",
    "This is a pure Python implementation of the heap sort algorithm.\n",
    "For doctests run following command:\n",
    "python -m doctest -v heap_sort.py\n",
    "or\n",
    "python3 -m doctest -v heap_sort.py\n",
    "For manual testing run:\n",
    "python heap_sort.py\n",
    "\"\"\"\n",
    "\n",
    "def heapify(unsorted, index, heap_size):\n",
    "    largest = index\n",
    "    left_index = 2 * index + 1\n",
    "    right_index = 2 * index + 2\n",
    "    if left_index < heap_size and unsorted[left_index] > unsorted[largest]:\n",
    "        largest = left_index\n",
    "\n",
    "    if right_index < heap_size and unsorted[right_index] > unsorted[largest]:\n",
    "        largest = right_index\n",
    "\n",
    "    if largest != index:\n",
    "        unsorted[largest], unsorted[index] = unsorted[index], unsorted[largest]\n",
    "        heapify(unsorted, largest, heap_size)\n",
    "\n",
    "@clock\n",
    "def heap_sort(unsorted):\n",
    "    \"\"\"\n",
    "    Pure implementation of the heap sort algorithm in Python\n",
    "    :param collection: some mutable ordered collection with heterogeneous\n",
    "    comparable items inside\n",
    "    :return: the same collection ordered by ascending\n",
    "    Examples:\n",
    "    >>> heap_sort([0, 5, 3, 2, 2])\n",
    "    [0, 2, 2, 3, 5]\n",
    "    >>> heap_sort([])\n",
    "    []\n",
    "    >>> heap_sort([-2, -5, -45])\n",
    "    [-45, -5, -2]\n",
    "    \"\"\"\n",
    "    n = len(unsorted)\n",
    "    for i in range(n // 2 - 1, -1, -1):\n",
    "        heapify(unsorted, i, n)\n",
    "    for i in range(n - 1, 0, -1):\n",
    "        unsorted[0], unsorted[i] = unsorted[i], unsorted[0]\n",
    "        heapify(unsorted, 0, i)\n",
    "    return unsorted\n",
    "\n",
    "\n",
    "if __name__ == \"__main__\":\n",
    "    user_input = input(\"Enter numbers separated by a comma:\\n\").strip()\n",
    "    unsorted = [int(item) for item in user_input.split(\",\")]\n",
    "    print(heap_sort(unsorted))"
   ]
  },
  {
   "cell_type": "code",
   "execution_count": 49,
   "metadata": {},
   "outputs": [],
   "source": [
    "list1 = list('djfiajdfadf')"
   ]
  },
  {
   "cell_type": "code",
   "execution_count": 50,
   "metadata": {},
   "outputs": [
    {
     "data": {
      "text/plain": [
       "['d', 'j', 'f', 'i', 'a', 'j', 'd', 'f', 'a', 'd', 'f']"
      ]
     },
     "execution_count": 50,
     "metadata": {},
     "output_type": "execute_result"
    }
   ],
   "source": [
    "list1\n"
   ]
  },
  {
   "cell_type": "code",
   "execution_count": 51,
   "metadata": {},
   "outputs": [],
   "source": [
    "list1.remove('d')"
   ]
  },
  {
   "cell_type": "code",
   "execution_count": 52,
   "metadata": {},
   "outputs": [
    {
     "data": {
      "text/plain": [
       "['j', 'f', 'i', 'a', 'j', 'd', 'f', 'a', 'd', 'f']"
      ]
     },
     "execution_count": 52,
     "metadata": {},
     "output_type": "execute_result"
    }
   ],
   "source": [
    "list1"
   ]
  },
  {
   "cell_type": "code",
   "execution_count": 54,
   "metadata": {},
   "outputs": [
    {
     "data": {
      "text/plain": [
       "'b'"
      ]
     },
     "execution_count": 54,
     "metadata": {},
     "output_type": "execute_result"
    }
   ],
   "source": [
    "str2 = 'ab'\n",
    "str2[-1:]"
   ]
  },
  {
   "cell_type": "code",
   "execution_count": null,
   "metadata": {},
   "outputs": [],
   "source": []
  }
 ],
 "metadata": {
  "kernelspec": {
   "display_name": "Python 3",
   "language": "python",
   "name": "python3"
  },
  "language_info": {
   "codemirror_mode": {
    "name": "ipython",
    "version": 3
   },
   "file_extension": ".py",
   "mimetype": "text/x-python",
   "name": "python",
   "nbconvert_exporter": "python",
   "pygments_lexer": "ipython3",
   "version": "3.7.3"
  }
 },
 "nbformat": 4,
 "nbformat_minor": 4
}
