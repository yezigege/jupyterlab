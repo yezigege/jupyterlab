{
 "cells": [
  {
   "cell_type": "code",
   "execution_count": null,
   "metadata": {},
   "outputs": [],
   "source": [
    "# 第 9 章 符合Python风格的对象\n",
    "\"\"\"\n",
    "得益于 Python 数据模型，自定义类型的行为可以像内置类型那样自然。 实现如此自然的行为，靠的不是继承，而是鸭子类型(duck typing): \n",
    "我们只需按照预定行为实现对象所需的方法即可。\n",
    "\n",
    "前一章分析了很多内置对象的结构和行为，这一章则自己定义类，而且 让类的行为跟真正的 Python 对象一样。\n",
    "\n",
    "这一章接续第 1 章，说明如何实现在很多 Python 类型中常见的特殊方 法。\n",
    "\n",
    "本章包含以下话题:\n",
    "  支持用于生成对象其他表示形式的内置函数(如repr()、bytes()，等等) \n",
    "  使用一个类方法实现备选构造方法\n",
    "  扩展内置的 format() 函数和 str.format() 方法使用的格式微语 言\n",
    "  实现只读属性\n",
    "  把对象变为可散列的，以便在集合中及作为 dict 的键使用 \n",
    "  利用 __slots__ 节省内存\n",
    "   \n",
    "我们将开发一个简单的二维欧几里得向量类型，在这个过程中涵盖上述全部话题。 在实现这个类型的中间阶段，我们会讨论两个概念:\n",
    "  如何以及何时使用 @classmethod 和 @staticmethod 装饰器\n",
    "  Python 的私有属性和受保护属性的用法、约定和局限 \n",
    "  \n",
    "我们从对象表示形式函数开始。\n",
    "\"\"\""
   ]
  },
  {
   "cell_type": "code",
   "execution_count": null,
   "metadata": {},
   "outputs": [],
   "source": [
    "# 9.1 对象表示形式\n",
    "\n",
    "\"\"\"\n",
    "每门面向对象的语言至少都有一种获取对象的字符串表示形式的标准方式。Python 提供了两种方式。\n",
    "\n",
    "repr()\n",
    "  以便于开发者理解的方式返回对象的字符串表示形式。\n",
    "str()\n",
    "  以便于用户理解的方式返回对象的字符串表示形式。\n",
    "  \n",
    "正如你所知，我们要实现 __repr__ 和 __str__ 特殊方法，为 repr() 和 str() 提供支持。\n",
    "为了给对象提供其他的表示形式，还会用到另外两个特殊方 法:__bytes__ 和 __format__。\n",
    "__bytes__ 方法与 __str__ 方法类 似:bytes() 函数调用它获取对象的字节序列表示形式。\n",
    "而 __format__ 方法会被内置的 format() 函数和 str.format() 方法调 用，使用特殊的格式代码显示对象的字符串表示形式。\n",
    "我们将在下一个 示例中讨论 __bytes__ 方法，随后再讨论 __format__ 方法。\n",
    "\"\"\""
   ]
  },
  {
   "cell_type": "code",
   "execution_count": null,
   "metadata": {},
   "outputs": [],
   "source": [
    "# 9.2 再谈向量类"
   ]
  }
 ],
 "metadata": {
  "kernelspec": {
   "display_name": "Python 3",
   "language": "python",
   "name": "python3"
  },
  "language_info": {
   "codemirror_mode": {
    "name": "ipython",
    "version": 3
   },
   "file_extension": ".py",
   "mimetype": "text/x-python",
   "name": "python",
   "nbconvert_exporter": "python",
   "pygments_lexer": "ipython3",
   "version": "3.7.3"
  }
 },
 "nbformat": 4,
 "nbformat_minor": 4
}
