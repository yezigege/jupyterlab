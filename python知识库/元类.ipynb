{
 "cells": [
  {
   "cell_type": "code",
   "execution_count": 1,
   "metadata": {},
   "outputs": [],
   "source": [
    "# 测试类\n",
    "class Test(object):\n",
    "    pass"
   ]
  },
  {
   "cell_type": "code",
   "execution_count": 2,
   "metadata": {},
   "outputs": [
    {
     "name": "stdout",
     "output_type": "stream",
     "text": [
      "<class '__main__.Test'>\n"
     ]
    }
   ],
   "source": [
    "print(Test)"
   ]
  },
  {
   "cell_type": "code",
   "execution_count": 3,
   "metadata": {},
   "outputs": [
    {
     "name": "stdout",
     "output_type": "stream",
     "text": [
      "<class '__main__.Test'>\n"
     ]
    }
   ],
   "source": [
    "# 1. 将类作为函数的参数\n",
    "def echo(o):\n",
    "    print(o)\n",
    "    \n",
    "echo(Test)"
   ]
  },
  {
   "cell_type": "code",
   "execution_count": 5,
   "metadata": {},
   "outputs": [
    {
     "name": "stdout",
     "output_type": "stream",
     "text": [
      "True\n"
     ]
    }
   ],
   "source": [
    "# 2. 为这类添加属性\n",
    "Test.new_attribute = 'foo'\n",
    "print(hasattr(Test, 'new_attribute'))"
   ]
  },
  {
   "cell_type": "code",
   "execution_count": 6,
   "metadata": {},
   "outputs": [
    {
     "name": "stdout",
     "output_type": "stream",
     "text": [
      "foo\n"
     ]
    }
   ],
   "source": [
    "print(Test.new_attribute)"
   ]
  },
  {
   "cell_type": "code",
   "execution_count": 7,
   "metadata": {},
   "outputs": [
    {
     "name": "stdout",
     "output_type": "stream",
     "text": [
      "foo\n"
     ]
    }
   ],
   "source": [
    "# 3. 复制这个类\n",
    "copy_Test = Test\n",
    "print(copy_Test.new_attribute)"
   ]
  },
  {
   "cell_type": "code",
   "execution_count": 9,
   "metadata": {},
   "outputs": [
    {
     "name": "stdout",
     "output_type": "stream",
     "text": [
      "<__main__.Test object at 0x7fdd4216fbe0>\n"
     ]
    }
   ],
   "source": [
    "print(copy_Test())"
   ]
  },
  {
   "cell_type": "code",
   "execution_count": 10,
   "metadata": {},
   "outputs": [
    {
     "name": "stdout",
     "output_type": "stream",
     "text": [
      "<class '__main__.Myclass'>\n",
      "====================================================================================================\n",
      "<__main__.Myclass object at 0x7fdd4189a358>\n"
     ]
    }
   ],
   "source": [
    "\"\"\"\n",
    "使用 type() 动态的创建类\n",
    "\n",
    "type(name of the class,\n",
    "     tuple of the parent class (for inheritance, can be empty),\n",
    "     dictionary containing attributes names and values)\n",
    "\"\"\"\n",
    "Myclass = type('Myclass', (), {})\n",
    "print(Myclass)\n",
    "print(\"=\"*100)\n",
    "print(Myclass())"
   ]
  },
  {
   "cell_type": "code",
   "execution_count": 12,
   "metadata": {},
   "outputs": [
    {
     "name": "stdout",
     "output_type": "stream",
     "text": [
      "<class '__main__.Foo'>\n",
      "True\n",
      "<__main__.Foo object at 0x7fdd420e7518>\n",
      "True\n"
     ]
    }
   ],
   "source": [
    "\"\"\"\n",
    "type接受字典来定义类的属性\n",
    "\n",
    "class Foo(object):\n",
    "    bar = True\n",
    "\"\"\"\n",
    "Foo = type('Foo', (), {'bar': True})\n",
    "print(Foo)\n",
    "print(Foo.bar)\n",
    "f = Foo()\n",
    "print(f)\n",
    "print(f.bar)"
   ]
  },
  {
   "cell_type": "code",
   "execution_count": 13,
   "metadata": {},
   "outputs": [
    {
     "name": "stdout",
     "output_type": "stream",
     "text": [
      "<class '__main__.FooChild'>\n",
      "True\n"
     ]
    }
   ],
   "source": [
    "\"\"\"\n",
    "type 继承这个类\n",
    "\n",
    "class FooChild(Foo):\n",
    "    pass\n",
    "\"\"\"\n",
    "FooChild = type('FooChild', (Foo,), {})\n",
    "print(FooChild)\n",
    "print(FooChild.bar)"
   ]
  },
  {
   "cell_type": "code",
   "execution_count": null,
   "metadata": {},
   "outputs": [],
   "source": []
  }
 ],
 "metadata": {
  "kernelspec": {
   "display_name": "Python 3",
   "language": "python",
   "name": "python3"
  },
  "language_info": {
   "codemirror_mode": {
    "name": "ipython",
    "version": 3
   },
   "file_extension": ".py",
   "mimetype": "text/x-python",
   "name": "python",
   "nbconvert_exporter": "python",
   "pygments_lexer": "ipython3",
   "version": "3.7.3"
  }
 },
 "nbformat": 4,
 "nbformat_minor": 4
}
