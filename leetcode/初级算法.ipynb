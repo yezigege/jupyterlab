{
 "cells": [
  {
   "cell_type": "code",
   "execution_count": null,
   "metadata": {},
   "outputs": [],
   "source": [
    "\"\"\"\n",
    "初级算法：数组\n",
    "题目名称：删除排序数组中的重复项\n",
    "题目来源：https://leetcode-cn.com/problems/remove-duplicates-from-sorted-array/\n",
    "\"\"\"\n",
    "class Solution:\n",
    "    def removeDuplicates(self, nums: List[int]) -> int:\n",
    "        if not nums: return 0\n",
    "        i = 0 \n",
    "        for j in range(1, len(nums)):\n",
    "            if nums[i] != nums[j]:\n",
    "                i += 1\n",
    "                nums[i] = nums[j]\n",
    "        return i + 1"
   ]
  },
  {
   "cell_type": "code",
   "execution_count": null,
   "metadata": {},
   "outputs": [],
   "source": [
    "\"\"\"\n",
    "初级算法：数组\n",
    "题目名称：买卖股票的最佳时机 II\n",
    "题目链接：https://leetcode-cn.com/problems/best-time-to-buy-and-sell-stock-ii/\n",
    "\"\"\"\n",
    "class Solution:\n",
    "    def maxProfit(self, prices: List[int]) -> int:\n",
    "        if not prices:\n",
    "            return 0\n",
    "        slow, res = 0, 0\n",
    "        for fast in range(1, len(prices)):\n",
    "            if prices[fast] > prices[slow]:\n",
    "                res += prices[fast] - prices[slow]\n",
    "            slow += 1\n",
    "        return res"
   ]
  },
  {
   "cell_type": "code",
   "execution_count": null,
   "metadata": {},
   "outputs": [],
   "source": [
    "\"\"\"\n",
    "初级算法：数组\n",
    "题目名称：旋转数组\n",
    "题目链接：https://leetcode-cn.com/problems/rotate-array/\n",
    "\"\"\"\n",
    "class Solution:\n",
    "    def rotate(self, nums: List[int], k: int) -> None:\n",
    "        \"\"\"\n",
    "        Do not return anything, modify nums in-place instead.\n",
    "        \"\"\"\n",
    "        # nums[:] = nums[-k % len(nums):] + nums[: -k % len(nums)]\n",
    "        nums[:] = (nums[i] for i in range(-(k % len(nums)), len(nums) - k % len(nums)))  # 空间复杂度 O(1)\n",
    "    "
   ]
  },
  {
   "cell_type": "code",
   "execution_count": null,
   "metadata": {},
   "outputs": [],
   "source": [
    "\"\"\"\n",
    "初级算法：数组\n",
    "题目名称：存在重复元素\n",
    "题目链接：https://leetcode-cn.com/problems/rotate-array/\n",
    "\"\"\"\n",
    "class Solution:\n",
    "    def containsDuplicate(self, nums: List[int]) -> bool:\n",
    "        # 方法一\n",
    "#         return len(set(nums)) != len(nums)\n",
    "        \n",
    "    \n",
    "        # 方法二\n",
    "        visited = set()\n",
    "        for num in nums:\n",
    "            if num in visited:return True\n",
    "            visited.add(num)\n",
    "        return False"
   ]
  },
  {
   "cell_type": "code",
   "execution_count": null,
   "metadata": {},
   "outputs": [],
   "source": [
    "\"\"\"\n",
    "初级算法：数组\n",
    "题目名称：只存在一次的数字\n",
    "题目链接：https://leetcode-cn.com/problems/single-number/\n",
    "\"\"\"\n",
    "class Solution:\n",
    "    def singleNumber(self, nums: List[int]) -> int:\n",
    "        \"\"\"\n",
    "        使用异或的方式\n",
    "        \n",
    "        交换律：a ^ b ^ c <=> a ^ c ^ b\n",
    "\n",
    "        任何数于0异或为任何数 0 ^ n => n\n",
    "\n",
    "        相同的数异或为0: n ^ n => 0\n",
    "        \"\"\"\n",
    "        a = 0\n",
    "        for num in nums:\n",
    "            a = a ^ num\n",
    "        return a"
   ]
  },
  {
   "cell_type": "code",
   "execution_count": 20,
   "metadata": {},
   "outputs": [
    {
     "name": "stdout",
     "output_type": "stream",
     "text": [
      "[4, 9]\n"
     ]
    }
   ],
   "source": [
    "\"\"\"\n",
    "初级算法：数组\n",
    "题目名称：两个数组的交集 II\n",
    "题目链接：https://leetcode-cn.com/problems/intersection-of-two-arrays-ii/\n",
    "\"\"\"\n",
    "import collections\n",
    "\n",
    "\n",
    "class Solution:\n",
    "    def intersect(self, nums1, nums2):  # (self, nums1: List[int], nums2: List[int]) -> List[int]:\n",
    "        # 排序双指针\n",
    "#         nums1.sort()\n",
    "#         nums2.sort()\n",
    "#         left, right, res = 0, 0, []\n",
    "#         while left < len(nums1) and right < len(nums2):\n",
    "#             if nums1[left] < nums2[right]:\n",
    "#                 left += 1\n",
    "#             elif nums1[left] == nums2[right]:\n",
    "#                 res.append(nums1[left])\n",
    "#                 left += 1\n",
    "#                 right += 1\n",
    "#             else:\n",
    "#                 right += 1\n",
    "#         return res\n",
    "\n",
    "        # 方法二  字典\n",
    "        num1 = collections.Counter(nums1)\n",
    "        num2 = collections.Counter(nums2)\n",
    "        num = num1 & num2\n",
    "        return list(num.elements())\n",
    "\n",
    "\n",
    "if __name__ == \"__main__\":\n",
    "    solution = Solution()\n",
    "    nums2= [9, 4, 9, 8, 2, 1]\n",
    "    nums1 = [4, 9, 5]\n",
    "    res = solution.intersect(nums1, nums2)\n",
    "    print(res)"
   ]
  },
  {
   "cell_type": "code",
   "execution_count": 36,
   "metadata": {},
   "outputs": [
    {
     "name": "stdout",
     "output_type": "stream",
     "text": [
      "9\n",
      "8\n",
      "7\n",
      "6\n",
      "5\n",
      "4\n",
      "3\n",
      "2\n",
      "1\n"
     ]
    }
   ],
   "source": [
    "\"\"\"\n",
    "初级算法：数组\n",
    "题目名称：\n",
    "题目链接：https://leetcode-cn.com/problems/intersection-of-two-arrays-ii/\n",
    "\"\"\"\n"
   ]
  },
  {
   "cell_type": "code",
   "execution_count": null,
   "metadata": {},
   "outputs": [],
   "source": []
  }
 ],
 "metadata": {
  "kernelspec": {
   "display_name": "Python 3",
   "language": "python",
   "name": "python3"
  },
  "language_info": {
   "codemirror_mode": {
    "name": "ipython",
    "version": 3
   },
   "file_extension": ".py",
   "mimetype": "text/x-python",
   "name": "python",
   "nbconvert_exporter": "python",
   "pygments_lexer": "ipython3",
   "version": "3.7.3"
  }
 },
 "nbformat": 4,
 "nbformat_minor": 4
}
