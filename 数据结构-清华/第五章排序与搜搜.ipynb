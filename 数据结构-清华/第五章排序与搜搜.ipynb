{
 "cells": [
  {
   "cell_type": "code",
   "execution_count": 2,
   "metadata": {},
   "outputs": [
    {
     "name": "stdout",
     "output_type": "stream",
     "text": [
      "True\n",
      "False\n"
     ]
    }
   ],
   "source": [
    "# 整数有序列表的顺序搜索\n",
    "def orderSequentialSearch(alist, item):\n",
    "    pos = 0\n",
    "    found = False\n",
    "    stop = False\n",
    "    while pos < len(alist) and not found and not stop:\n",
    "        if alist[pos] == item:\n",
    "            found = True\n",
    "        else:\n",
    "            if alist[pos] > item:\n",
    "                stop = True\n",
    "            else:\n",
    "                pos += 1\n",
    "    return found\n",
    "\n",
    "testlist = [1, 2, 4, 8, 9, 13, 24, 38, 48, 67, 89, 92]\n",
    "print(orderSearch(testlist, 38))\n",
    "print(orderSearch(testlist, 57))"
   ]
  },
  {
   "cell_type": "code",
   "execution_count": null,
   "metadata": {},
   "outputs": [],
   "source": [
    "# 整数无序列表的顺序搜索\n",
    "def sequentialSearch(alist, item):\n",
    "    pos = 0\n",
    "    found = False\n",
    "    while pos < len(alist) and not found:\n",
    "        if alist[pos] == item:\n",
    "            found = True\n",
    "        else:\n",
    "            pos += 1\n",
    "    return found\n",
    "\n",
    "testlist = [1, 2, 4, 8, 9, 13, 24, 38, 48, 67, 89, 92]\n",
    "print(orderSearch(testlist, 38))\n",
    "print(orderSearch(testlist, 57))"
   ]
  },
  {
   "cell_type": "code",
   "execution_count": 4,
   "metadata": {},
   "outputs": [
    {
     "name": "stdout",
     "output_type": "stream",
     "text": [
      "True\n",
      "False\n"
     ]
    }
   ],
   "source": [
    "# 二分搜索一个整数有序表  分治法-实践\n",
    "def binarySearch(alist, item):\n",
    "    first = 0\n",
    "    last = len(alist) - 1\n",
    "    found = False\n",
    "    while first <= last and not found:\n",
    "        mid = (first + last) // 2\n",
    "        if alist[mid] == item:\n",
    "            found = True\n",
    "        else:\n",
    "            if item < alist[mid]:\n",
    "                last = mid - 1\n",
    "            else:\n",
    "                first = mid + 1\n",
    "    return found\n",
    "\n",
    "testlist = [1, 2, 4, 8, 9, 13, 24, 38, 48, 67, 89, 92]\n",
    "print(binarySearch(testlist, 38))\n",
    "print(binarySearch(testlist, 57))          "
   ]
  },
  {
   "cell_type": "code",
   "execution_count": 5,
   "metadata": {},
   "outputs": [
    {
     "name": "stdout",
     "output_type": "stream",
     "text": [
      "True\n",
      "False\n"
     ]
    }
   ],
   "source": [
    "# 二分搜索-递归版本\n",
    "def binarySearch(alist, item):\n",
    "    if len(alist) == 0:\n",
    "        return False\n",
    "    else:\n",
    "        mid = len(alist) // 2\n",
    "        if alist[mid] == item:\n",
    "            return True\n",
    "        else:\n",
    "            if item < alist[mid]:\n",
    "                return binarySearch(alist[:mid], item)\n",
    "            else:\n",
    "                return binarySearch(alist[mid+1:], item)\n",
    "\n",
    "testlist = [1, 2, 4, 8, 9, 13, 24, 38, 48, 67, 89, 92]\n",
    "print(binarySearch(testlist, 38))\n",
    "print(binarySearch(testlist, 57)) "
   ]
  },
  {
   "cell_type": "code",
   "execution_count": 8,
   "metadata": {},
   "outputs": [
    {
     "name": "stdout",
     "output_type": "stream",
     "text": [
      "3\n"
     ]
    }
   ],
   "source": [
    "# 用 ASCII 数值散列一个字符串\n",
    "def hash(astring, tablesize):\n",
    "    sum = 0\n",
    "    for pos in range(len(astring)):\n",
    "        sum = sum + ord(astring[pos]) * (pos + 1)\n",
    "    return sum % tablesize\n",
    "\n",
    "print(hash('cat', 11))"
   ]
  },
  {
   "cell_type": "code",
   "execution_count": 15,
   "metadata": {},
   "outputs": [
    {
     "name": "stdout",
     "output_type": "stream",
     "text": [
      "[0, 1, 2, 3, 4, 5, 6, 7, 8, 9]\n"
     ]
    }
   ],
   "source": [
    "# 冒泡排序\n",
    "def bubbleSort(alist):\n",
    "    for passnum in range(len(alist)-1, 0, -1):\n",
    "        for i in range(passnum):\n",
    "            if alist[i] > alist[i + 1]:\n",
    "                temp = alist[i]\n",
    "                alist[i] = alist[i + 1]\n",
    "                alist[i + 1] = temp\n",
    "    return alist\n",
    "\n",
    "alist = [4, 8, 1, 9, 2, 0, 3, 7, 5, 6]\n",
    "print(bubbleSort(alist))"
   ]
  },
  {
   "cell_type": "code",
   "execution_count": 18,
   "metadata": {},
   "outputs": [
    {
     "name": "stdout",
     "output_type": "stream",
     "text": [
      "[0, 1, 2, 3, 4, 5, 6, 7, 8, 9]\n"
     ]
    }
   ],
   "source": [
    "# 短路冒泡排序\n",
    "\"\"\"\n",
    "由于冒泡排序要遍历整个未排好的 部分，它可以做一些大多数排序方法做不到的事。尤其是如果在整个排序过程中没有交换，\n",
    "我们 就可断定列表已经排好。因此可改良冒泡排序，使其在已知列表排好的情况下提前结束。这就是 说，如果一个列表只需要几次遍历就可排好，\n",
    "冒泡排序就占有优势:它可以在发现列表已排好时 立刻结束。代码2就是改良版冒泡排序。它通常被称作“短路冒泡排序”。\n",
    "\"\"\"\n",
    "def shortBubbleSort(alist):\n",
    "    exchanges = True\n",
    "    passnum = len(alist) - 1\n",
    "    while passnum > 0 and exchanges:\n",
    "        exchanges = False\n",
    "        \n",
    "        for i in range(passnum):\n",
    "            if alist[i] > alist[i + 1]:\n",
    "                exchange = True\n",
    "                temp = alist[i]\n",
    "                alist[i] = alist[i + 1]\n",
    "                alist[i + 1] = temp\n",
    "            passnum = passnum - 1\n",
    "    return alist\n",
    "\n",
    "alist = [0, 1, 2, 3, 4, 5, 6, 7, 8, 9]\n",
    "print(shortBubbleSort(alist))"
   ]
  },
  {
   "cell_type": "code",
   "execution_count": 20,
   "metadata": {},
   "outputs": [
    {
     "name": "stdout",
     "output_type": "stream",
     "text": [
      "[0, 1, 2, 3, 4, 5, 6, 7, 8, 9]\n"
     ]
    }
   ],
   "source": [
    "# 选择排序\n",
    "def selectSort(alist):\n",
    "    for fillslot in range(len(alist) - 1, 0, -1):\n",
    "        positionOfMax = 0 \n",
    "        for location in range(1, fillslot + 1):\n",
    "            if alist[location] > alist[positionOfMax]:\n",
    "                positionOfMax = location\n",
    "            if positionOfMax != fillslot:\n",
    "                alist[fillslot], alist[positionOfMax] = alist[positionOfMax], alist[fillslot]\n",
    "    return alist            \n",
    "    \n",
    "alist = [4, 8, 1, 9, 2, 0, 3, 7, 5, 6]\n",
    "print(selectSort(alist))"
   ]
  },
  {
   "cell_type": "code",
   "execution_count": 38,
   "metadata": {},
   "outputs": [
    {
     "name": "stdout",
     "output_type": "stream",
     "text": [
      "[0, 1, 2, 3, 4, 5, 6, 7, 8, 9]\n"
     ]
    }
   ],
   "source": [
    "# 插入排序\n",
    "def insertSort(alist):\n",
    "    for index in range(len(alist)):\n",
    "        currentvalue = alist[index]\n",
    "        position = index\n",
    "        \n",
    "        while position > 0 and alist[position - 1] > currentvalue:\n",
    "            alist[position] = alist[position - 1]\n",
    "            position = position - 1\n",
    "        alist[position] = currentvalue\n",
    "        \n",
    "    return alist\n",
    "\n",
    "alist = [4, 8, 1, 9, 2, 0, 3, 7, 5, 6]\n",
    "print(insertionSort(alist))"
   ]
  },
  {
   "cell_type": "code",
   "execution_count": 44,
   "metadata": {},
   "outputs": [
    {
     "name": "stdout",
     "output_type": "stream",
     "text": [
      "After increments of size 5 Then list is [0, 8, 1, 9, 2, 4, 3, 7, 5, 6]\n",
      "After increments of size 5 Then list is [0, 3, 1, 9, 2, 4, 8, 7, 5, 6]\n",
      "After increments of size 5 Then list is [0, 3, 1, 9, 2, 4, 8, 7, 5, 6]\n",
      "After increments of size 5 Then list is [0, 3, 1, 5, 2, 4, 8, 7, 9, 6]\n",
      "After increments of size 5 Then list is [0, 3, 1, 5, 2, 4, 8, 7, 9, 6]\n",
      "After increments of size 2 Then list is [0, 3, 1, 5, 2, 4, 8, 7, 9, 6]\n",
      "After increments of size 2 Then list is [0, 3, 1, 4, 2, 5, 8, 6, 9, 7]\n",
      "After increments of size 1 Then list is [0, 1, 2, 3, 4, 5, 6, 7, 8, 9]\n",
      "[0, 1, 2, 3, 4, 5, 6, 7, 8, 9]\n"
     ]
    }
   ],
   "source": [
    "# 希尔排序\n",
    "def shellSort(alist):\n",
    "    sublistcount = len(alist) // 2\n",
    "    while sublistcount > 0:\n",
    "        for startposition in range(sublistcount):\n",
    "            gapinsertionSort(alist, startposition, sublistcount)\n",
    "            print(\"After increments of size\", sublistcount, \"Then list is\", alist)\n",
    "        sublistcount = sublistcount // 2\n",
    "    return alist\n",
    "\n",
    "def gapinsertionSort(alist, start, gap):\n",
    "    for i in range(start+gap, len(alist), gap):\n",
    "        currentvalue = alist[i]\n",
    "        position = i\n",
    "        \n",
    "        while position >= gap and alist[position - gap] > currentvalue:\n",
    "            alist[position] = alist[position - gap]\n",
    "            position = position - gap\n",
    "        alist[position] = currentvalue\n",
    "\n",
    "alist = [4, 8, 1, 9, 2, 0, 3, 7, 5, 6]\n",
    "print(shellSort(alist))"
   ]
  },
  {
   "cell_type": "code",
   "execution_count": 27,
   "metadata": {},
   "outputs": [
    {
     "name": "stdout",
     "output_type": "stream",
     "text": [
      "[0, 1, 2, 3, 4, 5, 6, 7, 8, 9]\n"
     ]
    }
   ],
   "source": [
    "# 归并排序--递归实现\n",
    "def mergeSort(alist=[]):\n",
    "    if len(alist) <= 1:\n",
    "        return alist\n",
    "    else:\n",
    "        mid = len(alist) // 2\n",
    "        left = []\n",
    "        right = []\n",
    "        left = mergeSort(alist[:mid])\n",
    "        right = mergeSort(alist[mid:])\n",
    "        return merge(left, right)\n",
    "        \n",
    "def merge(left=[], right=[]):\n",
    "    # i, j are index for left and right seperately\n",
    "    i, j = 0, 0\n",
    "    result = []\n",
    "    while i < len(left) and j < len(right):\n",
    "        if left[i] <= right[j]:\n",
    "            result.append(left[i])\n",
    "            i += 1\n",
    "        else:\n",
    "            result.append(right[j])\n",
    "            j += 1\n",
    "    \n",
    "    # 将剩余部分依次加入 result\n",
    "    result = result + left[i:]\n",
    "    result = result + right[j:]\n",
    "    return result\n",
    "\n",
    "alist = [4, 8, 1, 9, 2, 0, 3, 7, 5, 6]\n",
    "print(mergeSort(alist))"
   ]
  },
  {
   "cell_type": "code",
   "execution_count": 32,
   "metadata": {},
   "outputs": [
    {
     "name": "stdout",
     "output_type": "stream",
     "text": [
      "[4, 8, 1, 9, 2, 0, 3, 7, 5, 6]\n",
      "[0, 1, 2, 3, 4, 5, 6, 7, 8, 9]\n"
     ]
    }
   ],
   "source": [
    "# 归并排序--迭代实现  ==》暂未理解\n",
    "class MergeSort:\n",
    "    def __init__(self, alist=[]):\n",
    "        self.alist = alist\n",
    "        \n",
    "    def get_current_alist(self):\n",
    "        return self.alist\n",
    "    \n",
    "    def ascent_sort(self):\n",
    "        k = 1   # 子数组元素的个数\n",
    "        while k < len(self.alist):\n",
    "            low = 0\n",
    "            while low < len(self.alist):\n",
    "                height = min(low + 2 * k, len(self.alist))\n",
    "                mid = low + k\n",
    "                if mid < height:\n",
    "                    \"\"\"mergeSort\"\"\"\n",
    "                    left = self.alist[low:mid]\n",
    "                    right = self.alist[mid:height]\n",
    "                    result = []\n",
    "                    i, j = 0, 0\n",
    "                    while i < len(left) and j < len(right):\n",
    "                        if left[i] < right[j]:\n",
    "                            result.append(left[i])\n",
    "                            i += 1\n",
    "                        else:\n",
    "                            result.append(right[j])\n",
    "                            j += 1\n",
    "                    result = result + left[i:]\n",
    "                    result = result + right[j:]\n",
    "                    \"\"\"将原始数组的[low, height]替代为已经排好序的数组\"\"\"\n",
    "                    self.alist[low:height] = result\n",
    "                low = low + 2 * i\n",
    "            k = k * 2\n",
    "        return self.alist\n",
    "\n",
    "list1 = MergeSort([4, 8, 1, 9, 2, 0, 3, 7, 5, 6])\n",
    "print(list1.get_current_alist())\n",
    "list1.ascent_sort()\n",
    "print(list1.get_current_alist())"
   ]
  },
  {
   "cell_type": "code",
   "execution_count": 35,
   "metadata": {},
   "outputs": [
    {
     "name": "stdout",
     "output_type": "stream",
     "text": [
      "[3, 6, 7, 9, 9, 10, 23]\n"
     ]
    }
   ],
   "source": [
    "# 快速排序\n",
    "def quicksort(collection):\n",
    "    length = len(collection)\n",
    "    if length <= 1:\n",
    "        return collection\n",
    "    else:\n",
    "        # Use the last element as the first pivot\n",
    "        pivot = collection.pop()\n",
    "        # Put elements greater than pivot in greater list\n",
    "        # Put elements lesser than pivot in lesser list\n",
    "        greater, lesser = [], []\n",
    "        for element in collection:\n",
    "            if element > pivot:\n",
    "                greater.append(element)\n",
    "            else:\n",
    "                lesser.append(element)\n",
    "        return quicksort(lesser) + [pivot] + quicksort(greater)\n",
    "\n",
    "\n",
    "if __name__ == '__main__':\n",
    "    list1 = [7, 3, 23, 6, 9, 9, 10]\n",
    "    res = quicksort(list1)\n",
    "    print(res)"
   ]
  },
  {
   "cell_type": "code",
   "execution_count": null,
   "metadata": {},
   "outputs": [],
   "source": []
  }
 ],
 "metadata": {
  "kernelspec": {
   "display_name": "Python 3",
   "language": "python",
   "name": "python3"
  },
  "language_info": {
   "codemirror_mode": {
    "name": "ipython",
    "version": 3
   },
   "file_extension": ".py",
   "mimetype": "text/x-python",
   "name": "python",
   "nbconvert_exporter": "python",
   "pygments_lexer": "ipython3",
   "version": "3.7.3"
  }
 },
 "nbformat": 4,
 "nbformat_minor": 4
}
