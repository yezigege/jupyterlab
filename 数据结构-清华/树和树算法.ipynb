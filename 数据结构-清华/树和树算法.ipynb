{
 "cells": [
  {
   "cell_type": "code",
   "execution_count": null,
   "metadata": {},
   "outputs": [],
   "source": [
    "# 使用列表的方式表示一棵树\n",
    "\"\"\"\n",
    "               a\n",
    "        b               c\n",
    "    d       e           f\n",
    "\"\"\"\n",
    "myTree = [\n",
    "    'a',   # root\n",
    "    ['b',  # left subtree\n",
    "    ['d', [], []],\n",
    "    ['e', [], []]],\n",
    "    ['c',  # right subtree\n",
    "    ['f', [], []]]\n",
    "]"
   ]
  },
  {
   "cell_type": "code",
   "execution_count": 1,
   "metadata": {},
   "outputs": [],
   "source": [
    "# 插入左节点的代码\n",
    "myTree = ['a', ['b', ['d', [], []], ['e', [], []]], ['c', [], []]]\n",
    "def insertLeft(root, newBranch):\n",
    "    t = root.pop(1)\n",
    "    if len(t) > 1:\n",
    "        root.insert(1, [newBranch, t, []])\n",
    "    else:\n",
    "        root.insert(1, [newBranch, [], []])\n",
    "    return root"
   ]
  },
  {
   "cell_type": "code",
   "execution_count": 2,
   "metadata": {},
   "outputs": [],
   "source": [
    "# 插入右节点的代码\n",
    "def insertRight(root, newBranch):\n",
    "    t = root.pop(2)\n",
    "    if len(t) > 1:\n",
    "        root.insert(2, [newBranch, [], t])\n",
    "    else:\n",
    "        root.insert(2, [newBranch, [], []])\n",
    "    return root"
   ]
  },
  {
   "cell_type": "code",
   "execution_count": 3,
   "metadata": {},
   "outputs": [],
   "source": [
    "def getRootVal(root):\n",
    "    return root[0]\n",
    "\n",
    "def setRootVal(root, newVal):\n",
    "    root[0] = newVal\n",
    "    \n",
    "def getLeftChild(root):\n",
    "    return root[1]\n",
    "\n",
    "def getRightChild(root):\n",
    "    return root[2]"
   ]
  },
  {
   "cell_type": "code",
   "execution_count": 5,
   "metadata": {},
   "outputs": [
    {
     "name": "stdout",
     "output_type": "stream",
     "text": [
      "[3, [5, [4, [], []], []], [7, [], [6, [], []]]]\n",
      "[5, [4, [], []], []]\n",
      "[3, [9, [4, [], []], []], [7, [], [6, [], []]]]\n",
      "[3, [9, [11, [4, [], []], []], []], [7, [], [6, [], []]]]\n",
      "[6, [], []]\n"
     ]
    }
   ],
   "source": [
    "def BinaryTree(r):\n",
    "    return [r, [], []]\n",
    "\n",
    "r = BinaryTree(3)\n",
    "insertLeft(r, 4)\n",
    "insertLeft(r, 5)\n",
    "insertRight(r, 6)\n",
    "insertRight(r, 7)\n",
    "print(r)\n",
    "L = getLeftChild(r)\n",
    "print(L)\n",
    "setRootVal(L, 9)\n",
    "print(r)\n",
    "insertLeft(L, 11)\n",
    "print(r)\n",
    "print(getRightChild(getRightChild(r)))"
   ]
  },
  {
   "cell_type": "code",
   "execution_count": 6,
   "metadata": {},
   "outputs": [
    {
     "name": "stdout",
     "output_type": "stream",
     "text": [
      "a\n",
      "None\n",
      "None\n",
      "<__main__.BinaryTree object at 0x7ff61ecd72b0>\n",
      "b\n",
      "c\n",
      "hello\n"
     ]
    }
   ],
   "source": [
    "# 使用类对象来创造树\n",
    "class BinaryTree:\n",
    "    def __init__(self, rootObj):\n",
    "        self.key = rootObj\n",
    "        self.leftChild = None\n",
    "        self.rightChild = None\n",
    "        \n",
    "    def insertLeft(self, newNode):\n",
    "        if self.leftChild == None:\n",
    "            self.leftChild = BinaryTree(newNode)\n",
    "        else:\n",
    "            t = BinaryTree(newNode)\n",
    "            t.leftChild = self.leftChild\n",
    "            self.leftChild = t\n",
    "            \n",
    "    def insertRight(self, newNode):\n",
    "        if self.rightChild == None:\n",
    "            self.rightChild = BinaryTree(newNode)\n",
    "        else:\n",
    "            t = BinaryTree(newNode)\n",
    "            t.rightChild = self.rightChild\n",
    "            self.rightChild = t\n",
    "            \n",
    "    def getRightChild(self):\n",
    "        return self.rightChild\n",
    "    \n",
    "    def getLeftChild(self):\n",
    "        return self.leftChild\n",
    "    \n",
    "    def setRootVal(self, obj):\n",
    "        self.key = obj\n",
    "        \n",
    "    def getRootVal(self):\n",
    "        return self.key\n",
    "    \n",
    "r = BinaryTree('a')\n",
    "print(r.getRootVal())\n",
    "print(r.getLeftChild())\n",
    "print(r.getRightChild())\n",
    "\n",
    "r.insertLeft('b')\n",
    "print(r.getLeftChild())\n",
    "print(r.getLeftChild().getRootVal())\n",
    "\n",
    "r.insertRight('c')\n",
    "print(r.getRightChild().getRootVal())\n",
    "r.getRightChild().setRootVal('hello')\n",
    "print(r.getRightChild().getRootVal())"
   ]
  },
  {
   "cell_type": "code",
   "execution_count": 9,
   "metadata": {},
   "outputs": [
    {
     "data": {
      "text/plain": [
       "<__main__.BinaryTree at 0x7ff61e1a8518>"
      ]
     },
     "execution_count": 9,
     "metadata": {},
     "output_type": "execute_result"
    }
   ],
   "source": [
    "# 解析树的生成函数\n",
    "class Stack(object):\n",
    "    \"\"\"栈\"\"\"\n",
    "    def __init__(self):\n",
    "         self.items = []\n",
    "\n",
    "    def is_empty(self):\n",
    "        \"\"\"判断是否为空\"\"\"\n",
    "        return self.items == []\n",
    "\n",
    "    def push(self, item):\n",
    "        \"\"\"加入元素\"\"\"\n",
    "        self.items.append(item)\n",
    "\n",
    "    def pop(self):\n",
    "        \"\"\"弹出元素\"\"\"\n",
    "        return self.items.pop()\n",
    "\n",
    "    def peek(self):\n",
    "        \"\"\"返回栈顶元素\"\"\"\n",
    "        return self.items[len(self.items)-1]\n",
    "\n",
    "    def size(self):\n",
    "        \"\"\"返回栈的大小\"\"\"\n",
    "        return len(self.items)\n",
    "\n",
    "def buildParseTree(fpexp):\n",
    "    fplist = fpexp.split()\n",
    "    pStack = Stack()\n",
    "    eTree = BinaryTree(\"\")\n",
    "    pStack.push(eTree)\n",
    "    currentTree = eTree\n",
    "    for i in fplist:\n",
    "        if i == '(':\n",
    "            currentTree.insertLeft('')\n",
    "            pStack.push(currentTree)\n",
    "            currentTree = currentTree.getLeftChild()\n",
    "        elif i not in ['+', '-', '*', '/', ')']:\n",
    "            currentTree.setRootVal(int(i))\n",
    "            parent = pStack.pop()\n",
    "            currentTree = parent\n",
    "        elif i in ['+', '-', '*', '/']:\n",
    "            currentTree.setRootVal(i)\n",
    "            currentTree.insertRight('')\n",
    "            pStack.push(currentTree)\n",
    "            currentTree = currentTree.getRightChild()\n",
    "        elif i == ')':\n",
    "            currentTree = pStack.pop()\n",
    "        else:\n",
    "            raise ValueError\n",
    "            \n",
    "    return eTree\n",
    "\n",
    "pt = buildParseTree(\"( ( 10 + 5 ) * 3 )\")\n",
    "pt #defined and explained in the next section"
   ]
  },
  {
   "cell_type": "code",
   "execution_count": 10,
   "metadata": {},
   "outputs": [
    {
     "ename": "SyntaxError",
     "evalue": "unexpected EOF while parsing (<ipython-input-10-3ee13f22d1dd>, line 2)",
     "output_type": "error",
     "traceback": [
      "\u001b[0;36m  File \u001b[0;32m\"<ipython-input-10-3ee13f22d1dd>\"\u001b[0;36m, line \u001b[0;32m2\u001b[0m\n\u001b[0;31m    def preorder(tree):\u001b[0m\n\u001b[0m                       ^\u001b[0m\n\u001b[0;31mSyntaxError\u001b[0m\u001b[0;31m:\u001b[0m unexpected EOF while parsing\n"
     ]
    }
   ],
   "source": [
    "# 前序遍历\n",
    "def preorder(tree):\n",
    "    if tree:\n",
    "        print(tree.getRootVal())\n",
    "        preorder(tree.getLeftChild())\n",
    "        preorder(tree.getRightChild())"
   ]
  },
  {
   "cell_type": "code",
   "execution_count": null,
   "metadata": {},
   "outputs": [],
   "source": []
  }
 ],
 "metadata": {
  "kernelspec": {
   "display_name": "Python 3",
   "language": "python",
   "name": "python3"
  },
  "language_info": {
   "codemirror_mode": {
    "name": "ipython",
    "version": 3
   },
   "file_extension": ".py",
   "mimetype": "text/x-python",
   "name": "python",
   "nbconvert_exporter": "python",
   "pygments_lexer": "ipython3",
   "version": "3.7.3"
  }
 },
 "nbformat": 4,
 "nbformat_minor": 4
}
