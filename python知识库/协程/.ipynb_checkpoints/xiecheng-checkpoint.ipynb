{
 "cells": [
  {
   "cell_type": "code",
   "execution_count": 1,
   "metadata": {},
   "outputs": [
    {
     "data": {
      "text/plain": [
       "'\\n本文所有实例来源于此：https://pythonav.com/wiki/detail/6/91/\\n'"
      ]
     },
     "execution_count": 1,
     "metadata": {},
     "output_type": "execute_result"
    }
   ],
   "source": [
    "\"\"\"\n",
    "本文所有实例来源于此：https://pythonav.com/wiki/detail/6/91/\n",
    "\"\"\""
   ]
  },
  {
   "cell_type": "code",
   "execution_count": 2,
   "metadata": {},
   "outputs": [
    {
     "name": "stdout",
     "output_type": "stream",
     "text": [
      "1\n",
      "2\n",
      "3\n",
      "4\n"
     ]
    }
   ],
   "source": [
    "\"\"\"1. 协程\"\"\"\n",
    "def func1():\n",
    "    print(1)\n",
    "    print(2)\n",
    "    \n",
    "def func2():\n",
    "    print(3)\n",
    "    print(4)\n",
    "\n",
    "func1()\n",
    "func2()"
   ]
  },
  {
   "cell_type": "code",
   "execution_count": null,
   "metadata": {},
   "outputs": [],
   "source": [
    "\"\"\"\n",
    "上述代码是普通的函数定义和执行，按流程分别执行两个函数中的代码，并先后会输出：1、2、3、4。\n",
    "但如果介入协程技术那么就可以实现函数见代码切换执行，最终输入：1、3、2、4 。\n",
    "\n",
    "在Python中有多种方式可以实现协程，例如：\n",
    "\n",
    "greenlet，是一个第三方模块，用于实现协程代码（Gevent协程就是基于greenlet实现）\n",
    "yield，生成器，借助生成器的特点也可以实现协程代码。\n",
    "asyncio，在Python3.4中引入的模块用于编写协程代码。\n",
    "async & awiat，在Python3.5中引入的两个关键字，结合asyncio模块可以更方便的编写协程代码。\n",
    "\"\"\""
   ]
  },
  {
   "cell_type": "code",
   "execution_count": 4,
   "metadata": {},
   "outputs": [
    {
     "name": "stdout",
     "output_type": "stream",
     "text": [
      "Collecting greenlet\n",
      "  Downloading greenlet-0.4.15-cp37-cp37m-manylinux1_x86_64.whl (42 kB)\n",
      "\u001b[K     |████████████████████████████████| 42 kB 27 kB/s eta 0:00:01\n",
      "\u001b[?25hInstalling collected packages: greenlet\n",
      "Successfully installed greenlet-0.4.15\n"
     ]
    }
   ],
   "source": [
    "!pip3 install greenlet"
   ]
  },
  {
   "cell_type": "code",
   "execution_count": 5,
   "metadata": {},
   "outputs": [
    {
     "name": "stdout",
     "output_type": "stream",
     "text": [
      "1\n",
      "3\n",
      "2\n",
      "4\n"
     ]
    }
   ],
   "source": [
    "# 1.1 greenlet\n",
    "\n",
    "from greenlet import greenlet\n",
    "\n",
    "def func1():\n",
    "    print(1)         # tep 2：输出 1\n",
    "    gr2.switch()     # tep 3：切换到 func2\n",
    "    print(2)         # tep 6：输出2\n",
    "    gr2.switch()     # tep 7：切换到 func2\n",
    "\n",
    "def func2():\n",
    "    print(3)         # tep 4：输出 3\n",
    "    gr1.switch()     # tep 5：切换到 func1\n",
    "    print(4)         # tep 8：输出 4\n",
    "    \n",
    "gr1 = greenlet(func1)\n",
    "gr2 = greenlet(func2)\n",
    "gr1.switch()  # tep 1: 执行 func1 函数"
   ]
  },
  {
   "cell_type": "code",
   "execution_count": 6,
   "metadata": {},
   "outputs": [
    {
     "name": "stdout",
     "output_type": "stream",
     "text": [
      "1\n",
      "3\n",
      "4\n",
      "2\n"
     ]
    }
   ],
   "source": [
    "# 1.2 yield\n",
    "# 基于Python的生成器的yield和yield form关键字实现协程代码。\n",
    "# 注意：yield form关键字是在Python3.3中引入的。\n",
    "\n",
    "def func1():\n",
    "    yield 1\n",
    "    yield from func2()\n",
    "    yield 2\n",
    "    \n",
    "def func2():\n",
    "    yield 3\n",
    "    yield 4\n",
    "    \n",
    "\n",
    "f1 = func1()\n",
    "for item in f1:\n",
    "    print(item)"
   ]
  },
  {
   "cell_type": "code",
   "execution_count": 7,
   "metadata": {},
   "outputs": [
    {
     "name": "stdout",
     "output_type": "stream",
     "text": [
      "Collecting asyncio\n",
      "  Downloading asyncio-3.4.3-py3-none-any.whl (101 kB)\n",
      "\u001b[K     |████████████████████████████████| 101 kB 30 kB/s ta 0:00:01\n",
      "\u001b[?25hInstalling collected packages: asyncio\n",
      "Successfully installed asyncio-3.4.3\n"
     ]
    }
   ],
   "source": [
    "!pip3 install asyncio"
   ]
  },
  {
   "cell_type": "code",
   "execution_count": 15,
   "metadata": {},
   "outputs": [
    {
     "name": "stdout",
     "output_type": "stream",
     "text": [
      "Collecting nest_asyncio\n",
      "  Downloading nest_asyncio-1.3.3-py3-none-any.whl (4.7 kB)\n",
      "Installing collected packages: nest-asyncio\n",
      "Successfully installed nest-asyncio-1.3.3\n"
     ]
    }
   ],
   "source": [
    "!pip3 install nest_asyncio"
   ]
  },
  {
   "cell_type": "code",
   "execution_count": 20,
   "metadata": {},
   "outputs": [
    {
     "name": "stdout",
     "output_type": "stream",
     "text": [
      "1\n",
      "3\n",
      "2\n",
      "4\n"
     ]
    },
    {
     "data": {
      "text/plain": [
       "({<Task finished coro=<func1() done, defined at <ipython-input-20-758f89ec211e>:8> result=None>,\n",
       "  <Task finished coro=<func2() done, defined at <ipython-input-20-758f89ec211e>:15> result=None>},\n",
       " set())"
      ]
     },
     "execution_count": 20,
     "metadata": {},
     "output_type": "execute_result"
    }
   ],
   "source": [
    "# 1.3 \n",
    "# 在Python3.4之前官方未提供协程的类库，一般大家都是使用greenlet等其他来实现。在Python3.4发布后官方正式支持协程，即：asyncio模块。\n",
    "\n",
    "import asyncio\n",
    "import nest_asyncio\n",
    "nest_asyncio.apply()\n",
    "\n",
    "@asyncio.coroutine\n",
    "def func1():\n",
    "    print(1)\n",
    "    yield from asyncio.sleep(2)   # 遇到IO耗时操作，自动化切换到tasks中的其他任务\n",
    "    print(2)\n",
    "    \n",
    "    \n",
    "@asyncio.coroutine\n",
    "def func2():\n",
    "    print(3)\n",
    "    yield from asyncio.sleep(2)   # 遇到IO耗时操作，自动化切换到tasks中的其他任务\n",
    "    print(4)\n",
    "    \n",
    "    \n",
    "tasks = [\n",
    "    asyncio.ensure_future( func1() ),\n",
    "    asyncio.ensure_future( func2() )\n",
    "]\n",
    "\n",
    "loop = asyncio.get_event_loop()\n",
    "loop.run_until_complete(asyncio.wait(tasks))"
   ]
  },
  {
   "cell_type": "code",
   "execution_count": 19,
   "metadata": {},
   "outputs": [
    {
     "name": "stdout",
     "output_type": "stream",
     "text": [
      "1\n",
      "3\n",
      "2\n",
      "4\n"
     ]
    },
    {
     "data": {
      "text/plain": [
       "({<Task finished coro=<func1() done, defined at <ipython-input-19-d387130df2d7>:10> result=None>,\n",
       "  <Task finished coro=<func2() done, defined at <ipython-input-19-d387130df2d7>:15> result=None>},\n",
       " set())"
      ]
     },
     "execution_count": 19,
     "metadata": {},
     "output_type": "execute_result"
    }
   ],
   "source": [
    "# 1.4 async & await\n",
    "# async & awit 关键字在Python3.5版本中正式引入，基于他编写的协程代码其实就是 上一示例 的加强版，让代码可以更加简便。\n",
    "# Python3.8之后 @asyncio.coroutine 装饰器就会被移除，推荐使用async & awit 关键字实现协程代码。\n",
    "\n",
    "import nest_asyncio\n",
    "nest_asyncio.apply()\n",
    "# import asyncio\n",
    "\n",
    "\n",
    "async def func1():\n",
    "    print(1)\n",
    "    await asyncio.sleep(2)\n",
    "    print(2)\n",
    "    \n",
    "async def func2():\n",
    "    print(3)\n",
    "    await asyncio.sleep(2)\n",
    "    print(4)\n",
    "    \n",
    "tasks = [\n",
    "    asyncio.ensure_future(func1()),\n",
    "    asyncio.ensure_future(func2())\n",
    "]\n",
    "\n",
    "loop = asyncio.get_event_loop()\n",
    "loop.run_until_complete(asyncio.wait(tasks))"
   ]
  },
  {
   "cell_type": "code",
   "execution_count": 21,
   "metadata": {},
   "outputs": [
    {
     "name": "stdout",
     "output_type": "stream",
     "text": [
      "Collecting requests\n",
      "  Downloading requests-2.23.0-py2.py3-none-any.whl (58 kB)\n",
      "\u001b[K     |████████████████████████████████| 58 kB 18 kB/s eta 0:00:01\n",
      "\u001b[?25hCollecting chardet<4,>=3.0.2\n",
      "  Downloading chardet-3.0.4-py2.py3-none-any.whl (133 kB)\n",
      "\u001b[K     |████████████████████████████████| 133 kB 12 kB/s eta 0:00:01\n",
      "\u001b[?25hCollecting urllib3!=1.25.0,!=1.25.1,<1.26,>=1.21.1\n",
      "  Downloading urllib3-1.25.9-py2.py3-none-any.whl (126 kB)\n",
      "\u001b[K     |████████████████████████████████| 126 kB 6.8 kB/s ta 0:00:01\n",
      "\u001b[?25hCollecting idna<3,>=2.5\n",
      "  Downloading idna-2.9-py2.py3-none-any.whl (58 kB)\n",
      "\u001b[K     |████████████████████████████████| 58 kB 9.8 kB/s eta 0:00:01\n",
      "\u001b[?25hCollecting certifi>=2017.4.17\n",
      "  Downloading certifi-2020.4.5.1-py2.py3-none-any.whl (157 kB)\n",
      "\u001b[K     |████████████████████████████████| 157 kB 10 kB/s eta 0:00:01\n",
      "\u001b[?25hInstalling collected packages: chardet, urllib3, idna, certifi, requests\n",
      "Successfully installed certifi-2020.4.5.1 chardet-3.0.4 idna-2.9 requests-2.23.0 urllib3-1.25.9\n"
     ]
    }
   ],
   "source": [
    "# 2.1 爬虫案例\n",
    "\n",
    "# 方式一：同步编程实现\n",
    "!pip3 install requests"
   ]
  },
  {
   "cell_type": "code",
   "execution_count": null,
   "metadata": {},
   "outputs": [],
   "source": [
    "\"\"\"\n",
    "下载图片使用第三方模块requests，请提前安装：pip3 install requests\n",
    "\"\"\"\n",
    "import requests\n",
    "def download_image(url):\n",
    "    print(\"开始下载:\",url)\n",
    "    # 发送网络请求，下载图片\n",
    "    response = requests.get(url)\n",
    "    print(\"下载完成\")\n",
    "    # 图片保存到本地文件\n",
    "    file_name = url.rsplit('_')[-1]\n",
    "    with open(file_name, mode='wb') as file_object:\n",
    "        file_object.write(response.content)\n",
    "if __name__ == '__main__':\n",
    "    url_list = [\n",
    "        'https://www3.autoimg.cn/newsdfs/g26/M02/35/A9/120x90_0_autohomecar__ChsEe12AXQ6AOOH_AAFocMs8nzU621.jpg',\n",
    "        'https://www2.autoimg.cn/newsdfs/g30/M01/3C/E2/120x90_0_autohomecar__ChcCSV2BBICAUntfAADjJFd6800429.jpg',\n",
    "        'https://www3.autoimg.cn/newsdfs/g26/M0B/3C/65/120x90_0_autohomecar__ChcCP12BFCmAIO83AAGq7vK0sGY193.jpg'\n",
    "    ]\n",
    "    for item in url_list:\n",
    "        download_image(item)"
   ]
  },
  {
   "cell_type": "code",
   "execution_count": 22,
   "metadata": {},
   "outputs": [
    {
     "name": "stdout",
     "output_type": "stream",
     "text": [
      "Collecting aiohttp\n",
      "  Downloading aiohttp-3.6.2-cp37-cp37m-manylinux1_x86_64.whl (1.2 MB)\n",
      "\u001b[K     |████████████████████████████████| 1.2 MB 14 kB/s eta 0:00:010\n",
      "\u001b[?25hCollecting yarl<2.0,>=1.0\n",
      "  Downloading yarl-1.4.2-cp37-cp37m-manylinux1_x86_64.whl (256 kB)\n",
      "\u001b[K     |████████████████████████████████| 256 kB 15 kB/s eta 0:00:01\n",
      "\u001b[?25hRequirement already satisfied: attrs>=17.3.0 in /usr/local/python3/lib/python3.7/site-packages (from aiohttp) (19.3.0)\n",
      "Collecting multidict<5.0,>=4.5\n",
      "  Downloading multidict-4.7.6-cp37-cp37m-manylinux1_x86_64.whl (149 kB)\n",
      "\u001b[K     |████████████████████████████████| 149 kB 20 kB/s eta 0:00:01\n",
      "\u001b[?25hCollecting async-timeout<4.0,>=3.0\n",
      "  Downloading async_timeout-3.0.1-py3-none-any.whl (8.2 kB)\n",
      "Requirement already satisfied: chardet<4.0,>=2.0 in /usr/local/python3/lib/python3.7/site-packages (from aiohttp) (3.0.4)\n",
      "Requirement already satisfied: idna>=2.0 in /usr/local/python3/lib/python3.7/site-packages (from yarl<2.0,>=1.0->aiohttp) (2.9)\n",
      "Installing collected packages: multidict, yarl, async-timeout, aiohttp\n",
      "Successfully installed aiohttp-3.6.2 async-timeout-3.0.1 multidict-4.7.6 yarl-1.4.2\n"
     ]
    }
   ],
   "source": [
    "!pip3 install aiohttp"
   ]
  },
  {
   "cell_type": "code",
   "execution_count": null,
   "metadata": {},
   "outputs": [],
   "source": [
    "# 方法二：基于协程的异步实现\n",
    "#!/usr/bin/env python\n",
    "# -*- coding:utf-8 -*-\n",
    "import aiohttp\n",
    "import asyncio\n",
    "async def fetch(session, url):\n",
    "    print(\"发送请求：\", url)\n",
    "    async with session.get(url, verify_ssl=False) as response:\n",
    "        content = await response.content.read()\n",
    "        file_name = url.rsplit('_')[-1]\n",
    "        with open(file_name, mode='wb') as file_object:\n",
    "            file_object.write(content)\n",
    "async def main():\n",
    "    async with aiohttp.ClientSession() as session:\n",
    "        url_list = [\n",
    "            'https://www3.autoimg.cn/newsdfs/g26/M02/35/A9/120x90_0_autohomecar__ChsEe12AXQ6AOOH_AAFocMs8nzU621.jpg',\n",
    "            'https://www2.autoimg.cn/newsdfs/g30/M01/3C/E2/120x90_0_autohomecar__ChcCSV2BBICAUntfAADjJFd6800429.jpg',\n",
    "            'https://www3.autoimg.cn/newsdfs/g26/M0B/3C/65/120x90_0_autohomecar__ChcCP12BFCmAIO83AAGq7vK0sGY193.jpg'\n",
    "        ]\n",
    "        tasks = [asyncio.create_task(fetch(session, url)) for url in url_list]\n",
    "        await asyncio.wait(tasks)\n",
    "if __name__ == '__main__':\n",
    "    asyncio.run(main())"
   ]
  },
  {
   "cell_type": "code",
   "execution_count": null,
   "metadata": {},
   "outputs": [],
   "source": [
    "\"\"\"\n",
    "3 异步编程\n",
    "\"\"\"\n",
    "# 3.1 事件循环\n",
    "# 伪代码\n",
    "任务列表 = [ 任务1, 任务2, 任务3,... ]\n",
    "while True:\n",
    "    可执行的任务列表，已完成的任务列表 = 去任务列表中检查所有的任务，将'可执行'和'已完成'的任务返回\n",
    "    for 就绪任务 in 已准备就绪的任务列表:\n",
    "        执行已就绪的任务\n",
    "    for 已完成的任务 in 已完成的任务列表:\n",
    "        在任务列表中移除 已完成的任务\n",
    "    如果 任务列表 中的任务都已完成，则终止循环\n",
    "    \n",
    "    \n",
    "# 在编写程序时候可以通过如下代码来获取和创建事件循环。\n",
    "\n",
    "import asyncio\n",
    "\n",
    "loop = asyncio.get_event_loop()"
   ]
  },
  {
   "cell_type": "code",
   "execution_count": 23,
   "metadata": {},
   "outputs": [
    {
     "name": "stdout",
     "output_type": "stream",
     "text": [
      "协程内部代码\n"
     ]
    }
   ],
   "source": [
    "# 3.2.1 基本应用\n",
    "# 程序中，如果想要执行协程函数的内部代码，需要 事件循环 和 协程对象 配合才能实现，如：\n",
    "import nest_asyncio\n",
    "nest_asyncio.apply()\n",
    "# import asyncio\n",
    "\n",
    "async def func():\n",
    "    print(\"协程内部代码\")\n",
    "# 调用协程函数，返回一个协程对象。\n",
    "result = func()\n",
    "# 方式一\n",
    "# loop = asyncio.get_event_loop() # 创建一个事件循环\n",
    "# loop.run_until_complete(result) # 将协程当做任务提交到事件循环的任务列表中，协程执行完成之后终止。\n",
    "# 方式二\n",
    "# 本质上方式一是一样的，内部先 创建事件循环 然后执行 run_until_complete，一个简便的写法。\n",
    "# asyncio.run 函数在 Python 3.7 中加入 asyncio 模块，\n",
    "asyncio.run(result)"
   ]
  },
  {
   "cell_type": "code",
   "execution_count": 26,
   "metadata": {},
   "outputs": [
    {
     "name": "stdout",
     "output_type": "stream",
     "text": [
      "执行协程函数内部代码\n",
      "IO 请求结束， 结果为：None\n"
     ]
    }
   ],
   "source": [
    "# 3.2.2 \n",
    "# await是一个只能在协程函数中使用的关键字，用于遇到IO操作时挂起 当前协程（任务），当前协程（任务）挂起过程中 事件循环可以去执行其他的协程（任务），\n",
    "# 当前协程IO处理完成时，可以再次切换回来执行await之后的代码。代码如下：\n",
    "\n",
    "# 示例 一\n",
    "import nest_asyncio\n",
    "nest_asyncio.apply()\n",
    "# import asyncio\n",
    "\n",
    "async def func():\n",
    "    print(\"执行协程函数内部代码\")\n",
    "    \n",
    "    # 遇到 IO 操作挂起当前协程(任务)， 等 IO 操作完成之后再继续往下执行\n",
    "    # 当前协程挂起时，事件循环可以去执行其他协程(任务)\n",
    "    \n",
    "    response = await asyncio.sleep(2)\n",
    "    \n",
    "    print(f\"IO 请求结束， 结果为：{response}\")\n",
    "\n",
    "result = func()\n",
    "\n",
    "asyncio.run(result)"
   ]
  },
  {
   "cell_type": "code",
   "execution_count": 27,
   "metadata": {},
   "outputs": [
    {
     "name": "stdout",
     "output_type": "stream",
     "text": [
      "执行协程函数内部代码\n",
      "start\n",
      "end\n",
      "IO请求结束，结果为： 返回值\n"
     ]
    }
   ],
   "source": [
    "# 示例 二\n",
    "import nest_asyncio\n",
    "nest_asyncio.apply()\n",
    "# import asyncio\n",
    "\n",
    "async def others():\n",
    "    print(\"start\")\n",
    "    await asyncio.sleep(2)\n",
    "    print('end')\n",
    "    return '返回值'\n",
    "\n",
    "async def func():\n",
    "    print(\"执行协程函数内部代码\")\n",
    "    # 遇到IO操作挂起当前协程（任务），等IO操作完成之后再继续往下执行。当前协程挂起时，事件循环可以去执行其他协程（任务）。\n",
    "    response = await others()\n",
    "    print(\"IO请求结束，结果为：\", response)\n",
    "    \n",
    "asyncio.run(func())"
   ]
  },
  {
   "cell_type": "code",
   "execution_count": 28,
   "metadata": {},
   "outputs": [
    {
     "name": "stdout",
     "output_type": "stream",
     "text": [
      "执行协程函数内部代码\n",
      "start\n",
      "end\n",
      "IO请求结束，结果为： 返回值\n",
      "start\n",
      "end\n",
      "IO请求结束，结果为： 返回值\n"
     ]
    }
   ],
   "source": [
    "# 示例 三\n",
    "import nest_asyncio\n",
    "nest_asyncio.apply()\n",
    "# import asyncio\n",
    "\n",
    "async def others():\n",
    "    print(\"start\")\n",
    "    await asyncio.sleep(2)\n",
    "    print('end')\n",
    "    return '返回值'\n",
    "\n",
    "async def func():\n",
    "    print(\"执行协程函数内部代码\")\n",
    "    # 遇到IO操作挂起当前协程（任务），等IO操作完成之后再继续往下执行。当前协程挂起时，事件循环可以去执行其他协程（任务）。\n",
    "    response1 = await others()\n",
    "    print(\"IO请求结束，结果为：\", response1)\n",
    "    response2 = await others()\n",
    "    print(\"IO请求结束，结果为：\", response2)\n",
    "    \n",
    "asyncio.run(func())"
   ]
  },
  {
   "cell_type": "code",
   "execution_count": null,
   "metadata": {},
   "outputs": [],
   "source": [
    "# 上述的所有示例都只是创建了一个任务，即：事件循环的任务列表中只有一个任务，所以在IO等待时无法演示切换到其他任务效果。\n",
    "\n",
    "# 在程序想要创建多个任务对象，需要使用Task对象来实现。"
   ]
  },
  {
   "cell_type": "code",
   "execution_count": null,
   "metadata": {},
   "outputs": [],
   "source": []
  }
 ],
 "metadata": {
  "kernelspec": {
   "display_name": "Python 3",
   "language": "python",
   "name": "python3"
  },
  "language_info": {
   "codemirror_mode": {
    "name": "ipython",
    "version": 3
   },
   "file_extension": ".py",
   "mimetype": "text/x-python",
   "name": "python",
   "nbconvert_exporter": "python",
   "pygments_lexer": "ipython3",
   "version": "3.7.3"
  }
 },
 "nbformat": 4,
 "nbformat_minor": 4
}
