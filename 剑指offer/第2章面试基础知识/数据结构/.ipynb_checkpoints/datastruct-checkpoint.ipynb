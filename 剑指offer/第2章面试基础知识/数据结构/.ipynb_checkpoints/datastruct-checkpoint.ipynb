{
 "cells": [
  {
   "cell_type": "code",
   "execution_count": 2,
   "metadata": {},
   "outputs": [
    {
     "data": {
      "text/plain": [
       "True"
      ]
     },
     "execution_count": 2,
     "metadata": {},
     "output_type": "execute_result"
    }
   ],
   "source": [
    "\"\"\"\n",
    "面试题3 二维数组中的查找\n",
    "题目：二维数组中，每行从左到右递增，每列从上到下递增，给出一个数，\n",
    "      判断它是否在数组中\n",
    "思路：从左下角或者右上角开始比较\n",
    "\"\"\"\n",
    "def find_integer(matrix, num):\n",
    "    \"\"\"\n",
    "    :param matrix: [[]]\n",
    "    :param num: int\n",
    "    :return: bool\n",
    "    \"\"\"\n",
    "    if not matrix:\n",
    "        return False\n",
    "    rows, cols = len(matrix), len(matrix[0])\n",
    "    row, col = rows-1, 0  # 左下角坐标\n",
    "    while row >= 0 and col <= cols - 1:  # 直到找到最右上角\n",
    "        if matrix[row][col] == num:\n",
    "            return True\n",
    "        elif matrix[row][col] > num:  # 当前索引值 大于 查找值\n",
    "            row -= 1\n",
    "        else:\n",
    "            col += 1\n",
    "    return False\n",
    "\n",
    "\n",
    "matirx_data = [[1, 2, 3], [4, 5, 6], [7, 8, 9]]\n",
    "find_integer(matirx_data, 8)\n"
   ]
  },
  {
   "cell_type": "code",
   "execution_count": 3,
   "metadata": {},
   "outputs": [
    {
     "data": {
      "text/plain": [
       "'ab20%def20%h'"
      ]
     },
     "execution_count": 3,
     "metadata": {},
     "output_type": "execute_result"
    }
   ],
   "source": [
    "\"\"\"\n",
    "面试题4 替换空格\n",
    "题目：把字符串中的空格替换成“20%”\n",
    "\"\"\"\n",
    "# 方法一：直接使用python中自带的内置函数\n",
    "str1 = 'ab def h'\n",
    "str1.replace(' ', '20%')"
   ]
  },
  {
   "cell_type": "code",
   "execution_count": 5,
   "metadata": {},
   "outputs": [
    {
     "data": {
      "text/plain": [
       "'opq20%st20%vw'"
      ]
     },
     "execution_count": 5,
     "metadata": {},
     "output_type": "execute_result"
    }
   ],
   "source": [
    "# 方法二：使用正则表达式\n",
    "import re\n",
    "str2 = 'opq st vw'\n",
    "re.sub(' ', '20%', str2)  # 正则表达式， 替换字符， 被替换字符串"
   ]
  },
  {
   "cell_type": "code",
   "execution_count": 7,
   "metadata": {},
   "outputs": [
    {
     "name": "stdout",
     "output_type": "stream",
     "text": [
      "<__main__.Node object at 0x7fd4f8b48710>\n",
      "6\n",
      "5\n",
      "4\n",
      "3\n",
      "2\n",
      "1\n",
      "####################\n",
      "6\n",
      "5\n",
      "4\n",
      "3\n",
      "2\n",
      "1\n"
     ]
    }
   ],
   "source": [
    "\"\"\"\n",
    "面试题5 从尾到头打印单链表\n",
    "\"\"\"\n",
    "class Node(object):  # 节点类\n",
    "    \n",
    "    def __init__(self, item):\n",
    "        self.item = item\n",
    "        self.next = None\n",
    "        \n",
    "\n",
    "class Link(object):  # 单链表类\n",
    "    \n",
    "    def __init__(self):\n",
    "        self.__head = None\n",
    "\n",
    "    def is_empty(self):\n",
    "        \"\"\"判断链表是否为空\"\"\"\n",
    "        return self.__head is None\n",
    "\n",
    "    def length(self):\n",
    "        \"\"\"判断链表的长度\"\"\"\n",
    "        cur = self.__head\n",
    "        count = 0\n",
    "        while cur is not None:\n",
    "            count += 1\n",
    "            cur = cur.next\n",
    "        return count\n",
    "    \n",
    "    def travel(self):\n",
    "        \"\"\"遍历列表\"\"\"\n",
    "        cur = self.__head\n",
    "        while cur is not None:\n",
    "            print(cur.item, end='\\n')\n",
    "            cur = cur.next\n",
    "            \n",
    "    def add(self, item):\n",
    "        \"\"\"头部添加\"\"\"\n",
    "        node = Node(item)\n",
    "        node.next = self.__head\n",
    "        self.__head = node\n",
    "        \n",
    "    def append(self, item):\n",
    "        \"\"\"尾部添加\"\"\"\n",
    "        node = Node(item)\n",
    "        if self.is_empty():\n",
    "            self.__head = node\n",
    "        else:\n",
    "            cur = self.__head\n",
    "            while cur.next is not None:\n",
    "                cur = cur.next\n",
    "            cur.next = node\n",
    "    \n",
    "    def insert(self, pos, item):\n",
    "        \"\"\"插入\"\"\"\n",
    "        if pos <= 0:\n",
    "            self.add(item)\n",
    "        elif pos > (self.length() - 1):\n",
    "            self.append(item)\n",
    "        else:\n",
    "            node = Node(item)\n",
    "            count = 0\n",
    "            pre = self.__head\n",
    "            while count < (pos - 1):\n",
    "                count += 1\n",
    "                pre = pre.next\n",
    "            \n",
    "            node.next = pre.next\n",
    "            pre.next = node\n",
    "            \n",
    "    def remove(self, item):\n",
    "        \"\"\"删除\"\"\"\n",
    "        cur = self.__head\n",
    "        pre = None\n",
    "        while cur is not None:\n",
    "            if cur.item == item:\n",
    "                if not pre:   # 如果第一个节点就是要删除的节点\n",
    "                    self.__head = cur.next\n",
    "                else:\n",
    "                    pre.next = cur.next\n",
    "                break \n",
    "            else:\n",
    "                pre = cur  # 后移，继续遍历\n",
    "                cur = cur.next\n",
    "                \n",
    "    def search(self, item):\n",
    "        \"\"\"判断该节点是否存在\"\"\"\n",
    "        cur = self.__head\n",
    "        while cur is not None:\n",
    "            if cur.item == item:\n",
    "                return True\n",
    "            cur = cur.next\n",
    "        return False\n",
    "    \n",
    "    \n",
    "    @staticmethod\n",
    "    def link(values):\n",
    "        \"\"\"遍历给定的列表，转换为链表\"\"\"\n",
    "        head = Node(0)\n",
    "        move = head\n",
    "        try:\n",
    "            for item in values:\n",
    "                tmp = Node(item)\n",
    "                move.next = tmp\n",
    "                move = move.next\n",
    "        except Exception as e:\n",
    "            print(e)\n",
    "        return head.next\n",
    "    \n",
    "    \n",
    "# 方法一 使用栈，可以使用列表来模拟\n",
    "def print_links(links):\n",
    "    \"\"\"\n",
    "    遍历链表，去除链表中每个节点的值，\n",
    "    放入到一个列表中，再遍历这个列表，每次抛出一个值\n",
    "    \"\"\"\n",
    "    stack = []\n",
    "    while links:\n",
    "        stack.append(links.item)\n",
    "        links = links.next\n",
    "    while stack:\n",
    "        print(stack.pop())\n",
    "\n",
    "# 方法二 使用递归\n",
    "def print_link_recursion(links):\n",
    "    \"\"\"\n",
    "    递归链表，递归到最后，抛出此节点的值\n",
    "    \"\"\"\n",
    "    if links:\n",
    "        print_link_recursion(links.next)\n",
    "        print(links.item)\n",
    "        \n",
    "        \n",
    "if __name__ == '__main__':\n",
    "    head = Link.link([1, 2, 3, 4, 5, 6])\n",
    "    print(head, end='\\n')\n",
    "    print_links(head)\n",
    "    print('#'*20, end='\\n')\n",
    "    print_link_recursion(head)\n",
    "        "
   ]
  },
  {
   "cell_type": "code",
   "execution_count": 1,
   "metadata": {},
   "outputs": [
    {
     "name": "stdout",
     "output_type": "stream",
     "text": [
      "111\n"
     ]
    }
   ],
   "source": [
    "print(111)"
   ]
  },
  {
   "cell_type": "code",
   "execution_count": null,
   "metadata": {},
   "outputs": [],
   "source": []
  }
 ],
 "metadata": {
  "kernelspec": {
   "display_name": "Python 3",
   "language": "python",
   "name": "python3"
  },
  "language_info": {
   "codemirror_mode": {
    "name": "ipython",
    "version": 3
   },
   "file_extension": ".py",
   "mimetype": "text/x-python",
   "name": "python",
   "nbconvert_exporter": "python",
   "pygments_lexer": "ipython3",
   "version": "3.7.3"
  }
 },
 "nbformat": 4,
 "nbformat_minor": 4
}
