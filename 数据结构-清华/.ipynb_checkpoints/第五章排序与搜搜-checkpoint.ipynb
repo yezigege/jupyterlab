{
 "cells": [
  {
   "cell_type": "code",
   "execution_count": 2,
   "metadata": {},
   "outputs": [
    {
     "name": "stdout",
     "output_type": "stream",
     "text": [
      "True\n",
      "False\n"
     ]
    }
   ],
   "source": [
    "# 整数有序列表的顺序搜索\n",
    "def orderSequentialSearch(alist, item):\n",
    "    pos = 0\n",
    "    found = False\n",
    "    stop = False\n",
    "    while pos < len(alist) and not found and not stop:\n",
    "        if alist[pos] == item:\n",
    "            found = True\n",
    "        else:\n",
    "            if alist[pos] > item:\n",
    "                stop = True\n",
    "            else:\n",
    "                pos += 1\n",
    "    return found\n",
    "\n",
    "testlist = [1, 2, 4, 8, 9, 13, 24, 38, 48, 67, 89, 92]\n",
    "print(orderSearch(testlist, 38))\n",
    "print(orderSearch(testlist, 57))"
   ]
  },
  {
   "cell_type": "code",
   "execution_count": null,
   "metadata": {},
   "outputs": [],
   "source": [
    "# 整数无序列表的顺序搜索\n",
    "def sequentialSearch(alist, item):\n",
    "    pos = 0\n",
    "    found = False\n",
    "    while pos < len(alist) and not found:\n",
    "        if alist[pos] == item:\n",
    "            found = True\n",
    "        else:\n",
    "            pos += 1\n",
    "    return found\n",
    "\n",
    "testlist = [1, 2, 4, 8, 9, 13, 24, 38, 48, 67, 89, 92]\n",
    "print(orderSearch(testlist, 38))\n",
    "print(orderSearch(testlist, 57))"
   ]
  },
  {
   "cell_type": "code",
   "execution_count": 4,
   "metadata": {},
   "outputs": [
    {
     "name": "stdout",
     "output_type": "stream",
     "text": [
      "True\n",
      "False\n"
     ]
    }
   ],
   "source": [
    "# 二分搜索一个整数有序表  分治法-实践\n",
    "def binarySearch(alist, item):\n",
    "    first = 0\n",
    "    last = len(alist) - 1\n",
    "    found = False\n",
    "    while first <= last and not found:\n",
    "        mid = (first + last) // 2\n",
    "        if alist[mid] == item:\n",
    "            found = True\n",
    "        else:\n",
    "            if item < alist[mid]:\n",
    "                last = mid - 1\n",
    "            else:\n",
    "                first = mid + 1\n",
    "    return found\n",
    "\n",
    "testlist = [1, 2, 4, 8, 9, 13, 24, 38, 48, 67, 89, 92]\n",
    "print(binarySearch(testlist, 38))\n",
    "print(binarySearch(testlist, 57))          "
   ]
  },
  {
   "cell_type": "code",
   "execution_count": 5,
   "metadata": {},
   "outputs": [
    {
     "name": "stdout",
     "output_type": "stream",
     "text": [
      "True\n",
      "False\n"
     ]
    }
   ],
   "source": [
    "# 二分搜索-递归版本\n",
    "def binarySearch(alist, item):\n",
    "    if len(alist) == 0:\n",
    "        return False\n",
    "    else:\n",
    "        mid = len(alist) // 2\n",
    "        if alist[mid] == item:\n",
    "            return True\n",
    "        else:\n",
    "            if item < alist[mid]:\n",
    "                return binarySearch(alist[:mid], item)\n",
    "            else:\n",
    "                return binarySearch(alist[mid+1:], item)\n",
    "\n",
    "testlist = [1, 2, 4, 8, 9, 13, 24, 38, 48, 67, 89, 92]\n",
    "print(binarySearch(testlist, 38))\n",
    "print(binarySearch(testlist, 57)) "
   ]
  },
  {
   "cell_type": "code",
   "execution_count": 8,
   "metadata": {},
   "outputs": [
    {
     "name": "stdout",
     "output_type": "stream",
     "text": [
      "3\n"
     ]
    }
   ],
   "source": [
    "# 用 ASCII 数值散列一个字符串\n",
    "def hash(astring, tablesize):\n",
    "    sum = 0\n",
    "    for pos in range(len(astring)):\n",
    "        sum = sum + ord(astring[pos]) * (pos + 1)\n",
    "    return sum % tablesize\n",
    "\n",
    "print(hash('cat', 11))"
   ]
  },
  {
   "cell_type": "code",
   "execution_count": null,
   "metadata": {},
   "outputs": [],
   "source": []
  }
 ],
 "metadata": {
  "kernelspec": {
   "display_name": "Python 3",
   "language": "python",
   "name": "python3"
  },
  "language_info": {
   "codemirror_mode": {
    "name": "ipython",
    "version": 3
   },
   "file_extension": ".py",
   "mimetype": "text/x-python",
   "name": "python",
   "nbconvert_exporter": "python",
   "pygments_lexer": "ipython3",
   "version": "3.7.3"
  }
 },
 "nbformat": 4,
 "nbformat_minor": 4
}
